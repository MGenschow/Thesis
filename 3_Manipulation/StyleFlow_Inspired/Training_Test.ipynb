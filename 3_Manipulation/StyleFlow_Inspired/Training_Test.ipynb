{
 "cells": [
  {
   "cell_type": "code",
   "execution_count": 1,
   "metadata": {},
   "outputs": [],
   "source": [
    "import platform\n",
    "import os\n",
    "if platform.system() == 'Darwin':\n",
    "    DATA_PATH = \"/Users/maltegenschow/Documents/Uni/Thesis/Data.nosync\"\n",
    "    ROOT_PATH = \"/Users/maltegenschow/Documents/Uni/Thesis/Thesis\"\n",
    "elif platform.system() == 'Linux':\n",
    "    DATA_PATH = \"/pfs/work7/workspace/scratch/tu_zxmav84-thesis/Data.nosync\"\n",
    "    ROOT_PATH = \"/pfs/work7/workspace/scratch/tu_zxmav84-thesis/Thesis\"\n",
    "\n",
    "current_wd = os.getcwd()"
   ]
  },
  {
   "cell_type": "code",
   "execution_count": 13,
   "metadata": {},
   "outputs": [],
   "source": [
    "import numpy as np\n",
    "import pickle"
   ]
  },
  {
   "cell_type": "code",
   "execution_count": 2,
   "metadata": {},
   "outputs": [],
   "source": [
    "os.chdir(f\"{ROOT_PATH}/StyleFlow\")"
   ]
  },
  {
   "cell_type": "code",
   "execution_count": 5,
   "metadata": {},
   "outputs": [
    {
     "name": "stdout",
     "output_type": "stream",
     "text": [
      "Training T : 1.0\n",
      "Traceback (most recent call last):\n",
      "  File \"/Users/maltegenschow/Documents/Uni/Thesis/Thesis/StyleFlow/train_flow.py\", line 69, in <module>\n",
      "    prior = cnf(512, args.flow_modules, args.cond_size, 1)\n",
      "  File \"/Users/maltegenschow/Documents/Uni/Thesis/Thesis/StyleFlow/module/flow.py\", line 79, in cnf\n",
      "    model = build_model(input_dim, dims, zdim, num_blocks, True).cuda()\n",
      "  File \"/Users/maltegenschow/.pyenv/versions/3.10.1/envs/master_thesis/lib/python3.10/site-packages/torch/nn/modules/module.py\", line 911, in cuda\n",
      "    return self._apply(lambda t: t.cuda(device))\n",
      "  File \"/Users/maltegenschow/.pyenv/versions/3.10.1/envs/master_thesis/lib/python3.10/site-packages/torch/nn/modules/module.py\", line 802, in _apply\n",
      "    module._apply(fn)\n",
      "  File \"/Users/maltegenschow/.pyenv/versions/3.10.1/envs/master_thesis/lib/python3.10/site-packages/torch/nn/modules/module.py\", line 802, in _apply\n",
      "    module._apply(fn)\n",
      "  File \"/Users/maltegenschow/.pyenv/versions/3.10.1/envs/master_thesis/lib/python3.10/site-packages/torch/nn/modules/module.py\", line 825, in _apply\n",
      "    param_applied = fn(param)\n",
      "  File \"/Users/maltegenschow/.pyenv/versions/3.10.1/envs/master_thesis/lib/python3.10/site-packages/torch/nn/modules/module.py\", line 911, in <lambda>\n",
      "    return self._apply(lambda t: t.cuda(device))\n",
      "  File \"/Users/maltegenschow/.pyenv/versions/3.10.1/envs/master_thesis/lib/python3.10/site-packages/torch/cuda/__init__.py\", line 293, in _lazy_init\n",
      "    raise AssertionError(\"Torch not compiled with CUDA enabled\")\n",
      "AssertionError: Torch not compiled with CUDA enabled\n"
     ]
    }
   ],
   "source": [
    "CMD = f\"python train_flow.py\"\n",
    "\n",
    "!{CMD}"
   ]
  },
  {
   "cell_type": "code",
   "execution_count": 15,
   "metadata": {},
   "outputs": [],
   "source": [
    "attributes = np.load('data/attributes.npy')\n",
    "light = np.load('data/light.npy')\n",
    "sg2latents = pickle.load(open('data/sg2latents.pickle', 'rb'))\n",
    "TSNE = np.load('data/tsne.npy')"
   ]
  }
 ],
 "metadata": {
  "kernelspec": {
   "display_name": "master_thesis",
   "language": "python",
   "name": "python3"
  },
  "language_info": {
   "codemirror_mode": {
    "name": "ipython",
    "version": 3
   },
   "file_extension": ".py",
   "mimetype": "text/x-python",
   "name": "python",
   "nbconvert_exporter": "python",
   "pygments_lexer": "ipython3",
   "version": "3.10.1"
  }
 },
 "nbformat": 4,
 "nbformat_minor": 2
}
