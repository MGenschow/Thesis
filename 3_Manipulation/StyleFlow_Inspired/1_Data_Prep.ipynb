{
 "cells": [
  {
   "cell_type": "code",
   "execution_count": 1,
   "metadata": {},
   "outputs": [],
   "source": [
    "import platform\n",
    "import os\n",
    "if platform.system() == 'Darwin':\n",
    "    DATA_PATH = \"/Users/maltegenschow/Documents/Uni/Thesis/Data.nosync\"\n",
    "    ROOT_PATH = \"/Users/maltegenschow/Documents/Uni/Thesis/Thesis\"\n",
    "elif platform.system() == 'Linux':\n",
    "    DATA_PATH = \"/pfs/work7/workspace/scratch/tu_zxmav84-thesis/Data.nosync\"\n",
    "    ROOT_PATH = \"/pfs/work7/workspace/scratch/tu_zxmav84-thesis/Thesis\"\n",
    "\n",
    "current_wd = os.getcwd()"
   ]
  },
  {
   "cell_type": "code",
   "execution_count": 2,
   "metadata": {},
   "outputs": [],
   "source": [
    "import pandas as pd\n",
    "import torch\n",
    "import numpy as np\n",
    "from tqdm import tqdm"
   ]
  },
  {
   "cell_type": "markdown",
   "metadata": {},
   "source": [
    "### Load in Metadata and Latents"
   ]
  },
  {
   "cell_type": "code",
   "execution_count": null,
   "metadata": {},
   "outputs": [],
   "source": [
    "latents = torch.load(f\"{DATA_PATH}/Models/e4e/00005_snapshot_1200/inversions/latents_dict.pt\")\n",
    "meta = pd.read_json(f\"{DATA_PATH}/Zalando_Germany_Dataset/dresses/metadata/dresses_metadata.json\").T.rename_axis('sku').reset_index()\n",
    "meta = meta[['sku', attribute]]"
   ]
  },
  {
   "cell_type": "markdown",
   "metadata": {},
   "source": [
    "### Single Attribute Data Prep"
   ]
  },
  {
   "cell_type": "code",
   "execution_count": 4,
   "metadata": {},
   "outputs": [],
   "source": [
    "attribute = 'category'\n",
    "\n",
    "if meta[attribute].isna().any():\n",
    "    # Remove observations with missing values in attribute\n",
    "    meta = meta[meta[attribute].isna() == False].reset_index()\n",
    "    # Subset latents to the cleaned metadata\n",
    "    latents = {k:v for k,v in latents.items() if k in list(meta.sku)}\n",
    "\n",
    "assert len(latents) == len(meta), \"Mismatch between latents shape and metadata shape\""
   ]
  },
  {
   "cell_type": "code",
   "execution_count": 5,
   "metadata": {},
   "outputs": [
    {
     "name": "stderr",
     "output_type": "stream",
     "text": [
      "100%|██████████| 14060/14060 [00:01<00:00, 13663.82it/s]"
     ]
    },
    {
     "name": "stdout",
     "output_type": "stream",
     "text": [
      "Latents out shape: (14060, 1, 16, 512)\n",
      "Target shape: (14060, 8, 1)\n"
     ]
    },
    {
     "name": "stderr",
     "output_type": "stream",
     "text": [
      "\n"
     ]
    }
   ],
   "source": [
    "latents_out = np.zeros([len(meta), 1, 16, 512])\n",
    "targets = np.zeros([len(meta), meta[attribute].nunique(), 1])\n",
    "\n",
    "# Get one-hot encoded array of targets\n",
    "dummies = pd.get_dummies(meta[attribute])\n",
    "attribute_order = list(dummies.columns)\n",
    "dummies = np.array(dummies)\n",
    "dummies = dummies.reshape(len(meta), -1, 1)\n",
    "\n",
    "for i in tqdm(range(len(meta))):\n",
    "    sku = meta.iloc[i].sku\n",
    "    latents_out[i, :,:,:] = latents[sku].numpy()\n",
    "    targets[i,:,:] = dummies[i,:,:]\n",
    "\n",
    "print(f\"Latents out shape: {latents_out.shape}\")\n",
    "print(f\"Target shape: {targets.shape}\")"
   ]
  },
  {
   "cell_type": "code",
   "execution_count": 6,
   "metadata": {},
   "outputs": [],
   "source": [
    "# Save Data\n",
    "base_save_dir = f\"{DATA_PATH}/Models/StyleFlow/Inputs/\"\n",
    "os.makedirs(f\"{base_save_dir}{attribute}\", exist_ok=True)\n",
    "np.save(f\"{base_save_dir}{attribute}/latents.npy\", latents_out)\n",
    "np.save(f\"{base_save_dir}{attribute}/targets.npy\", targets)"
   ]
  }
 ],
 "metadata": {
  "kernelspec": {
   "display_name": "Python 3",
   "language": "python",
   "name": "python3"
  },
  "language_info": {
   "codemirror_mode": {
    "name": "ipython",
    "version": 3
   },
   "file_extension": ".py",
   "mimetype": "text/x-python",
   "name": "python",
   "nbconvert_exporter": "python",
   "pygments_lexer": "ipython3",
   "version": "3.7.12"
  }
 },
 "nbformat": 4,
 "nbformat_minor": 2
}
