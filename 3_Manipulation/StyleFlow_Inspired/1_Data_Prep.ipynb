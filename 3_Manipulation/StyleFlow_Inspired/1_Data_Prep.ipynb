{
 "cells": [
  {
   "cell_type": "code",
   "execution_count": 1,
   "metadata": {},
   "outputs": [],
   "source": [
    "import platform\n",
    "import os\n",
    "if platform.system() == 'Darwin':\n",
    "    DATA_PATH = \"/Users/maltegenschow/Documents/Uni/Thesis/Data.nosync\"\n",
    "    ROOT_PATH = \"/Users/maltegenschow/Documents/Uni/Thesis/Thesis\"\n",
    "elif platform.system() == 'Linux':\n",
    "    DATA_PATH = \"/pfs/work7/workspace/scratch/tu_zxmav84-thesis/Data.nosync\"\n",
    "    ROOT_PATH = \"/pfs/work7/workspace/scratch/tu_zxmav84-thesis/Thesis\"\n",
    "\n",
    "current_wd = os.getcwd()"
   ]
  },
  {
   "cell_type": "code",
   "execution_count": 2,
   "metadata": {},
   "outputs": [],
   "source": [
    "import pandas as pd\n",
    "import torch\n",
    "import numpy as np\n",
    "from tqdm import tqdm\n",
    "import itertools\n",
    "import pickle"
   ]
  },
  {
   "cell_type": "markdown",
   "metadata": {},
   "source": [
    "### Load in Metadata and Latents"
   ]
  },
  {
   "cell_type": "code",
   "execution_count": null,
   "metadata": {},
   "outputs": [],
   "source": [
    "latents = torch.load(f\"{DATA_PATH}/Models/e4e/00005_snapshot_1200/inversions/latents_dict.pt\")\n",
    "meta = pd.read_json(f\"{DATA_PATH}/Zalando_Germany_Dataset/dresses/metadata/dresses_metadata.json\").T.rename_axis('sku').reset_index()"
   ]
  },
  {
   "cell_type": "markdown",
   "metadata": {},
   "source": [
    "### Single Attribute Data Prep"
   ]
  },
  {
   "cell_type": "code",
   "execution_count": null,
   "metadata": {},
   "outputs": [],
   "source": [
    "attribute = 'category'\n",
    "meta = meta[['sku', attribute]]\n",
    "if meta[attribute].isna().any():\n",
    "    # Remove observations with missing values in attribute\n",
    "    meta = meta[meta[attribute].isna() == False].reset_index()\n",
    "    # Subset latents to the cleaned metadata\n",
    "    latents = {k:v for k,v in latents.items() if k in list(meta.sku)}\n",
    "\n",
    "assert len(latents) == len(meta), \"Mismatch between latents shape and metadata shape\""
   ]
  },
  {
   "cell_type": "code",
   "execution_count": null,
   "metadata": {},
   "outputs": [],
   "source": [
    "latents_out = np.zeros([len(meta), 1, 16, 512])\n",
    "targets = np.zeros([len(meta), meta[attribute].nunique(), 1])\n",
    "\n",
    "# Get one-hot encoded array of targets\n",
    "dummies = pd.get_dummies(meta[attribute])\n",
    "attribute_order = list(dummies.columns)\n",
    "dummies = np.array(dummies)\n",
    "dummies = dummies.reshape(len(meta), -1, 1)\n",
    "\n",
    "for i in tqdm(range(len(meta))):\n",
    "    sku = meta.iloc[i].sku\n",
    "    latents_out[i, :,:,:] = latents[sku].numpy()\n",
    "    targets[i,:,:] = dummies[i,:,:]\n",
    "\n",
    "print(f\"Latents out shape: {latents_out.shape}\")\n",
    "print(f\"Target shape: {targets.shape}\")"
   ]
  },
  {
   "cell_type": "code",
   "execution_count": null,
   "metadata": {},
   "outputs": [],
   "source": [
    "# Save Data\n",
    "base_save_dir = f\"{DATA_PATH}/Models/StyleFlow/Inputs/\"\n",
    "os.makedirs(f\"{base_save_dir}{attribute}\", exist_ok=True)\n",
    "np.save(f\"{base_save_dir}{attribute}/latents.npy\", latents_out)\n",
    "np.save(f\"{base_save_dir}{attribute}/targets.npy\", targets)"
   ]
  },
  {
   "cell_type": "markdown",
   "metadata": {},
   "source": [
    "## Multi-Attribute Data Prep"
   ]
  },
  {
   "cell_type": "code",
   "execution_count": 3,
   "metadata": {},
   "outputs": [],
   "source": [
    "cats = ['category', 'sleeve_length', 'color', 'pattern']"
   ]
  },
  {
   "cell_type": "code",
   "execution_count": 4,
   "metadata": {},
   "outputs": [
    {
     "name": "stdout",
     "output_type": "stream",
     "text": [
      "There are 650 of 14060 rows with any missing value\n"
     ]
    }
   ],
   "source": [
    "latents = torch.load(f\"{DATA_PATH}/Models/e4e/00005_snapshot_1200/inversions/latents_dict.pt\")\n",
    "meta = pd.read_json(f\"{DATA_PATH}/Zalando_Germany_Dataset/dresses/metadata/dresses_metadata.json\").T.rename_axis('sku').reset_index()\n",
    "meta = meta[['sku'] + cats]\n",
    "\n",
    "# Check how many complete cases (no None in any column) there are\n",
    "print(f\"There are {meta.isna().any(axis = 1).sum()} of {meta.shape[0]} rows with any missing value\")\n",
    "# Drop non-complete rows\n",
    "meta = meta.dropna().reset_index(drop=True)"
   ]
  },
  {
   "cell_type": "code",
   "execution_count": 5,
   "metadata": {},
   "outputs": [
    {
     "name": "stdout",
     "output_type": "stream",
     "text": [
      "Length of attribute list: 48\n",
      "Shape of targets: (13410, 48, 1)\n"
     ]
    },
    {
     "name": "stderr",
     "output_type": "stream",
     "text": [
      "                                                        "
     ]
    },
    {
     "name": "stdout",
     "output_type": "stream",
     "text": [
      "Shape of latents_out: (13410, 1, 16, 512)\n"
     ]
    },
    {
     "name": "stderr",
     "output_type": "stream",
     "text": [
      "\r"
     ]
    }
   ],
   "source": [
    "# Get binary targets for all categories\n",
    "dummies = {cat:pd.get_dummies(meta[cat]) for cat in cats}\n",
    "attributes_list = [list(v.columns) for k,v in dummies.items()]\n",
    "attributes_list = list(itertools.chain(*attributes_list))\n",
    "print(f\"Length of attribute list: {len(attributes_list)}\")\n",
    "\n",
    "# Create target matrix from dummies\n",
    "dummies = [np.array(v).reshape(len(meta), -1, 1) for k,v in dummies.items()]\n",
    "targets = np.concatenate(dummies, axis = 1)\n",
    "print(f\"Shape of targets: {targets.shape}\")\n",
    "\n",
    "# Create Latents\n",
    "latents_out = np.zeros([len(meta), 1, 16, 512])\n",
    "for i in tqdm(range(len(meta)), leave = False):\n",
    "    sku = meta.iloc[i].sku\n",
    "    latents_out[i, :,:,:] = latents[sku].numpy()\n",
    "print(f\"Shape of latents_out: {latents_out.shape}\")"
   ]
  },
  {
   "cell_type": "code",
   "execution_count": 6,
   "metadata": {},
   "outputs": [],
   "source": [
    "# Save Data\n",
    "name = 'multiple'\n",
    "base_save_dir = f\"{DATA_PATH}/Models/StyleFlow/Inputs/\"\n",
    "os.makedirs(f\"{base_save_dir}{name}\", exist_ok=True)\n",
    "\n",
    "np.save(f\"{base_save_dir}{name}/latents.npy\", latents_out)\n",
    "np.save(f\"{base_save_dir}{name}/targets.npy\", targets)\n",
    "with open(f\"{base_save_dir}{name}/attributes_list.pkl\", 'wb') as f:\n",
    "    pickle.dump(attributes_list, f)\n",
    "meta.to_csv(f\"{base_save_dir}{name}/meta.csv\")"
   ]
  },
  {
   "cell_type": "markdown",
   "metadata": {},
   "source": [
    "### Check Data correctness"
   ]
  },
  {
   "cell_type": "code",
   "execution_count": 7,
   "metadata": {},
   "outputs": [],
   "source": [
    "def target_to_label(target):\n",
    "    return list(np.array(attributes_list)[np.argwhere(target.squeeze(1)==1)].squeeze(1))"
   ]
  },
  {
   "cell_type": "code",
   "execution_count": 8,
   "metadata": {},
   "outputs": [
    {
     "data": {
      "text/plain": [
       "sku              CO121C1D5-B11\n",
       "category           Shift dress\n",
       "sleeve_length      Extra short\n",
       "color                    beige\n",
       "pattern                 Floral\n",
       "Name: 2345, dtype: object"
      ]
     },
     "metadata": {},
     "output_type": "display_data"
    },
    {
     "data": {
      "text/plain": [
       "['Shift dress', 'Extra short', 'beige', 'Floral']"
      ]
     },
     "metadata": {},
     "output_type": "display_data"
    },
    {
     "data": {
      "text/plain": [
       "True"
      ]
     },
     "execution_count": 8,
     "metadata": {},
     "output_type": "execute_result"
    }
   ],
   "source": [
    "idx = 2345\n",
    "\n",
    "display(meta.iloc[idx])\n",
    "display(target_to_label(targets[idx]))\n",
    "\n",
    "np.all(latents[meta.iloc[idx].sku].numpy() == latents_out[idx])"
   ]
  }
 ],
 "metadata": {
  "kernelspec": {
   "display_name": "Python 3",
   "language": "python",
   "name": "python3"
  },
  "language_info": {
   "codemirror_mode": {
    "name": "ipython",
    "version": 3
   },
   "file_extension": ".py",
   "mimetype": "text/x-python",
   "name": "python",
   "nbconvert_exporter": "python",
   "pygments_lexer": "ipython3",
   "version": "3.7.12"
  }
 },
 "nbformat": 4,
 "nbformat_minor": 2
}
