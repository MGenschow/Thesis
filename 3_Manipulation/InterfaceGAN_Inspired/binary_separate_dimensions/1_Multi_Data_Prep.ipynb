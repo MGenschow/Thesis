{
 "cells": [
  {
   "cell_type": "markdown",
   "metadata": {},
   "source": [
    "### Purpose of the notebook: \n",
    "- In this notebook I preapre the data for the InterfaceGAN approach. \n",
    "- Since this approach only allows for binary manipulations (e.g. day dress - evening dress), I will prepare the data for all combinations of a specific attribute.\n"
   ]
  },
  {
   "cell_type": "code",
   "execution_count": 1,
   "metadata": {},
   "outputs": [],
   "source": [
    "import platform\n",
    "import os\n",
    "if platform.system() == 'Darwin':\n",
    "    DATA_PATH = \"/Users/maltegenschow/Documents/Uni/Thesis/Data.nosync\"\n",
    "    ROOT_PATH = \"/Users/maltegenschow/Documents/Uni/Thesis/Thesis\"\n",
    "elif platform.system() == 'Linux':\n",
    "    DATA_PATH = \"/pfs/work7/workspace/scratch/tu_zxmav84-thesis/Data.nosync\"\n",
    "    ROOT_PATH = \"/pfs/work7/workspace/scratch/tu_zxmav84-thesis/Thesis\"\n",
    "\n",
    "current_wd = os.getcwd()"
   ]
  },
  {
   "cell_type": "code",
   "execution_count": 2,
   "metadata": {},
   "outputs": [],
   "source": [
    "from glob import glob \n",
    "import pandas as pd\n",
    "import torch\n",
    "import numpy as np\n",
    "import itertools"
   ]
  },
  {
   "cell_type": "code",
   "execution_count": 3,
   "metadata": {},
   "outputs": [],
   "source": [
    "save_path = f\"{DATA_PATH}/Models/InterfaceGAN/Inputs/e4e_00005/\"\n",
    "latents_path = f\"{DATA_PATH}/Models/e4e/00005_snapshot_1200/inversions/latents_dict.pt\""
   ]
  },
  {
   "cell_type": "code",
   "execution_count": 4,
   "metadata": {},
   "outputs": [],
   "source": [
    "# Load in Latents\n",
    "latents = torch.load(latents_path)"
   ]
  },
  {
   "cell_type": "code",
   "execution_count": 5,
   "metadata": {},
   "outputs": [
    {
     "data": {
      "text/html": [
       "<div>\n",
       "<style scoped>\n",
       "    .dataframe tbody tr th:only-of-type {\n",
       "        vertical-align: middle;\n",
       "    }\n",
       "\n",
       "    .dataframe tbody tr th {\n",
       "        vertical-align: top;\n",
       "    }\n",
       "\n",
       "    .dataframe thead th {\n",
       "        text-align: right;\n",
       "    }\n",
       "</style>\n",
       "<table border=\"1\" class=\"dataframe\">\n",
       "  <thead>\n",
       "    <tr style=\"text-align: right;\">\n",
       "      <th></th>\n",
       "      <th>sku</th>\n",
       "      <th>name</th>\n",
       "      <th>sku_base</th>\n",
       "      <th>sku_color_code</th>\n",
       "      <th>url</th>\n",
       "      <th>brand</th>\n",
       "      <th>original_price</th>\n",
       "      <th>current_price</th>\n",
       "      <th>brand_url</th>\n",
       "      <th>category</th>\n",
       "      <th>...</th>\n",
       "      <th>fabric</th>\n",
       "      <th>fit</th>\n",
       "      <th>neckline</th>\n",
       "      <th>pattern</th>\n",
       "      <th>collar</th>\n",
       "      <th>length</th>\n",
       "      <th>shape</th>\n",
       "      <th>sleeve_length</th>\n",
       "      <th>thumbnail_url</th>\n",
       "      <th>packshot_url</th>\n",
       "    </tr>\n",
       "  </thead>\n",
       "  <tbody>\n",
       "    <tr>\n",
       "      <th>0</th>\n",
       "      <td>AN621C22S-O11</td>\n",
       "      <td>Jersey dress - brown</td>\n",
       "      <td>AN621C22S</td>\n",
       "      <td>O11</td>\n",
       "      <td>https://en.zalando.de/anna-field-shift-dress-b...</td>\n",
       "      <td>Anna Field</td>\n",
       "      <td>39.99</td>\n",
       "      <td>39.99</td>\n",
       "      <td>https://en.zalando.de/anna-field/</td>\n",
       "      <td>Shift dress</td>\n",
       "      <td>...</td>\n",
       "      <td>Jersey</td>\n",
       "      <td>Slim Fit</td>\n",
       "      <td>None</td>\n",
       "      <td>Plain</td>\n",
       "      <td>Standing collar</td>\n",
       "      <td>Calf-length</td>\n",
       "      <td>Body-hugging</td>\n",
       "      <td>Short</td>\n",
       "      <td>https://img01.ztat.net/article/spp-media-p1/fb...</td>\n",
       "      <td>https://img01.ztat.net/article/spp-media-p1/c8...</td>\n",
       "    </tr>\n",
       "    <tr>\n",
       "      <th>1</th>\n",
       "      <td>BU321C01G-K11</td>\n",
       "      <td>Jersey dress - marine/bedruckt</td>\n",
       "      <td>BU321C01G</td>\n",
       "      <td>K11</td>\n",
       "      <td>https://en.zalando.de/buffalo-jersey-dress-mar...</td>\n",
       "      <td>Buffalo</td>\n",
       "      <td>39.99</td>\n",
       "      <td>39.99</td>\n",
       "      <td>https://en.zalando.de/buffalo/</td>\n",
       "      <td>Jersey dress</td>\n",
       "      <td>...</td>\n",
       "      <td>Jersey</td>\n",
       "      <td>Regular Fit</td>\n",
       "      <td>Low-cut v-neck</td>\n",
       "      <td>Print</td>\n",
       "      <td>None</td>\n",
       "      <td>Knee-length</td>\n",
       "      <td>Fitted</td>\n",
       "      <td>Sleeveless</td>\n",
       "      <td>https://img01.ztat.net/article/spp-media-p1/50...</td>\n",
       "      <td>https://img01.ztat.net/article/spp-media-p1/17...</td>\n",
       "    </tr>\n",
       "    <tr>\n",
       "      <th>2</th>\n",
       "      <td>JY121C0TB-A11</td>\n",
       "      <td>JDYCARLA CATHINKA DRESS - Jersey dress - cloud...</td>\n",
       "      <td>JY121C0TB</td>\n",
       "      <td>A11</td>\n",
       "      <td>https://en.zalando.de/jdy-carla-cathinka-dress...</td>\n",
       "      <td>JDY</td>\n",
       "      <td>34.99</td>\n",
       "      <td>34.99</td>\n",
       "      <td>https://en.zalando.de/jacqueline-de-yong/</td>\n",
       "      <td>Jersey dress</td>\n",
       "      <td>...</td>\n",
       "      <td>None</td>\n",
       "      <td>Regular Fit</td>\n",
       "      <td>Crew neck</td>\n",
       "      <td>Plain</td>\n",
       "      <td>Standing collar</td>\n",
       "      <td>Knee-length</td>\n",
       "      <td>Flared</td>\n",
       "      <td>Short</td>\n",
       "      <td>https://img01.ztat.net/article/spp-media-p1/20...</td>\n",
       "      <td>https://img01.ztat.net/article/spp-media-p1/20...</td>\n",
       "    </tr>\n",
       "  </tbody>\n",
       "</table>\n",
       "<p>3 rows × 22 columns</p>\n",
       "</div>"
      ],
      "text/plain": [
       "             sku                                               name  \\\n",
       "0  AN621C22S-O11                               Jersey dress - brown   \n",
       "1  BU321C01G-K11                     Jersey dress - marine/bedruckt   \n",
       "2  JY121C0TB-A11  JDYCARLA CATHINKA DRESS - Jersey dress - cloud...   \n",
       "\n",
       "    sku_base sku_color_code  \\\n",
       "0  AN621C22S            O11   \n",
       "1  BU321C01G            K11   \n",
       "2  JY121C0TB            A11   \n",
       "\n",
       "                                                 url       brand  \\\n",
       "0  https://en.zalando.de/anna-field-shift-dress-b...  Anna Field   \n",
       "1  https://en.zalando.de/buffalo-jersey-dress-mar...     Buffalo   \n",
       "2  https://en.zalando.de/jdy-carla-cathinka-dress...         JDY   \n",
       "\n",
       "  original_price current_price                                  brand_url  \\\n",
       "0          39.99         39.99          https://en.zalando.de/anna-field/   \n",
       "1          39.99         39.99             https://en.zalando.de/buffalo/   \n",
       "2          34.99         34.99  https://en.zalando.de/jacqueline-de-yong/   \n",
       "\n",
       "       category  ...  fabric          fit        neckline pattern  \\\n",
       "0   Shift dress  ...  Jersey     Slim Fit            None   Plain   \n",
       "1  Jersey dress  ...  Jersey  Regular Fit  Low-cut v-neck   Print   \n",
       "2  Jersey dress  ...    None  Regular Fit       Crew neck   Plain   \n",
       "\n",
       "            collar       length         shape sleeve_length  \\\n",
       "0  Standing collar  Calf-length  Body-hugging         Short   \n",
       "1             None  Knee-length        Fitted    Sleeveless   \n",
       "2  Standing collar  Knee-length        Flared         Short   \n",
       "\n",
       "                                       thumbnail_url  \\\n",
       "0  https://img01.ztat.net/article/spp-media-p1/fb...   \n",
       "1  https://img01.ztat.net/article/spp-media-p1/50...   \n",
       "2  https://img01.ztat.net/article/spp-media-p1/20...   \n",
       "\n",
       "                                        packshot_url  \n",
       "0  https://img01.ztat.net/article/spp-media-p1/c8...  \n",
       "1  https://img01.ztat.net/article/spp-media-p1/17...  \n",
       "2  https://img01.ztat.net/article/spp-media-p1/20...  \n",
       "\n",
       "[3 rows x 22 columns]"
      ]
     },
     "execution_count": 5,
     "metadata": {},
     "output_type": "execute_result"
    }
   ],
   "source": [
    "# Import metadata\n",
    "meta = pd.read_json(f'{DATA_PATH}/Zalando_Germany_Dataset/dresses/metadata/dresses_metadata.json').T.reset_index().rename(columns={'index':'sku'})\n",
    "\n",
    "# Rename category \"Cocktail dress / Party dress\" to \"Cocktail dress\" to avoid problems in path definitions\n",
    "meta['category'] = meta['category'].replace('Cocktail dress / Party dress', 'Cocktail dress')\n",
    "# Rename \"3/4 length\" to \"34 length\" to avoid problems in path definitions\n",
    "meta['sleeve_length'] = meta['sleeve_length'].replace('3/4 length', '34 length')\n",
    "\n",
    "\n",
    "meta.head(3)"
   ]
  },
  {
   "cell_type": "code",
   "execution_count": 6,
   "metadata": {},
   "outputs": [],
   "source": [
    "def prepare_data(attribute:str):\n",
    "\n",
    "    # Subset to rows where the attribute is not none    \n",
    "    meta_sub = meta[meta[attribute].isnull() == False]\n",
    "\n",
    "    # Get all combinations of the attribute\n",
    "    all_combinations = list(itertools.combinations(meta_sub[attribute].unique(), 2))\n",
    "    print(f\"Found {len(all_combinations)} combinations of {attribute} attributes\")\n",
    "\n",
    "    summary_stats = {}\n",
    "    for combination in all_combinations:\n",
    "        # Subset to correct attribute values and create target data\n",
    "        subset = meta_sub[meta_sub[attribute].isin(combination)][['sku', attribute]].copy()\n",
    "        labels = {combination[0]:0, combination[1]:1}\n",
    "        subset['label'] = subset[attribute].map(labels)\n",
    "        target = np.array(subset.label).reshape(-1, 1)\n",
    "        # Subset latents\n",
    "        latents_subset = [latents[sku].squeeze(0) for sku in subset.sku]\n",
    "\n",
    "        # Save everything\n",
    "        os.makedirs(f\"{save_path}/{attribute}/{combination[0]}_{combination[1]}/\", exist_ok=True)\n",
    "\n",
    "\n",
    "\n",
    "        # Split dimensions and save\n",
    "        for i in range(16):\n",
    "            latents_subset_dim = torch.stack([elem[i,:] for elem in latents_subset])\n",
    "            assert latents_subset_dim.shape[0] == target.shape[0]\n",
    "            np.save(f\"{save_path}/{attribute}/{combination[0]}_{combination[1]}/latents_dim_{i}.npy\", latents_subset_dim)\n",
    "\n",
    "        np.save(f\"{save_path}/{attribute}/{combination[0]}_{combination[1]}/target.npy\", target)\n",
    "        subset.to_csv(f'{save_path}/{attribute}/{combination[0]}_{combination[1]}/metadata.csv', index=False)\n",
    "\n",
    "        summary_stats[combination] = {\n",
    "            'num_samples': target.shape[0],\n",
    "            'num_positives': target.sum(),\n",
    "            'num_negatives': (1 - target).sum()\n",
    "        }\n",
    "\n",
    "    # Save summary stats\n",
    "    stats = pd.DataFrame(summary_stats).T\n",
    "    stats.to_csv(f\"{save_path}/{attribute}/summary_stats.csv\")"
   ]
  },
  {
   "cell_type": "code",
   "execution_count": 7,
   "metadata": {},
   "outputs": [
    {
     "name": "stdout",
     "output_type": "stream",
     "text": [
      "Found 28 combinations of category attributes\n",
      "Found 55 combinations of sleeve_length attributes\n",
      "Found 91 combinations of color attributes\n"
     ]
    }
   ],
   "source": [
    "# attributes = ['category', 'sleeve_length', 'color']\n",
    "\n",
    "# for attribute in attributes:\n",
    "#     prepare_data(attribute)"
   ]
  },
  {
   "cell_type": "markdown",
   "metadata": {},
   "source": [
    "### Brands\n",
    "- Subset metadata to include only brands that have more than 80 images in the dataset.\n"
   ]
  },
  {
   "cell_type": "code",
   "execution_count": 7,
   "metadata": {},
   "outputs": [],
   "source": [
    "counts = meta.brand.value_counts().sort_values(ascending=False)\n",
    "subset_brands = list(counts[counts > 80].index)\n",
    "meta = meta[meta.brand.isin(subset_brands)]"
   ]
  },
  {
   "cell_type": "code",
   "execution_count": 9,
   "metadata": {},
   "outputs": [
    {
     "name": "stdout",
     "output_type": "stream",
     "text": [
      "Found 703 combinations of brand attributes\n"
     ]
    }
   ],
   "source": [
    "prepare_data('brand')"
   ]
  }
 ],
 "metadata": {
  "kernelspec": {
   "display_name": "master_thesis",
   "language": "python",
   "name": "python3"
  },
  "language_info": {
   "codemirror_mode": {
    "name": "ipython",
    "version": 3
   },
   "file_extension": ".py",
   "mimetype": "text/x-python",
   "name": "python",
   "nbconvert_exporter": "python",
   "pygments_lexer": "ipython3",
   "version": "3.10.1"
  }
 },
 "nbformat": 4,
 "nbformat_minor": 2
}
