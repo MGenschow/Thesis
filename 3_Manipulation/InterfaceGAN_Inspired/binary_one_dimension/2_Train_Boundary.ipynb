{
 "cells": [
  {
   "cell_type": "code",
   "execution_count": 1,
   "metadata": {},
   "outputs": [],
   "source": [
    "import platform\n",
    "import os\n",
    "if platform.system() == 'Darwin':\n",
    "    DATA_PATH = \"/Users/maltegenschow/Documents/Uni/Thesis/Data.nosync\"\n",
    "    ROOT_PATH = \"/Users/maltegenschow/Documents/Uni/Thesis/Thesis\"\n",
    "elif platform.system() == 'Linux':\n",
    "    DATA_PATH = \"/pfs/work7/workspace/scratch/tu_zxmav84-thesis/Data.nosync\"\n",
    "    ROOT_PATH = \"/pfs/work7/workspace/scratch/tu_zxmav84-thesis/Thesis\"\n",
    "\n",
    "current_wd = os.getcwd()"
   ]
  },
  {
   "cell_type": "code",
   "execution_count": 2,
   "metadata": {},
   "outputs": [],
   "source": [
    "import numpy as np\n",
    "from glob import glob\n",
    "import pandas as pd\n",
    "from tqdm import tqdm\n",
    "from interfacegan_utils import calculate_boundary"
   ]
  },
  {
   "cell_type": "code",
   "execution_count": 3,
   "metadata": {},
   "outputs": [],
   "source": [
    "latent_input_base_path = f\"{DATA_PATH}/Models/InterfaceGAN/Inputs/e4e_00005_concatenated/\"\n",
    "all_paths = glob(f\"{latent_input_base_path}/*/*\")\n",
    "all_paths = [path for path in all_paths if not \"summary_stats\" in path]"
   ]
  },
  {
   "cell_type": "code",
   "execution_count": 4,
   "metadata": {},
   "outputs": [
    {
     "name": "stderr",
     "output_type": "stream",
     "text": [
      "100%|██████████| 982/982 [00:00<00:00, 233426.27it/s]\n"
     ]
    }
   ],
   "source": [
    "for path in tqdm(all_paths):\n",
    "    out_dir = path.replace('Inputs', 'Outputs')\n",
    "    if os.path.exists(out_dir):\n",
    "        continue\n",
    "\n",
    "    else:\n",
    "        accuracies = []\n",
    "        os.makedirs(out_dir, exist_ok=True)\n",
    "        latent_codes_path = f\"{path}/latents_concatenated.npy\"\n",
    "        scores_path = f\"{path}/target.npy\"\n",
    "        out_name = f'boundary_dim.npy'\n",
    "        acc = calculate_boundary(out_dir, out_name, latent_codes_path, scores_path)\n",
    "        accuracies.append(acc)\n",
    "\n",
    "        # save result\n",
    "        attribute = path.split('/')[-2]\n",
    "        values = path.split('/')[-1].split('_')\n",
    "\n",
    "        # Crate dataframe with columns 'attribute', 'value1, 'value2', 'accuracy1', 'accuracy2', ...\n",
    "        result = pd.DataFrame(columns=['attribute'] + ['neg_class', 'pos_class'] + ['acc'])\n",
    "        result.loc[0] = [attribute] + values + accuracies\n",
    "        result.to_csv(f\"{out_dir}/summary_stats.csv\", index=False)"
   ]
  },
  {
   "cell_type": "code",
   "execution_count": 5,
   "metadata": {},
   "outputs": [
    {
     "data": {
      "text/html": [
       "<div>\n",
       "<style scoped>\n",
       "    .dataframe tbody tr th:only-of-type {\n",
       "        vertical-align: middle;\n",
       "    }\n",
       "\n",
       "    .dataframe tbody tr th {\n",
       "        vertical-align: top;\n",
       "    }\n",
       "\n",
       "    .dataframe thead th {\n",
       "        text-align: right;\n",
       "    }\n",
       "</style>\n",
       "<table border=\"1\" class=\"dataframe\">\n",
       "  <thead>\n",
       "    <tr style=\"text-align: right;\">\n",
       "      <th></th>\n",
       "      <th>attribute</th>\n",
       "      <th>neg_class</th>\n",
       "      <th>pos_class</th>\n",
       "      <th>acc</th>\n",
       "    </tr>\n",
       "  </thead>\n",
       "  <tbody>\n",
       "    <tr>\n",
       "      <th>0</th>\n",
       "      <td>sleeve_length</td>\n",
       "      <td>Sleeveless</td>\n",
       "      <td>Elbow length</td>\n",
       "      <td>0.998008</td>\n",
       "    </tr>\n",
       "    <tr>\n",
       "      <th>0</th>\n",
       "      <td>sleeve_length</td>\n",
       "      <td>Extra short</td>\n",
       "      <td>Elbow length</td>\n",
       "      <td>0.997722</td>\n",
       "    </tr>\n",
       "    <tr>\n",
       "      <th>0</th>\n",
       "      <td>sleeve_length</td>\n",
       "      <td>34 length</td>\n",
       "      <td>Mixed</td>\n",
       "      <td>0.979920</td>\n",
       "    </tr>\n",
       "    <tr>\n",
       "      <th>0</th>\n",
       "      <td>sleeve_length</td>\n",
       "      <td>Mixed</td>\n",
       "      <td>Extra long</td>\n",
       "      <td>0.968468</td>\n",
       "    </tr>\n",
       "    <tr>\n",
       "      <th>0</th>\n",
       "      <td>sleeve_length</td>\n",
       "      <td>Extra short</td>\n",
       "      <td>Strapless</td>\n",
       "      <td>0.985240</td>\n",
       "    </tr>\n",
       "    <tr>\n",
       "      <th>...</th>\n",
       "      <td>...</td>\n",
       "      <td>...</td>\n",
       "      <td>...</td>\n",
       "      <td>...</td>\n",
       "    </tr>\n",
       "    <tr>\n",
       "      <th>0</th>\n",
       "      <td>pattern</td>\n",
       "      <td>Checked</td>\n",
       "      <td>Pinstriped</td>\n",
       "      <td>0.888889</td>\n",
       "    </tr>\n",
       "    <tr>\n",
       "      <th>0</th>\n",
       "      <td>pattern</td>\n",
       "      <td>Animal print</td>\n",
       "      <td>Striped</td>\n",
       "      <td>0.924603</td>\n",
       "    </tr>\n",
       "    <tr>\n",
       "      <th>0</th>\n",
       "      <td>pattern</td>\n",
       "      <td>Floral</td>\n",
       "      <td>Checked</td>\n",
       "      <td>0.973357</td>\n",
       "    </tr>\n",
       "    <tr>\n",
       "      <th>0</th>\n",
       "      <td>pattern</td>\n",
       "      <td>Plain</td>\n",
       "      <td>Print</td>\n",
       "      <td>0.952519</td>\n",
       "    </tr>\n",
       "    <tr>\n",
       "      <th>0</th>\n",
       "      <td>pattern</td>\n",
       "      <td>Animal print</td>\n",
       "      <td>Pinstriped</td>\n",
       "      <td>0.972973</td>\n",
       "    </tr>\n",
       "  </tbody>\n",
       "</table>\n",
       "<p>981 rows × 4 columns</p>\n",
       "</div>"
      ],
      "text/plain": [
       "        attribute     neg_class     pos_class       acc\n",
       "0   sleeve_length    Sleeveless  Elbow length  0.998008\n",
       "0   sleeve_length   Extra short  Elbow length  0.997722\n",
       "0   sleeve_length     34 length         Mixed  0.979920\n",
       "0   sleeve_length         Mixed    Extra long  0.968468\n",
       "0   sleeve_length   Extra short     Strapless  0.985240\n",
       "..            ...           ...           ...       ...\n",
       "0         pattern       Checked    Pinstriped  0.888889\n",
       "0         pattern  Animal print       Striped  0.924603\n",
       "0         pattern        Floral       Checked  0.973357\n",
       "0         pattern         Plain         Print  0.952519\n",
       "0         pattern  Animal print    Pinstriped  0.972973\n",
       "\n",
       "[981 rows x 4 columns]"
      ]
     },
     "execution_count": 5,
     "metadata": {},
     "output_type": "execute_result"
    }
   ],
   "source": [
    "summary_paths = glob(f\"{latent_input_base_path.replace('Inputs', 'Outputs')}/*/*/summary_stats.csv\")\n",
    "\n",
    "training_results = pd.concat([pd.read_csv(path) for path in summary_paths])\n",
    "training_results"
   ]
  }
 ],
 "metadata": {
  "kernelspec": {
   "display_name": "master_thesis",
   "language": "python",
   "name": "python3"
  },
  "language_info": {
   "codemirror_mode": {
    "name": "ipython",
    "version": 3
   },
   "file_extension": ".py",
   "mimetype": "text/x-python",
   "name": "python",
   "nbconvert_exporter": "python",
   "pygments_lexer": "ipython3",
   "version": "3.10.1"
  }
 },
 "nbformat": 4,
 "nbformat_minor": 2
}
