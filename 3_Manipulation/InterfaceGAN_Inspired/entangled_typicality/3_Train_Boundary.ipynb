{
 "cells": [
  {
   "cell_type": "code",
   "execution_count": 1,
   "metadata": {},
   "outputs": [],
   "source": [
    "import platform\n",
    "import os\n",
    "if platform.system() == 'Darwin':\n",
    "    DATA_PATH = \"/Users/maltegenschow/Documents/Uni/Thesis/Data.nosync\"\n",
    "    ROOT_PATH = \"/Users/maltegenschow/Documents/Uni/Thesis/Thesis\"\n",
    "elif platform.system() == 'Linux':\n",
    "    DATA_PATH = \"/pfs/work7/workspace/scratch/tu_zxmav84-thesis/Data.nosync\"\n",
    "    ROOT_PATH = \"/pfs/work7/workspace/scratch/tu_zxmav84-thesis/Thesis\"\n",
    "\n",
    "current_wd = os.getcwd()"
   ]
  },
  {
   "cell_type": "code",
   "execution_count": 2,
   "metadata": {},
   "outputs": [],
   "source": [
    "import numpy as np\n",
    "from glob import glob\n",
    "import pandas as pd\n",
    "from tqdm import tqdm"
   ]
  },
  {
   "cell_type": "code",
   "execution_count": 3,
   "metadata": {},
   "outputs": [],
   "source": [
    "os.chdir('../binary_one_dimension/')\n",
    "from interfacegan_utils import calculate_boundary\n",
    "os.chdir(current_wd)"
   ]
  },
  {
   "cell_type": "code",
   "execution_count": 4,
   "metadata": {},
   "outputs": [],
   "source": [
    "latent_input_base_path = f\"{DATA_PATH}/Models/InterfaceGAN/Inputs/entangled_typicality/\"\n",
    "all_paths = glob(f\"{latent_input_base_path}/*\")\n",
    "all_paths = [path for path in all_paths if not \"summary_stats\" in path]\n",
    "all_paths = [path for path in all_paths if not \"typicality_scores\" in path]"
   ]
  },
  {
   "cell_type": "code",
   "execution_count": 5,
   "metadata": {},
   "outputs": [
    {
     "name": "stderr",
     "output_type": "stream",
     "text": [
      "100%|██████████| 5/5 [00:00<00:00, 2829.78it/s]\n"
     ]
    }
   ],
   "source": [
    "for path in tqdm(all_paths):\n",
    "    out_dir = path.replace('Inputs', 'Outputs')\n",
    "    if os.path.exists(out_dir):\n",
    "        continue\n",
    "\n",
    "    else:\n",
    "        accuracies = []\n",
    "        os.makedirs(out_dir, exist_ok=True)\n",
    "        latent_codes_path = f\"{path}/latents_concatenated.npy\"\n",
    "        scores_path = f\"{path}/target.npy\"\n",
    "        out_name = f'boundary_dim.npy'\n",
    "        acc = calculate_boundary(out_dir, out_name, latent_codes_path, scores_path)\n",
    "        accuracies.append(acc)\n",
    "\n",
    "        # save result\n",
    "        n = path.split('/')[-1]\n",
    "\n",
    "        # Crate dataframe with columns 'attribute', 'value1, 'value2', 'accuracy1', 'accuracy2', ...\n",
    "        result = pd.DataFrame(columns=['n'] + ['acc'])\n",
    "        result.loc[0] = [n] + accuracies\n",
    "        result.to_csv(f\"{out_dir}/summary_stats.csv\", index=False)"
   ]
  },
  {
   "cell_type": "code",
   "execution_count": 6,
   "metadata": {},
   "outputs": [
    {
     "data": {
      "text/html": [
       "<div>\n",
       "<style scoped>\n",
       "    .dataframe tbody tr th:only-of-type {\n",
       "        vertical-align: middle;\n",
       "    }\n",
       "\n",
       "    .dataframe tbody tr th {\n",
       "        vertical-align: top;\n",
       "    }\n",
       "\n",
       "    .dataframe thead th {\n",
       "        text-align: right;\n",
       "    }\n",
       "</style>\n",
       "<table border=\"1\" class=\"dataframe\">\n",
       "  <thead>\n",
       "    <tr style=\"text-align: right;\">\n",
       "      <th></th>\n",
       "      <th>n</th>\n",
       "      <th>acc</th>\n",
       "    </tr>\n",
       "  </thead>\n",
       "  <tbody>\n",
       "    <tr>\n",
       "      <th>0</th>\n",
       "      <td>1000</td>\n",
       "      <td>0.981667</td>\n",
       "    </tr>\n",
       "    <tr>\n",
       "      <th>0</th>\n",
       "      <td>2000</td>\n",
       "      <td>0.982500</td>\n",
       "    </tr>\n",
       "    <tr>\n",
       "      <th>0</th>\n",
       "      <td>3000</td>\n",
       "      <td>0.952222</td>\n",
       "    </tr>\n",
       "    <tr>\n",
       "      <th>0</th>\n",
       "      <td>4000</td>\n",
       "      <td>0.933750</td>\n",
       "    </tr>\n",
       "    <tr>\n",
       "      <th>0</th>\n",
       "      <td>5000</td>\n",
       "      <td>0.907667</td>\n",
       "    </tr>\n",
       "  </tbody>\n",
       "</table>\n",
       "</div>"
      ],
      "text/plain": [
       "      n       acc\n",
       "0  1000  0.981667\n",
       "0  2000  0.982500\n",
       "0  3000  0.952222\n",
       "0  4000  0.933750\n",
       "0  5000  0.907667"
      ]
     },
     "execution_count": 6,
     "metadata": {},
     "output_type": "execute_result"
    }
   ],
   "source": [
    "summary_paths = glob(f\"{latent_input_base_path.replace('Inputs', 'Outputs')}/*/summary_stats.csv\")\n",
    "\n",
    "training_results = pd.concat([pd.read_csv(path) for path in summary_paths])\n",
    "training_results.sort_values('n')"
   ]
  }
 ],
 "metadata": {
  "kernelspec": {
   "display_name": "master_thesis",
   "language": "python",
   "name": "python3"
  },
  "language_info": {
   "codemirror_mode": {
    "name": "ipython",
    "version": 3
   },
   "file_extension": ".py",
   "mimetype": "text/x-python",
   "name": "python",
   "nbconvert_exporter": "python",
   "pygments_lexer": "ipython3",
   "version": "3.7.12"
  }
 },
 "nbformat": 4,
 "nbformat_minor": 2
}
