{
 "cells": [
  {
   "cell_type": "code",
   "execution_count": 1,
   "metadata": {},
   "outputs": [],
   "source": [
    "import platform\n",
    "import os\n",
    "if platform.system() == 'Darwin':\n",
    "    DATA_PATH = \"/Users/maltegenschow/Documents/Uni/Thesis/Data.nosync\"\n",
    "    ROOT_PATH = \"/Users/maltegenschow/Documents/Uni/Thesis/Thesis\"\n",
    "elif platform.system() == 'Linux':\n",
    "    DATA_PATH = \"/pfs/work7/workspace/scratch/tu_zxmav84-thesis/Data.nosync\"\n",
    "    ROOT_PATH = \"/pfs/work7/workspace/scratch/tu_zxmav84-thesis/Thesis\"\n",
    "\n",
    "current_wd = os.getcwd()"
   ]
  },
  {
   "cell_type": "code",
   "execution_count": 2,
   "metadata": {},
   "outputs": [],
   "source": [
    "import numpy as np\n",
    "from interfacegan_utils import setup_logger, train_boundary"
   ]
  },
  {
   "cell_type": "code",
   "execution_count": 3,
   "metadata": {},
   "outputs": [],
   "source": [
    "out_dir = f\"{DATA_PATH}/Models/InterfaceGAN/Outputs/e4e_00005/\"\n",
    "latent_codes_path = f\"{DATA_PATH}/Models/InterfaceGAN/Inputs/e4e_00005/latents_dim_0.npy\"\n",
    "scores_path = f\"{DATA_PATH}/Models/InterfaceGAN/Inputs/e4e_00005/target.npy\""
   ]
  },
  {
   "cell_type": "code",
   "execution_count": 4,
   "metadata": {},
   "outputs": [],
   "source": [
    "def calculate_boundary(out_dir, latent_codes_path, scores_path):\n",
    "    logger = setup_logger(\"\", logger_name=latent_codes_path)\n",
    "    logger.info('Loading latent codes.')\n",
    "    if not os.path.isfile(latent_codes_path):\n",
    "        raise ValueError(f'Latent codes `{latent_codes_path}` does not exist!')\n",
    "    latent_codes = np.load(latent_codes_path)\n",
    "\n",
    "    logger.info('Loading attribute scores.')\n",
    "    if not os.path.isfile(scores_path):\n",
    "        raise ValueError(f'Attribute scores `{scores_path}` does not exist!')\n",
    "    scores = np.load(scores_path)\n",
    "\n",
    "    boundary = train_boundary(latent_codes=latent_codes, \n",
    "                            labels=scores)\n",
    "    \n",
    "    np.save(os.path.join(out_dir, 'boundary.npy'), boundary)\n",
    "    logger.info(f'Boundary saved to `{os.path.join(out_dir, \"boundary.npy\")}`.')\n"
   ]
  },
  {
   "cell_type": "code",
   "execution_count": 5,
   "metadata": {},
   "outputs": [
    {
     "name": "stdout",
     "output_type": "stream",
     "text": [
      "[2024-06-07 15:58:06,839][INFO] Loading latent codes.\n",
      "[2024-06-07 15:58:06,843][INFO] Loading attribute scores.\n",
      "[2024-06-07 15:58:06,852][INFO] Training SVM model...\n",
      "[2024-06-07 15:58:11,391][INFO] Model training complete.\n",
      "[2024-06-07 15:58:12,649][INFO] Validation accuracy: 0.85\n",
      "[2024-06-07 15:58:12,651][INFO] Boundary saved to `/Users/maltegenschow/Documents/Uni/Thesis/Data.nosync/Models/InterfaceGAN/Outputs/e4e_00005/boundary.npy`.\n"
     ]
    }
   ],
   "source": [
    "calculate_boundary(out_dir, latent_codes_path, scores_path)"
   ]
  },
  {
   "cell_type": "code",
   "execution_count": null,
   "metadata": {},
   "outputs": [],
   "source": []
  },
  {
   "cell_type": "code",
   "execution_count": null,
   "metadata": {},
   "outputs": [],
   "source": []
  },
  {
   "cell_type": "code",
   "execution_count": null,
   "metadata": {},
   "outputs": [],
   "source": []
  }
 ],
 "metadata": {
  "kernelspec": {
   "display_name": "master_thesis",
   "language": "python",
   "name": "python3"
  },
  "language_info": {
   "codemirror_mode": {
    "name": "ipython",
    "version": 3
   },
   "file_extension": ".py",
   "mimetype": "text/x-python",
   "name": "python",
   "nbconvert_exporter": "python",
   "pygments_lexer": "ipython3",
   "version": "3.10.1"
  }
 },
 "nbformat": 4,
 "nbformat_minor": 2
}
