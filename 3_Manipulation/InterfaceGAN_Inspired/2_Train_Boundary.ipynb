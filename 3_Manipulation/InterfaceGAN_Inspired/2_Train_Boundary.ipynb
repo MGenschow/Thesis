{
 "cells": [
  {
   "cell_type": "code",
   "execution_count": 1,
   "metadata": {},
   "outputs": [],
   "source": [
    "import platform\n",
    "import os\n",
    "if platform.system() == 'Darwin':\n",
    "    DATA_PATH = \"/Users/maltegenschow/Documents/Uni/Thesis/Data.nosync\"\n",
    "    ROOT_PATH = \"/Users/maltegenschow/Documents/Uni/Thesis/Thesis\"\n",
    "elif platform.system() == 'Linux':\n",
    "    DATA_PATH = \"/pfs/work7/workspace/scratch/tu_zxmav84-thesis/Data.nosync\"\n",
    "    ROOT_PATH = \"/pfs/work7/workspace/scratch/tu_zxmav84-thesis/Thesis\"\n",
    "\n",
    "current_wd = os.getcwd()"
   ]
  },
  {
   "cell_type": "code",
   "execution_count": 2,
   "metadata": {},
   "outputs": [],
   "source": [
    "import numpy as np\n",
    "from interfacegan_utils import calculate_boundary"
   ]
  },
  {
   "cell_type": "code",
   "execution_count": 3,
   "metadata": {},
   "outputs": [
    {
     "name": "stdout",
     "output_type": "stream",
     "text": [
      "Calculating boundary for dim 0...\n",
      "Validation accuracy: 0.99\n",
      "Calculating boundary for dim 1...\n",
      "Validation accuracy: 0.99\n",
      "Calculating boundary for dim 2...\n",
      "Validation accuracy: 1.00\n",
      "Calculating boundary for dim 3...\n",
      "Validation accuracy: 1.00\n",
      "Calculating boundary for dim 4...\n",
      "Validation accuracy: 1.00\n",
      "Calculating boundary for dim 5...\n",
      "Validation accuracy: 1.00\n",
      "Calculating boundary for dim 6...\n",
      "Validation accuracy: 1.00\n",
      "Calculating boundary for dim 7...\n",
      "Validation accuracy: 1.00\n",
      "Calculating boundary for dim 8...\n",
      "Validation accuracy: 1.00\n",
      "Calculating boundary for dim 9...\n",
      "Validation accuracy: 0.99\n",
      "Calculating boundary for dim 10...\n",
      "Validation accuracy: 1.00\n",
      "Calculating boundary for dim 11...\n",
      "Validation accuracy: 0.99\n",
      "Calculating boundary for dim 12...\n",
      "Validation accuracy: 1.00\n",
      "Calculating boundary for dim 13...\n",
      "Validation accuracy: 1.00\n",
      "Calculating boundary for dim 14...\n",
      "Validation accuracy: 1.00\n",
      "Calculating boundary for dim 15...\n",
      "Validation accuracy: 1.00\n"
     ]
    }
   ],
   "source": [
    "# Define target attribute\n",
    "attribute = 'sleeve_length'\n",
    "\n",
    "for dim in range(16):\n",
    "    out_dir = f\"{DATA_PATH}/Models/InterfaceGAN/Outputs/e4e_00005/{attribute}/\"\n",
    "    os.makedirs(out_dir, exist_ok=True)\n",
    "    latent_codes_path = f\"{DATA_PATH}/Models/InterfaceGAN/Inputs/e4e_00005/{attribute}/{attribute}_latents_dim_{dim}.npy\"\n",
    "    scores_path = f\"{DATA_PATH}/Models/InterfaceGAN/Inputs/e4e_00005//{attribute}/target_{attribute}.npy\"\n",
    "    out_name = f'boundary_dim{dim}_{attribute}.npy'\n",
    "    \n",
    "    print(f\"Calculating boundary for dim {dim}...\")\n",
    "    calculate_boundary(out_dir, out_name, latent_codes_path, scores_path)"
   ]
  },
  {
   "cell_type": "code",
   "execution_count": 4,
   "metadata": {},
   "outputs": [
    {
     "name": "stdout",
     "output_type": "stream",
     "text": [
      "Calculating boundary for dim 0...\n",
      "Validation accuracy: 0.84\n",
      "Calculating boundary for dim 1...\n",
      "Validation accuracy: 0.83\n",
      "Calculating boundary for dim 2...\n",
      "Validation accuracy: 0.83\n",
      "Calculating boundary for dim 3...\n",
      "Validation accuracy: 0.85\n",
      "Calculating boundary for dim 4...\n",
      "Validation accuracy: 0.84\n",
      "Calculating boundary for dim 5...\n",
      "Validation accuracy: 0.83\n",
      "Calculating boundary for dim 6...\n",
      "Validation accuracy: 0.83\n",
      "Calculating boundary for dim 7...\n",
      "Validation accuracy: 0.85\n",
      "Calculating boundary for dim 8...\n",
      "Validation accuracy: 0.84\n",
      "Calculating boundary for dim 9...\n",
      "Validation accuracy: 0.82\n",
      "Calculating boundary for dim 10...\n",
      "Validation accuracy: 0.84\n",
      "Calculating boundary for dim 11...\n",
      "Validation accuracy: 0.83\n",
      "Calculating boundary for dim 12...\n",
      "Validation accuracy: 0.85\n",
      "Calculating boundary for dim 13...\n",
      "Validation accuracy: 0.85\n",
      "Calculating boundary for dim 14...\n",
      "Validation accuracy: 0.84\n",
      "Calculating boundary for dim 15...\n",
      "Validation accuracy: 0.84\n"
     ]
    }
   ],
   "source": [
    "# Define target attribute\n",
    "attribute = 'category'\n",
    "\n",
    "for dim in range(16):\n",
    "    out_dir = f\"{DATA_PATH}/Models/InterfaceGAN/Outputs/e4e_00005/{attribute}/\"\n",
    "    os.makedirs(out_dir, exist_ok=True)\n",
    "    latent_codes_path = f\"{DATA_PATH}/Models/InterfaceGAN/Inputs/e4e_00005/{attribute}/{attribute}_latents_dim_{dim}.npy\"\n",
    "    scores_path = f\"{DATA_PATH}/Models/InterfaceGAN/Inputs/e4e_00005//{attribute}/target_{attribute}.npy\"\n",
    "    out_name = f'boundary_dim{dim}_{attribute}.npy'\n",
    "    \n",
    "    print(f\"Calculating boundary for dim {dim}...\")\n",
    "    calculate_boundary(out_dir, out_name, latent_codes_path, scores_path)"
   ]
  },
  {
   "cell_type": "code",
   "execution_count": 5,
   "metadata": {},
   "outputs": [
    {
     "name": "stdout",
     "output_type": "stream",
     "text": [
      "Calculating boundary for dim 0...\n",
      "Validation accuracy: 0.87\n",
      "Calculating boundary for dim 1...\n",
      "Validation accuracy: 0.86\n",
      "Calculating boundary for dim 2...\n",
      "Validation accuracy: 0.86\n",
      "Calculating boundary for dim 3...\n",
      "Validation accuracy: 0.89\n",
      "Calculating boundary for dim 4...\n",
      "Validation accuracy: 0.85\n",
      "Calculating boundary for dim 5...\n",
      "Validation accuracy: 0.86\n",
      "Calculating boundary for dim 6...\n",
      "Validation accuracy: 0.84\n",
      "Calculating boundary for dim 7...\n",
      "Validation accuracy: 0.84\n",
      "Calculating boundary for dim 8...\n",
      "Validation accuracy: 0.87\n",
      "Calculating boundary for dim 9...\n",
      "Validation accuracy: 0.86\n",
      "Calculating boundary for dim 10...\n",
      "Validation accuracy: 0.86\n",
      "Calculating boundary for dim 11...\n",
      "Validation accuracy: 0.85\n",
      "Calculating boundary for dim 12...\n",
      "Validation accuracy: 0.88\n",
      "Calculating boundary for dim 13...\n",
      "Validation accuracy: 0.88\n",
      "Calculating boundary for dim 14...\n",
      "Validation accuracy: 0.88\n",
      "Calculating boundary for dim 15...\n",
      "Validation accuracy: 0.96\n"
     ]
    }
   ],
   "source": [
    "# Define target attribute\n",
    "attribute = 'color'\n",
    "\n",
    "for dim in range(16):\n",
    "    out_dir = f\"{DATA_PATH}/Models/InterfaceGAN/Outputs/e4e_00005/{attribute}/\"\n",
    "    os.makedirs(out_dir, exist_ok=True)\n",
    "    latent_codes_path = f\"{DATA_PATH}/Models/InterfaceGAN/Inputs/e4e_00005/{attribute}/{attribute}_latents_dim_{dim}.npy\"\n",
    "    scores_path = f\"{DATA_PATH}/Models/InterfaceGAN/Inputs/e4e_00005//{attribute}/target_{attribute}.npy\"\n",
    "    out_name = f'boundary_dim{dim}_{attribute}.npy'\n",
    "    \n",
    "    print(f\"Calculating boundary for dim {dim}...\")\n",
    "    calculate_boundary(out_dir, out_name, latent_codes_path, scores_path)"
   ]
  },
  {
   "cell_type": "code",
   "execution_count": null,
   "metadata": {},
   "outputs": [],
   "source": []
  }
 ],
 "metadata": {
  "kernelspec": {
   "display_name": "master_thesis",
   "language": "python",
   "name": "python3"
  },
  "language_info": {
   "codemirror_mode": {
    "name": "ipython",
    "version": 3
   },
   "file_extension": ".py",
   "mimetype": "text/x-python",
   "name": "python",
   "nbconvert_exporter": "python",
   "pygments_lexer": "ipython3",
   "version": "3.10.1"
  }
 },
 "nbformat": 4,
 "nbformat_minor": 2
}
