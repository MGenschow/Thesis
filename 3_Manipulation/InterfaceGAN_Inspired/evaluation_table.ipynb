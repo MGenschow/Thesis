{
 "cells": [
  {
   "cell_type": "code",
   "execution_count": 1,
   "metadata": {},
   "outputs": [],
   "source": [
    "from glob import glob\n",
    "import pandas as pd\n",
    "from pprint import pprint\n",
    "from tabulate import tabulate"
   ]
  },
  {
   "cell_type": "code",
   "execution_count": 2,
   "metadata": {},
   "outputs": [],
   "source": [
    "import platform\n",
    "import os\n",
    "if platform.system() == 'Darwin':\n",
    "    DATA_PATH = \"/Users/maltegenschow/Documents/Uni/Thesis/Data.nosync\"\n",
    "    ROOT_PATH = \"/Users/maltegenschow/Documents/Uni/Thesis/Thesis\"\n",
    "elif platform.system() == 'Linux':\n",
    "    DATA_PATH = \"/pfs/work7/workspace/scratch/tu_zxmav84-thesis/Data.nosync\"\n",
    "    ROOT_PATH = \"/pfs/work7/workspace/scratch/tu_zxmav84-thesis/Thesis\"\n",
    "\n",
    "current_wd = os.getcwd()"
   ]
  },
  {
   "cell_type": "markdown",
   "metadata": {},
   "source": [
    "### Short Table"
   ]
  },
  {
   "cell_type": "code",
   "execution_count": 3,
   "metadata": {},
   "outputs": [
    {
     "data": {
      "text/html": [
       "<div>\n",
       "<style scoped>\n",
       "    .dataframe tbody tr th:only-of-type {\n",
       "        vertical-align: middle;\n",
       "    }\n",
       "\n",
       "    .dataframe tbody tr th {\n",
       "        vertical-align: top;\n",
       "    }\n",
       "\n",
       "    .dataframe thead th {\n",
       "        text-align: right;\n",
       "    }\n",
       "</style>\n",
       "<table border=\"1\" class=\"dataframe\">\n",
       "  <thead>\n",
       "    <tr style=\"text-align: right;\">\n",
       "      <th></th>\n",
       "      <th>n</th>\n",
       "      <th>DINOv2</th>\n",
       "    </tr>\n",
       "  </thead>\n",
       "  <tbody>\n",
       "    <tr>\n",
       "      <th>0</th>\n",
       "      <td>3000</td>\n",
       "      <td>0.952222</td>\n",
       "    </tr>\n",
       "    <tr>\n",
       "      <th>0</th>\n",
       "      <td>1000</td>\n",
       "      <td>0.981667</td>\n",
       "    </tr>\n",
       "    <tr>\n",
       "      <th>0</th>\n",
       "      <td>2000</td>\n",
       "      <td>0.982500</td>\n",
       "    </tr>\n",
       "  </tbody>\n",
       "</table>\n",
       "</div>"
      ],
      "text/plain": [
       "      n    DINOv2\n",
       "0  3000  0.952222\n",
       "0  1000  0.981667\n",
       "0  2000  0.982500"
      ]
     },
     "execution_count": 3,
     "metadata": {},
     "output_type": "execute_result"
    }
   ],
   "source": [
    "# Read in entangled results\n",
    "entangled_paths = glob(f\"{DATA_PATH}/Models/InterfaceGAN/Outputs/entangled_typicality/*/summary_stats.csv\")\n",
    "entangled_results = pd.concat([pd.read_csv(path) for path in entangled_paths])\n",
    "entangled_results = entangled_results[entangled_results.n .isin([1000,2000,3000])]\n",
    "entangled_results.rename(columns= {'acc':'DINOv2'}, inplace=True)\n",
    "entangled_results"
   ]
  },
  {
   "cell_type": "code",
   "execution_count": 4,
   "metadata": {},
   "outputs": [
    {
     "data": {
      "text/html": [
       "<div>\n",
       "<style scoped>\n",
       "    .dataframe tbody tr th:only-of-type {\n",
       "        vertical-align: middle;\n",
       "    }\n",
       "\n",
       "    .dataframe tbody tr th {\n",
       "        vertical-align: top;\n",
       "    }\n",
       "\n",
       "    .dataframe thead th {\n",
       "        text-align: right;\n",
       "    }\n",
       "</style>\n",
       "<table border=\"1\" class=\"dataframe\">\n",
       "  <thead>\n",
       "    <tr style=\"text-align: right;\">\n",
       "      <th></th>\n",
       "      <th>n</th>\n",
       "      <th>Excl. Color</th>\n",
       "      <th>Excl. Sleeve Length</th>\n",
       "      <th>All</th>\n",
       "    </tr>\n",
       "  </thead>\n",
       "  <tbody>\n",
       "    <tr>\n",
       "      <th>0</th>\n",
       "      <td>1000</td>\n",
       "      <td>0.996667</td>\n",
       "      <td>0.973333</td>\n",
       "      <td>1.000000</td>\n",
       "    </tr>\n",
       "    <tr>\n",
       "      <th>1</th>\n",
       "      <td>2000</td>\n",
       "      <td>0.996667</td>\n",
       "      <td>0.964167</td>\n",
       "      <td>0.993333</td>\n",
       "    </tr>\n",
       "    <tr>\n",
       "      <th>2</th>\n",
       "      <td>3000</td>\n",
       "      <td>0.997778</td>\n",
       "      <td>0.939444</td>\n",
       "      <td>0.996667</td>\n",
       "    </tr>\n",
       "  </tbody>\n",
       "</table>\n",
       "</div>"
      ],
      "text/plain": [
       "      n  Excl. Color  Excl. Sleeve Length       All\n",
       "0  1000     0.996667             0.973333  1.000000\n",
       "1  2000     0.996667             0.964167  0.993333\n",
       "2  3000     0.997778             0.939444  0.996667"
      ]
     },
     "execution_count": 4,
     "metadata": {},
     "output_type": "execute_result"
    }
   ],
   "source": [
    "# Read in disentangled results\n",
    "disentangled_paths = glob(f\"{DATA_PATH}/Models/InterfaceGAN/Outputs/disentangled_typicality/*/*/summary_stats.csv\")\n",
    "disentangled_results = pd.concat([pd.read_csv(path) for path in disentangled_paths])\n",
    "relevant_attributes = ['disentangled_concat_ex_Sleeve_Length', 'disentangled_concat_ex_Color', 'disentangled_embeddings_concat']\n",
    "disentangled_results = disentangled_results[disentangled_results.attribute.isin(relevant_attributes)]\n",
    "disentangled_results = disentangled_results.pivot(index = 'n', columns = 'attribute', values = 'acc')\n",
    "disentangled_results.reset_index(inplace=True)\n",
    "disentangled_results.columns.name = None\n",
    "\n",
    "disentangled_results.rename(columns = {\n",
    "    'disentangled_embeddings_concat':'All', \n",
    "    'disentangled_concat_ex_Color':'Excl. Color',\n",
    "    'disentangled_concat_ex_Sleeve_Length':'Excl. Sleeve Length'\n",
    "}, inplace=True)\n",
    "disentangled_results"
   ]
  },
  {
   "cell_type": "code",
   "execution_count": 5,
   "metadata": {},
   "outputs": [],
   "source": [
    "# Merge them together\n",
    "results_short = pd.merge(entangled_results, disentangled_results).sort_values('n', ascending = True)\n",
    "results_short = results_short[['n', 'DINOv2', 'All','Excl. Color','Excl. Sleeve Length']]\n",
    "results_short = results_short.round(4)"
   ]
  },
  {
   "cell_type": "code",
   "execution_count": 6,
   "metadata": {},
   "outputs": [
    {
     "name": "stdout",
     "output_type": "stream",
     "text": [
      "\\begin{tabular}{rrrrr}\n",
      "\\hline\n",
      "    n &   DINOv2 &    All &   Excl. Color &   Excl. Sleeve Length \\\\\n",
      "\\hline\n",
      " 1000 &   0.9817 & 1      &        0.9967 &                0.9733 \\\\\n",
      " 2000 &   0.9825 & 0.9933 &        0.9967 &                0.9642 \\\\\n",
      " 3000 &   0.9522 & 0.9967 &        0.9978 &                0.9394 \\\\\n",
      "\\hline\n",
      "\\end{tabular}\n"
     ]
    }
   ],
   "source": [
    "latex_table = tabulate(results_short, headers='keys', tablefmt='latex', showindex=False)\n",
    "print(latex_table)"
   ]
  },
  {
   "cell_type": "markdown",
   "metadata": {},
   "source": [
    "### Complete Tables"
   ]
  },
  {
   "cell_type": "code",
   "execution_count": 7,
   "metadata": {},
   "outputs": [
    {
     "data": {
      "text/html": [
       "<div>\n",
       "<style scoped>\n",
       "    .dataframe tbody tr th:only-of-type {\n",
       "        vertical-align: middle;\n",
       "    }\n",
       "\n",
       "    .dataframe tbody tr th {\n",
       "        vertical-align: top;\n",
       "    }\n",
       "\n",
       "    .dataframe thead th {\n",
       "        text-align: right;\n",
       "    }\n",
       "</style>\n",
       "<table border=\"1\" class=\"dataframe\">\n",
       "  <thead>\n",
       "    <tr style=\"text-align: right;\">\n",
       "      <th></th>\n",
       "      <th>attribute</th>\n",
       "      <th>Attribute 1</th>\n",
       "      <th>Attribute 2</th>\n",
       "      <th>Validation Accuracy</th>\n",
       "    </tr>\n",
       "  </thead>\n",
       "  <tbody>\n",
       "    <tr>\n",
       "      <th>0</th>\n",
       "      <td>sleeve_length</td>\n",
       "      <td>Strapless</td>\n",
       "      <td>Extra long</td>\n",
       "      <td>0.995475</td>\n",
       "    </tr>\n",
       "    <tr>\n",
       "      <th>0</th>\n",
       "      <td>sleeve_length</td>\n",
       "      <td>Elbow length</td>\n",
       "      <td>Extra long</td>\n",
       "      <td>0.987147</td>\n",
       "    </tr>\n",
       "    <tr>\n",
       "      <th>0</th>\n",
       "      <td>sleeve_length</td>\n",
       "      <td>Elbow length</td>\n",
       "      <td>Sleeveless, strapless</td>\n",
       "      <td>0.996032</td>\n",
       "    </tr>\n",
       "    <tr>\n",
       "      <th>0</th>\n",
       "      <td>sleeve_length</td>\n",
       "      <td>Sleeveless</td>\n",
       "      <td>Strapless</td>\n",
       "      <td>0.962919</td>\n",
       "    </tr>\n",
       "    <tr>\n",
       "      <th>0</th>\n",
       "      <td>sleeve_length</td>\n",
       "      <td>Mixed</td>\n",
       "      <td>Sleeveless, strapless</td>\n",
       "      <td>0.764706</td>\n",
       "    </tr>\n",
       "    <tr>\n",
       "      <th>...</th>\n",
       "      <td>...</td>\n",
       "      <td>...</td>\n",
       "      <td>...</td>\n",
       "      <td>...</td>\n",
       "    </tr>\n",
       "    <tr>\n",
       "      <th>0</th>\n",
       "      <td>color</td>\n",
       "      <td>beige</td>\n",
       "      <td>green</td>\n",
       "      <td>0.931579</td>\n",
       "    </tr>\n",
       "    <tr>\n",
       "      <th>0</th>\n",
       "      <td>color</td>\n",
       "      <td>beige</td>\n",
       "      <td>yellow</td>\n",
       "      <td>0.950845</td>\n",
       "    </tr>\n",
       "    <tr>\n",
       "      <th>0</th>\n",
       "      <td>color</td>\n",
       "      <td>brown</td>\n",
       "      <td>beige</td>\n",
       "      <td>0.902466</td>\n",
       "    </tr>\n",
       "    <tr>\n",
       "      <th>0</th>\n",
       "      <td>color</td>\n",
       "      <td>beige</td>\n",
       "      <td>black</td>\n",
       "      <td>0.987997</td>\n",
       "    </tr>\n",
       "    <tr>\n",
       "      <th>0</th>\n",
       "      <td>color</td>\n",
       "      <td>black</td>\n",
       "      <td>red</td>\n",
       "      <td>0.998172</td>\n",
       "    </tr>\n",
       "  </tbody>\n",
       "</table>\n",
       "<p>145 rows × 4 columns</p>\n",
       "</div>"
      ],
      "text/plain": [
       "        attribute   Attribute 1            Attribute 2  Validation Accuracy\n",
       "0   sleeve_length     Strapless             Extra long             0.995475\n",
       "0   sleeve_length  Elbow length             Extra long             0.987147\n",
       "0   sleeve_length  Elbow length  Sleeveless, strapless             0.996032\n",
       "0   sleeve_length    Sleeveless              Strapless             0.962919\n",
       "0   sleeve_length         Mixed  Sleeveless, strapless             0.764706\n",
       "..            ...           ...                    ...                  ...\n",
       "0           color         beige                  green             0.931579\n",
       "0           color         beige                 yellow             0.950845\n",
       "0           color         brown                  beige             0.902466\n",
       "0           color         beige                  black             0.987997\n",
       "0           color         black                    red             0.998172\n",
       "\n",
       "[145 rows x 4 columns]"
      ]
     },
     "execution_count": 7,
     "metadata": {},
     "output_type": "execute_result"
    }
   ],
   "source": [
    "# Read in entangled results\n",
    "conditional_paths = glob(f\"{DATA_PATH}/Models/InterfaceGAN/Outputs/e4e_00005_concatenated/*/*/summary_stats.csv\")\n",
    "conditional_results = pd.concat([pd.read_csv(path) for path in conditional_paths])\n",
    "conditional_results = conditional_results[conditional_results.attribute.isin(['color', 'sleeve_length'])]\n",
    "conditional_results.rename(columns= {'neg_class':'Attribute 1', 'pos_class':'Attribute 2', 'acc':'Validation Accuracy'}, inplace=True)\n",
    "conditional_results"
   ]
  },
  {
   "cell_type": "code",
   "execution_count": 28,
   "metadata": {},
   "outputs": [
    {
     "data": {
      "text/html": [
       "<div>\n",
       "<style scoped>\n",
       "    .dataframe tbody tr th:only-of-type {\n",
       "        vertical-align: middle;\n",
       "    }\n",
       "\n",
       "    .dataframe tbody tr th {\n",
       "        vertical-align: top;\n",
       "    }\n",
       "\n",
       "    .dataframe thead th {\n",
       "        text-align: right;\n",
       "    }\n",
       "</style>\n",
       "<table border=\"1\" class=\"dataframe\">\n",
       "  <thead>\n",
       "    <tr style=\"text-align: right;\">\n",
       "      <th></th>\n",
       "      <th>Color</th>\n",
       "      <th>Sleeve Length</th>\n",
       "    </tr>\n",
       "  </thead>\n",
       "  <tbody>\n",
       "    <tr>\n",
       "      <th>count</th>\n",
       "      <td>91.0000</td>\n",
       "      <td>54.0000</td>\n",
       "    </tr>\n",
       "    <tr>\n",
       "      <th>mean</th>\n",
       "      <td>0.9595</td>\n",
       "      <td>0.9673</td>\n",
       "    </tr>\n",
       "    <tr>\n",
       "      <th>std</th>\n",
       "      <td>0.0324</td>\n",
       "      <td>0.0506</td>\n",
       "    </tr>\n",
       "    <tr>\n",
       "      <th>min</th>\n",
       "      <td>0.8736</td>\n",
       "      <td>0.7647</td>\n",
       "    </tr>\n",
       "    <tr>\n",
       "      <th>25%</th>\n",
       "      <td>0.9359</td>\n",
       "      <td>0.9650</td>\n",
       "    </tr>\n",
       "    <tr>\n",
       "      <th>50%</th>\n",
       "      <td>0.9694</td>\n",
       "      <td>0.9885</td>\n",
       "    </tr>\n",
       "    <tr>\n",
       "      <th>75%</th>\n",
       "      <td>0.9859</td>\n",
       "      <td>0.9962</td>\n",
       "    </tr>\n",
       "    <tr>\n",
       "      <th>max</th>\n",
       "      <td>1.0000</td>\n",
       "      <td>1.0000</td>\n",
       "    </tr>\n",
       "  </tbody>\n",
       "</table>\n",
       "</div>"
      ],
      "text/plain": [
       "         Color  Sleeve Length\n",
       "count  91.0000        54.0000\n",
       "mean    0.9595         0.9673\n",
       "std     0.0324         0.0506\n",
       "min     0.8736         0.7647\n",
       "25%     0.9359         0.9650\n",
       "50%     0.9694         0.9885\n",
       "75%     0.9859         0.9962\n",
       "max     1.0000         1.0000"
      ]
     },
     "execution_count": 28,
     "metadata": {},
     "output_type": "execute_result"
    }
   ],
   "source": [
    "summary_stats = conditional_results.groupby('attribute')['Validation Accuracy'].describe().T\n",
    "summary_stats.columns.name = None\n",
    "summary_stats.rename(columns = {'color':'Color', 'sleeve_length':'Sleeve Length'}, inplace=True)\n",
    "summary_stats = summary_stats.round(4)\n",
    "summary_stats"
   ]
  },
  {
   "cell_type": "code",
   "execution_count": 29,
   "metadata": {},
   "outputs": [
    {
     "name": "stdout",
     "output_type": "stream",
     "text": [
      "\\begin{tabular}{lrr}\n",
      "\\hline\n",
      "       &   Color &   Sleeve Length \\\\\n",
      "\\hline\n",
      " count & 91      &         54      \\\\\n",
      " mean  &  0.9595 &          0.9673 \\\\\n",
      " std   &  0.0324 &          0.0506 \\\\\n",
      " min   &  0.8736 &          0.7647 \\\\\n",
      " 25\\%   &  0.9359 &          0.965  \\\\\n",
      " 50\\%   &  0.9694 &          0.9885 \\\\\n",
      " 75\\%   &  0.9859 &          0.9962 \\\\\n",
      " max   &  1      &          1      \\\\\n",
      "\\hline\n",
      "\\end{tabular}\n"
     ]
    }
   ],
   "source": [
    "latex_table = tabulate(summary_stats, headers='keys', tablefmt='latex', showindex=True)\n",
    "print(latex_table)"
   ]
  }
 ],
 "metadata": {
  "kernelspec": {
   "display_name": "Python 3",
   "language": "python",
   "name": "python3"
  },
  "language_info": {
   "codemirror_mode": {
    "name": "ipython",
    "version": 3
   },
   "file_extension": ".py",
   "mimetype": "text/x-python",
   "name": "python",
   "nbconvert_exporter": "python",
   "pygments_lexer": "ipython3",
   "version": "3.7.12"
  }
 },
 "nbformat": 4,
 "nbformat_minor": 2
}
