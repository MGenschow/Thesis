{
 "cells": [
  {
   "cell_type": "code",
   "execution_count": 1,
   "metadata": {},
   "outputs": [],
   "source": [
    "import platform \n",
    "import os\n",
    "if platform.system() == 'Darwin':\n",
    "    DATA_PATH = \"/Users/maltegenschow/Documents/Uni/Thesis/Data.nosync\"\n",
    "    ROOT_PATH = \"/Users/maltegenschow/Documents/Uni/Thesis/Thesis\"\n",
    "elif platform.system() == 'Linux':\n",
    "    DATA_PATH = \"/pfs/work7/workspace/scratch/tu_zxmav84-thesis/Data.nosync\"\n",
    "    ROOT_PATH = \"/pfs/work7/workspace/scratch/tu_zxmav84-thesis/Thesis\"\n",
    "\n",
    "current_wd = os.getcwd()"
   ]
  },
  {
   "cell_type": "code",
   "execution_count": 2,
   "metadata": {},
   "outputs": [],
   "source": [
    "from glob import glob \n",
    "import pandas as pd\n",
    "import torch\n",
    "import numpy as np\n",
    "import itertools\n",
    "import pickle\n",
    "import matplotlib.pyplot as plt\n",
    "import seaborn as sns\n",
    "from tqdm import tqdm"
   ]
  },
  {
   "cell_type": "code",
   "execution_count": 3,
   "metadata": {},
   "outputs": [],
   "source": [
    "save_path = f\"{DATA_PATH}/Models/InterfaceGAN/Inputs/disentangled_typicality/\"\n",
    "latents_path = f\"{DATA_PATH}/Models/e4e/00005_snapshot_1200/inversions/latents_dict.pt\""
   ]
  },
  {
   "cell_type": "code",
   "execution_count": 4,
   "metadata": {},
   "outputs": [],
   "source": [
    "# Load in Latents\n",
    "latents = torch.load(latents_path)"
   ]
  },
  {
   "cell_type": "code",
   "execution_count": 5,
   "metadata": {},
   "outputs": [],
   "source": [
    "meta = pd.read_csv('disentangled_typicality_scores.csv')"
   ]
  },
  {
   "cell_type": "code",
   "execution_count": 7,
   "metadata": {},
   "outputs": [],
   "source": [
    "def prepare_data(embedding_type):\n",
    "    summary_stats = {}\n",
    "    for n in [1000,2000,3000]:\n",
    "        upper_bound = meta[f\"{embedding_type}_typicality\"].nlargest(n).min()\n",
    "        lower_bound = meta[f\"{embedding_type}_typicality\"].nsmallest(n).max()\n",
    "\n",
    "        meta_copy = meta.copy()\n",
    "        # Assign 0/1 labels based on typicality scores\n",
    "        meta_copy.loc[meta_copy[f\"{embedding_type}_typicality\"] >= upper_bound, 'label'] = 1\n",
    "        meta_copy.loc[meta_copy[f\"{embedding_type}_typicality\"] <= lower_bound, 'label'] = 0\n",
    "\n",
    "        # Drop unlabeled samples\n",
    "        subset = meta_copy.dropna(subset=['label']).copy()\n",
    "        subset.label = subset.label.astype(int)\n",
    "\n",
    "        # Crate target\n",
    "        target = np.array(subset.label).reshape(-1, 1)\n",
    "\n",
    "        # Subset latents\n",
    "        latents_subset = [latents[sku].squeeze(0) for sku in subset.sku]\n",
    "\n",
    "\n",
    "\n",
    "        # Save everything\n",
    "        os.makedirs(f\"{save_path}/{embedding_type}/{n}/\", exist_ok=True)\n",
    "\n",
    "        # Concatenate all dimensions and save\n",
    "        latents_concatenated = torch.stack([elem.flatten() for elem in latents_subset])\n",
    "        np.save(f\"{save_path}/{embedding_type}/{n}/latents_concatenated.npy\", latents_concatenated.numpy())\n",
    "        np.save(f\"{save_path}/{embedding_type}/{n}/target.npy\", target)\n",
    "        subset.to_csv(f'{save_path}/{embedding_type}/{n}/metadata.csv', index=False)\n",
    "\n",
    "        summary_stats[n] = {\n",
    "            'num_samples': target.shape[0],\n",
    "            'num_positives': target.sum(),\n",
    "            'num_negatives': (1 - target).sum(),\n",
    "            'lower_threshhold':lower_bound, \n",
    "            'upper_threshhold':upper_bound\n",
    "        }\n",
    "\n",
    "    # Save summary stats\n",
    "    stats = pd.DataFrame(summary_stats).T\n",
    "    stats.to_csv(f\"{save_path}/summary_stats.csv\")"
   ]
  },
  {
   "cell_type": "code",
   "execution_count": 8,
   "metadata": {},
   "outputs": [
    {
     "data": {
      "text/plain": [
       "['dinov2_vitb14',\n",
       " 'disentangled_embeddings_concat',\n",
       " 'disentangled_concat_ex_Color',\n",
       " 'disentangled_concat_ex_Fabric',\n",
       " 'disentangled_concat_ex_Fit',\n",
       " 'disentangled_concat_ex_Neckline',\n",
       " 'disentangled_concat_ex_Pattern',\n",
       " 'disentangled_concat_ex_Collar',\n",
       " 'disentangled_concat_ex_Length',\n",
       " 'disentangled_concat_ex_Shape',\n",
       " 'disentangled_concat_ex_Sleeve_Length',\n",
       " 'Color',\n",
       " 'Fabric',\n",
       " 'Fit',\n",
       " 'Neckline',\n",
       " 'Pattern',\n",
       " 'Collar',\n",
       " 'Length',\n",
       " 'Shape',\n",
       " 'Sleeve_Length']"
      ]
     },
     "execution_count": 8,
     "metadata": {},
     "output_type": "execute_result"
    }
   ],
   "source": [
    "embedding_types = [elem.replace('_typicality', '') for elem in meta.filter(like = 'typicality').columns.to_list()]\n",
    "embedding_types"
   ]
  },
  {
   "cell_type": "code",
   "execution_count": 9,
   "metadata": {},
   "outputs": [
    {
     "name": "stderr",
     "output_type": "stream",
     "text": [
      "100%|██████████| 20/20 [00:30<00:00,  1.55s/it]\n"
     ]
    }
   ],
   "source": [
    "for embedding_type in tqdm(embedding_types):\n",
    "    prepare_data(embedding_type)"
   ]
  },
  {
   "cell_type": "code",
   "execution_count": null,
   "metadata": {},
   "outputs": [],
   "source": [
    "# ## Code to remove files after training has been completed\n",
    "\n",
    "# f = glob(f\"{save_path}/*/*/*.npy\")\n",
    "\n",
    "# for file in f: \n",
    "#     os.remove(file)"
   ]
  }
 ],
 "metadata": {
  "kernelspec": {
   "display_name": "master_thesis",
   "language": "python",
   "name": "python3"
  },
  "language_info": {
   "codemirror_mode": {
    "name": "ipython",
    "version": 3
   },
   "file_extension": ".py",
   "mimetype": "text/x-python",
   "name": "python",
   "nbconvert_exporter": "python",
   "pygments_lexer": "ipython3",
   "version": "3.9.18"
  }
 },
 "nbformat": 4,
 "nbformat_minor": 2
}
