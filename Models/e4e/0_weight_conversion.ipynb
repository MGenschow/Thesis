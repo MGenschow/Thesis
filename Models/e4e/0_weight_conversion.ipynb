{
 "cells": [
  {
   "cell_type": "markdown",
   "metadata": {},
   "source": [
    "### Weight Conversion: \n",
    "\n",
    "- This notebook converts the .pkl checkpoint of the official NVIDIA implementation of StyleGAN2-Ada to weights corresponding to the custom StyleGAN2 implementation by [rosinality](https://github.com/rosinality/stylegan2-pytorch) which is used in the e4e architecture and many other inversion technique implementations. \n",
    "- For this to work, one needs to load the file [export_weights.py](https://github.com/dvschultz/stylegan2-ada-pytorch/blob/main/export_weights.py) from the stylegan2-ada-pytorch fork by [dvschulz](https://github.com/dvschultz) and place it in the official stylegan2-ada-pytorch repo by NVIDIA. \n"
   ]
  },
  {
   "cell_type": "code",
   "execution_count": 1,
   "metadata": {},
   "outputs": [],
   "source": [
    "import os \n",
    "os.chdir('../../stylegan2-ada-pytorch/')"
   ]
  },
  {
   "cell_type": "code",
   "execution_count": 2,
   "metadata": {},
   "outputs": [
    {
     "name": "stdout",
     "output_type": "stream",
     "text": [
      "loading successfull\n",
      "mapping successfull\n",
      "layer conversion successfull\n"
     ]
    }
   ],
   "source": [
    "stylegan2_ada_path = \"/pfs/work7/workspace/scratch/tu_zxmav84-thesis/Data.nosync/Models/Stylegan2_Ada/Experiments/00003-stylegan2_ada_images-mirror-auto2-kimg1000-resumeffhq512/network-snapshot-000920.pkl\"\n",
    "model_save_path = \"/pfs/work7/workspace/scratch/tu_zxmav84-thesis/Data.nosync/Models/e4e/pretrained/stylegan2_ada_zalando_germany.pt\"\n",
    "\n",
    "CMD = f\"\"\"\n",
    "python export_weights.py {stylegan2_ada_path} {model_save_path}\n",
    "\"\"\"\n",
    "!{CMD}"
   ]
  }
 ],
 "metadata": {
  "kernelspec": {
   "display_name": "Python 3",
   "language": "python",
   "name": "python3"
  },
  "language_info": {
   "codemirror_mode": {
    "name": "ipython",
    "version": 3
   },
   "file_extension": ".py",
   "mimetype": "text/x-python",
   "name": "python",
   "nbconvert_exporter": "python",
   "pygments_lexer": "ipython3",
   "version": "3.7.12"
  }
 },
 "nbformat": 4,
 "nbformat_minor": 2
}
