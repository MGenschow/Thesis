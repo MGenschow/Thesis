{
 "cells": [
  {
   "cell_type": "markdown",
   "metadata": {},
   "source": [
    "### Evaluation"
   ]
  },
  {
   "cell_type": "code",
   "execution_count": 1,
   "metadata": {},
   "outputs": [],
   "source": [
    "import os\n",
    "from PIL import Image\n",
    "import torch\n",
    "import numpy as np"
   ]
  },
  {
   "cell_type": "code",
   "execution_count": 2,
   "metadata": {},
   "outputs": [],
   "source": [
    "# Define model path\n",
    "DATA_PATH = \"../../../Data.nosync/\"\n",
    "model_path = \"/pfs/work7/workspace/scratch/tu_zxmav84-thesis/Data.nosync/Models/e4e/test649437/checkpoints/iteration_0.pt\""
   ]
  },
  {
   "cell_type": "code",
   "execution_count": 3,
   "metadata": {},
   "outputs": [],
   "source": [
    "os.chdir('../../encoder4editing/')\n",
    "from utils.model_utils import setup_model, load_e4e_standalone\n",
    "from configs import data_configs, paths_config\n",
    "from utils.common import tensor2im"
   ]
  },
  {
   "cell_type": "code",
   "execution_count": 4,
   "metadata": {},
   "outputs": [
    {
     "name": "stdout",
     "output_type": "stream",
     "text": [
      "Loading e4e over the pSp framework from checkpoint: /pfs/work7/workspace/scratch/tu_zxmav84-thesis/Data.nosync/Models/e4e/test649437/checkpoints/iteration_0.pt\n"
     ]
    }
   ],
   "source": [
    "# Initialize Model\n",
    "net, opts = setup_model(model_path, device = 'cuda')\n",
    "encoder = net.encoder\n",
    "generator = net.decoder\n",
    "generator.eval()\n",
    "\n",
    "# Get transforms\n",
    "dataset_args = data_configs.DATASETS[opts.dataset_type]\n",
    "transforms_dict = dataset_args['transforms'](opts).get_transforms()"
   ]
  },
  {
   "cell_type": "code",
   "execution_count": 7,
   "metadata": {},
   "outputs": [],
   "source": [
    "def get_inversion_results(image_path):\n",
    "    # Input\n",
    "    img_orig = Image.open(image_path).convert('RGB')\n",
    "    img = transforms_dict['transform_test'](img_orig)\n",
    "    img = img.reshape(-1, 3, 256, 256)\n",
    "    img = img.to('cuda').float()\n",
    "\n",
    "    # Encoder\n",
    "    latent = encoder(img)\n",
    "\n",
    "    # Generate\n",
    "    out_img, _ = generator(latent.unsqueeze(0), input_is_latent=True, randomize_noise=False, return_latents = True)\n",
    "    reconstruction = tensor2im(out_img[0,:,:,:])\n",
    "\n",
    "    return reconstruction, latent"
   ]
  },
  {
   "cell_type": "code",
   "execution_count": null,
   "metadata": {},
   "outputs": [],
   "source": [
    "image_path = \"/pfs/work7/workspace/scratch/tu_zxmav84-thesis/Data.nosync/Zalando_Germany_Dataset/dresses/images/e4e_images/test/1KE21C009-A11.jpg\"\n",
    "get_inversion_results(image_path)"
   ]
  }
 ],
 "metadata": {
  "kernelspec": {
   "display_name": "Python 3",
   "language": "python",
   "name": "python3"
  },
  "language_info": {
   "codemirror_mode": {
    "name": "ipython",
    "version": 3
   },
   "file_extension": ".py",
   "mimetype": "text/x-python",
   "name": "python",
   "nbconvert_exporter": "python",
   "pygments_lexer": "ipython3",
   "version": "3.10.1"
  }
 },
 "nbformat": 4,
 "nbformat_minor": 2
}
