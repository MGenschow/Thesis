{
 "cells": [
  {
   "cell_type": "code",
   "execution_count": 1,
   "metadata": {},
   "outputs": [],
   "source": [
    "from glob import glob\n",
    "import numpy as np\n",
    "import os\n",
    "from PIL import Image\n",
    "from tqdm import tqdm"
   ]
  },
  {
   "cell_type": "code",
   "execution_count": 2,
   "metadata": {},
   "outputs": [],
   "source": [
    "DATA_PATH = '../../../Data.nosync/'"
   ]
  },
  {
   "cell_type": "markdown",
   "metadata": {},
   "source": [
    "### Create Training and Test Dataset for e4e Training\n",
    "\n",
    "- simple 90:10 random split of all 14.060 training images"
   ]
  },
  {
   "cell_type": "code",
   "execution_count": 3,
   "metadata": {},
   "outputs": [
    {
     "name": "stdout",
     "output_type": "stream",
     "text": [
      "14060 12654 1406 14060\n"
     ]
    }
   ],
   "source": [
    "image_paths = glob(f'{DATA_PATH}Zalando_Germany_Dataset/dresses/images/square_images/*.jpg')\n",
    "\n",
    "np.random.seed(42)\n",
    "train = np.random.choice(image_paths, int(len(image_paths)*0.9), replace=False)\n",
    "test = list(set(image_paths) - set(train))\n",
    "print(len(image_paths), len(train), len(test), len(train)+len(test))"
   ]
  },
  {
   "cell_type": "code",
   "execution_count": 4,
   "metadata": {},
   "outputs": [],
   "source": [
    "# Resize images to specified size and move to directories\n",
    "resisze_size = 512\n",
    "\n",
    "\n",
    "# Make directories\n",
    "e4e_dir = f\"{DATA_PATH}Zalando_Germany_Dataset/dresses/images/e4e_images/\"\n",
    "if not os.path.exists(e4e_dir):\n",
    "    os.mkdir(e4e_dir)\n",
    "train_dir = f\"{e4e_dir}train/\"\n",
    "if not os.path.exists(train_dir):\n",
    "    os.mkdir(train_dir)\n",
    "test_dir = f\"{e4e_dir}test/\"\n",
    "if not os.path.exists(test_dir):\n",
    "    os.mkdir(test_dir)"
   ]
  },
  {
   "cell_type": "code",
   "execution_count": 5,
   "metadata": {},
   "outputs": [
    {
     "name": "stderr",
     "output_type": "stream",
     "text": [
      "Preparing Training Data: 100%|██████████| 12654/12654 [10:15<00:00, 20.57it/s]\n",
      "Preparing Test Data: 100%|██████████| 1406/1406 [01:04<00:00, 21.84it/s]\n"
     ]
    }
   ],
   "source": [
    "for path in tqdm(train, desc = 'Preparing Training Data'):\n",
    "    sku = path.split('/')[-1]\n",
    "    img = Image.open(path)\n",
    "    img.resize([512,512]).save(f\"{train_dir}{sku}\")\n",
    "\n",
    "for path in tqdm(test, desc = 'Preparing Test Data'):\n",
    "    sku = path.split('/')[-1]\n",
    "    img = Image.open(path)\n",
    "    img.resize([512,512]).save(f\"{test_dir}{sku}\")"
   ]
  }
 ],
 "metadata": {
  "kernelspec": {
   "display_name": "Python 3",
   "language": "python",
   "name": "python3"
  },
  "language_info": {
   "codemirror_mode": {
    "name": "ipython",
    "version": 3
   },
   "file_extension": ".py",
   "mimetype": "text/x-python",
   "name": "python",
   "nbconvert_exporter": "python",
   "pygments_lexer": "ipython3",
   "version": "3.7.12"
  }
 },
 "nbformat": 4,
 "nbformat_minor": 2
}
