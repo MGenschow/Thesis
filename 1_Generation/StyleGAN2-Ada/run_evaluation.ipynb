{
 "cells": [
  {
   "cell_type": "code",
   "execution_count": 1,
   "metadata": {},
   "outputs": [],
   "source": [
    "from glob import glob\n",
    "import os\n",
    "import json\n",
    "import pandas as pd\n",
    "import matplotlib.pyplot as plt"
   ]
  },
  {
   "cell_type": "code",
   "execution_count": 2,
   "metadata": {},
   "outputs": [],
   "source": [
    "import platform\n",
    "if platform.system() == 'Darwin':\n",
    "    DATA_PATH = \"/Users/maltegenschow/Documents/Uni/Thesis/Data.nosync\"\n",
    "    ROOT_PATH = \"/Users/maltegenschow/Documents/Uni/Thesis/Thesis\"\n",
    "elif platform.system() == 'Linux':\n",
    "    DATA_PATH = \"/pfs/work7/workspace/scratch/tu_zxmav84-thesis/Data.nosync\"\n",
    "    ROOT_PATH = \"/pfs/work7/workspace/scratch/tu_zxmav84-thesis/Thesis\"\n",
    "\n",
    "current_wd = os.getcwd()"
   ]
  },
  {
   "cell_type": "code",
   "execution_count": 3,
   "metadata": {},
   "outputs": [
    {
     "data": {
      "text/plain": [
       "'/pfs/work7/workspace/scratch/tu_zxmav84-thesis/Data.nosync/Models/Stylegan2_Ada/Experiments/00005-stylegan2_ada_images-mirror-auto2-kimg5000-resumeffhq512'"
      ]
     },
     "execution_count": 3,
     "metadata": {},
     "output_type": "execute_result"
    }
   ],
   "source": [
    "experiment_name = \"00005-stylegan2_ada_images-mirror-auto2-kimg5000-resumeffhq512\"\n",
    "experiment_path = f\"{DATA_PATH}/Models/Stylegan2_Ada/Experiments/\" + experiment_name\n",
    "experiment_path"
   ]
  },
  {
   "cell_type": "code",
   "execution_count": 4,
   "metadata": {},
   "outputs": [],
   "source": [
    "snapshots = glob(f\"{experiment_path}/*.pkl\")\n",
    "snapshots.sort(key=os.path.getmtime)\n",
    "snapshots = snapshots[0::5] # Evaluate only every fifth value\n"
   ]
  },
  {
   "cell_type": "code",
   "execution_count": null,
   "metadata": {},
   "outputs": [],
   "source": [
    "os.chdir(f\"{ROOT_PATH}/stylegan2-ada-pytorch/\")"
   ]
  },
  {
   "cell_type": "code",
   "execution_count": null,
   "metadata": {},
   "outputs": [],
   "source": [
    "import subprocess\n",
    "\n",
    "# Assuming `experiment_path` is defined somewhere in your script\n",
    "results_save_path = f\"{experiment_path}/evaluation_metrics.txt\"\n",
    "\n",
    "# Base command setup\n",
    "base_cmd = \"python calc_metrics.py --metrics={metrics} --network={network} --verbose=False --gpus=2\"\n",
    "networks = snapshots  # Assuming `snapshots` is defined as a list of network paths\n",
    "metrics_list = [\"kid50k_full\", \"is50k\", \"pr50k3_full\"]  # Add more metrics as needed\n",
    "\n",
    "# Function to execute command\n",
    "def run_command(metrics, network):\n",
    "    cmd = base_cmd.format(metrics=metrics, network=network)\n",
    "    result = subprocess.run(cmd, shell=True, text=True, capture_output=True)\n",
    "    return result.stdout, result.stderr\n",
    "\n",
    "# Loop through combinations and execute commands\n",
    "for network in networks:\n",
    "    for metrics in metrics_list:\n",
    "        stdout, stderr = run_command(metrics, network)\n",
    "\n",
    "        # Save each result to the file immediately after it's generated\n",
    "        with open(results_save_path, \"a\") as file:  # Open in append mode\n",
    "            file.write(f\"Network: {network}, Metrics: {metrics}\\n{stdout}\\n\")\n",
    "            if stderr:\n",
    "                file.write(f\"Errors: {stderr}\\n\")\n",
    "\n"
   ]
  }
 ],
 "metadata": {
  "kernelspec": {
   "display_name": "Python 3",
   "language": "python",
   "name": "python3"
  },
  "language_info": {
   "codemirror_mode": {
    "name": "ipython",
    "version": 3
   },
   "file_extension": ".py",
   "mimetype": "text/x-python",
   "name": "python",
   "nbconvert_exporter": "python",
   "pygments_lexer": "ipython3",
   "version": "3.7.12"
  }
 },
 "nbformat": 4,
 "nbformat_minor": 2
}
