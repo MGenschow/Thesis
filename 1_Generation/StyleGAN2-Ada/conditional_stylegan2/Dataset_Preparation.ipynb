{
 "cells": [
  {
   "cell_type": "code",
   "execution_count": null,
   "metadata": {},
   "outputs": [],
   "source": [
    "import json\n",
    "import pandas as pd"
   ]
  },
  {
   "cell_type": "code",
   "execution_count": null,
   "metadata": {},
   "outputs": [],
   "source": [
    "DATA_PATH = '../../../../Data.nosync/'\n",
    "path = f\"{DATA_PATH}Zalando_Germany_Dataset/dresses/metadata/dresses_metadata.json\"\n",
    "path"
   ]
  },
  {
   "cell_type": "markdown",
   "metadata": {},
   "source": [
    "#### Create Label Dict needed for conditional training"
   ]
  },
  {
   "cell_type": "code",
   "execution_count": null,
   "metadata": {},
   "outputs": [],
   "source": [
    "# Read in metadata dict\n",
    "metadata = pd.read_json(path).T.reset_index().rename(columns = {'index':'sku'})\n",
    "classes = metadata[['sku', 'category']].copy()"
   ]
  },
  {
   "cell_type": "code",
   "execution_count": null,
   "metadata": {},
   "outputs": [],
   "source": [
    "class2id = {\n",
    "    'Day dress': 0,\n",
    "    'Jumper dress': 1,\n",
    "    'Jersey dress': 2,\n",
    "    'Cocktail dress / Party dress': 3,\n",
    "    'Maxi dress': 4,\n",
    "    'Occasion wear': 5,\n",
    "    'Shift dress': 6,\n",
    "    'Denim dress': 7\n",
    " }"
   ]
  },
  {
   "cell_type": "code",
   "execution_count": null,
   "metadata": {},
   "outputs": [],
   "source": [
    "classes['label'] = classes.category.map(class2id)\n",
    "labels = []\n",
    "for row in classes.iterrows():\n",
    "    labels.append([f\"{row[1].sku}.jpg\", row[1].label])\n",
    "\n",
    "dataset_file = {\n",
    "    \"labels\":\n",
    "        labels\n",
    "}\n",
    "\n",
    "save_path = f\"{DATA_PATH}Zalando_Germany_Dataset/dresses/images/square_images/dataset.json\"\n",
    "# Save to inside image directory as json\n",
    "with open(save_path, 'w') as f:\n",
    "    json.dump(dataset_file, f)"
   ]
  },
  {
   "cell_type": "markdown",
   "metadata": {},
   "source": [
    "### Prepare stylegan2 conditional training data"
   ]
  },
  {
   "cell_type": "code",
   "execution_count": null,
   "metadata": {},
   "outputs": [],
   "source": [
    "CMD = \"python ../../../stylegan2-ada-pytorch/dataset_tool.py \"\\\n",
    "  f\"--source {DATA_PATH}Zalando_Germany_Dataset/dresses/images/square_images \"\\\n",
    "  f\"--dest {DATA_PATH}Zalando_Germany_Dataset/dresses/images/conditional_stylegan2_ada_images\" \\\n",
    "  \" --width=512 --height=512\"\n",
    "\n",
    "!{CMD}"
   ]
  }
 ],
 "metadata": {
  "kernelspec": {
   "display_name": "Python 3",
   "language": "python",
   "name": "python3"
  },
  "language_info": {
   "codemirror_mode": {
    "name": "ipython",
    "version": 3
   },
   "file_extension": ".py",
   "mimetype": "text/x-python",
   "name": "python",
   "nbconvert_exporter": "python",
   "pygments_lexer": "ipython3",
   "version": "3.7.12"
  }
 },
 "nbformat": 4,
 "nbformat_minor": 2
}
