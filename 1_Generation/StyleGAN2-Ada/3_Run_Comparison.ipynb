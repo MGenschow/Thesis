{
 "cells": [
  {
   "cell_type": "markdown",
   "metadata": {},
   "source": [
    "### Compare two training runs against each other using Pytorch-FID package instead of built-in FID from SG2Ada\n",
    "\n",
    "- This is done to establish the baseline FID using this FID implementation and compare with FID of various inversion methods later"
   ]
  },
  {
   "cell_type": "code",
   "execution_count": 1,
   "metadata": {},
   "outputs": [],
   "source": [
    "import os\n",
    "import pickle\n",
    "from tqdm import tqdm\n",
    "import torch\n",
    "from PIL import Image"
   ]
  },
  {
   "cell_type": "code",
   "execution_count": 2,
   "metadata": {},
   "outputs": [],
   "source": [
    "import platform\n",
    "if platform.system() == 'Darwin':\n",
    "    DATA_PATH = \"/Users/maltegenschow/Documents/Uni/Thesis/Data.nosync\"\n",
    "    ROOT_PATH = \"/Users/maltegenschow/Documents/Uni/Thesis/Thesis\"\n",
    "elif platform.system() == 'Linux':\n",
    "    DATA_PATH = \"/pfs/work7/workspace/scratch/tu_zxmav84-thesis/Data.nosync\"\n",
    "    ROOT_PATH = \"/pfs/work7/workspace/scratch/tu_zxmav84-thesis/Thesis\"\n",
    "\n",
    "current_wd = os.getcwd()"
   ]
  },
  {
   "cell_type": "markdown",
   "metadata": {},
   "source": [
    "### Specify Model Paths"
   ]
  },
  {
   "cell_type": "code",
   "execution_count": 3,
   "metadata": {},
   "outputs": [],
   "source": [
    "experiments_path = f\"{DATA_PATH}/Models/Stylegan2_Ada/Experiments\"\n",
    "model1 = f\"{experiments_path}/00003-stylegan2_ada_images-mirror-auto2-kimg1000-resumeffhq512/network-snapshot-000920.pkl\"\n",
    "model2 = f\"{experiments_path}/00005-stylegan2_ada_images-mirror-auto2-kimg5000-resumeffhq512/network-snapshot-001200.pkl\"\n",
    "\n",
    "# Specify paths to save generated images\n",
    "out_dir = f\"{DATA_PATH}/Generated_Images/SG2Ada\"\n",
    "out1 = f\"{out_dir}/00003_snapshot_920/\"\n",
    "out2 = f\"{out_dir}/00005_snapshot_1200/\""
   ]
  },
  {
   "cell_type": "markdown",
   "metadata": {},
   "source": [
    "### Load Models"
   ]
  },
  {
   "cell_type": "code",
   "execution_count": 4,
   "metadata": {},
   "outputs": [],
   "source": [
    "os.chdir(f\"{ROOT_PATH}/stylegan2-ada-pytorch/\")"
   ]
  },
  {
   "cell_type": "code",
   "execution_count": 5,
   "metadata": {},
   "outputs": [
    {
     "name": "stdout",
     "output_type": "stream",
     "text": [
      "Using cuda as device\n"
     ]
    }
   ],
   "source": [
    "try:\n",
    "    if torch.cuda.is_available():\n",
    "        DEVICE = 'cuda'\n",
    "    elif torch.backends.mps.is_available():\n",
    "        DEVICE = 'mps'\n",
    "    else:\n",
    "        DEVICE = 'cpu'\n",
    "except:\n",
    "    if torch.cuda.is_available():\n",
    "        DEVICE = 'cuda'\n",
    "    else:\n",
    "        DEVICE = 'cpu'\n",
    "print(f\"Using {DEVICE} as device\")\n",
    "\n",
    "with open(model1, 'rb') as f:\n",
    "    architecture = pickle.load(f)\n",
    "    G1 = architecture['G_ema'].to(DEVICE)\n",
    "with open(model2, 'rb') as f:\n",
    "    architecture = pickle.load(f)\n",
    "    G2 = architecture['G_ema'].to(DEVICE)"
   ]
  },
  {
   "cell_type": "markdown",
   "metadata": {},
   "source": [
    "### Generate Random Images"
   ]
  },
  {
   "cell_type": "code",
   "execution_count": 6,
   "metadata": {},
   "outputs": [],
   "source": [
    "def generate_random(G, out_path, num_img):\n",
    "    for i in tqdm(range(num_img)):\n",
    "        z = torch.randn([1, G.z_dim]).to(DEVICE)\n",
    "        c = None  \n",
    "        img = G(z, c,  force_fp32=True, noise_mode = 'const')\n",
    "        img_perm = (img.permute(0, 2, 3, 1) * 127.5 + 128).clamp(0, 255).to(torch.uint8)\n",
    "        output = Image.fromarray(img_perm[0].cpu().numpy(), 'RGB')\n",
    "        output.save(f\"{out_path}{i}.jpg\")"
   ]
  },
  {
   "cell_type": "code",
   "execution_count": 7,
   "metadata": {},
   "outputs": [],
   "source": [
    "num_samples = 50000\n",
    "\n",
    "if not os.path.exists(out1):\n",
    "    os.mkdir(out1)\n",
    "    generate_random(G1, out1, num_samples)\n",
    "if not os.path.exists(out2):\n",
    "    os.mkdir(out2)\n",
    "    generate_random(G2, out2, num_samples)"
   ]
  },
  {
   "cell_type": "markdown",
   "metadata": {},
   "source": [
    "### Calculate FID Features and save for later use"
   ]
  },
  {
   "cell_type": "code",
   "execution_count": 8,
   "metadata": {},
   "outputs": [
    {
     "name": "stdout",
     "output_type": "stream",
     "text": [
      "Features already calculated, ready to use\n"
     ]
    }
   ],
   "source": [
    "# Calculate features used in FID for real dataset and save for later use\n",
    "path_to_real = f\"{DATA_PATH}/Zalando_Germany_Dataset/dresses/images/e4e_images/all/\"\n",
    "save_path_features = f\"{DATA_PATH}/Metrics/FID/features_real_dataset.npz\"\n",
    "# Save Features of original dataset\n",
    "if not os.path.exists(save_path_features):\n",
    "    CMD = f\"python -m pytorch_fid --save-stats {path_to_real} {save_path_features} --device cuda:0\"\n",
    "    !{CMD}\n",
    "else:\n",
    "    print(\"Features already calculated, ready to use\")\n"
   ]
  },
  {
   "cell_type": "code",
   "execution_count": 9,
   "metadata": {},
   "outputs": [
    {
     "name": "stdout",
     "output_type": "stream",
     "text": [
      "Features already calculated, ready to use\n"
     ]
    }
   ],
   "source": [
    "# Calculate features used in FID for generated dataset and save for later use\n",
    "save_path_features_00003 = f\"{DATA_PATH}/Metrics/FID/features_generated_00003.npz\"\n",
    "# Save Features of original dataset\n",
    "if not os.path.exists(save_path_features_00003):\n",
    "    CMD = f\"python -m pytorch_fid --save-stats {out1} {save_path_features_00003} --device cuda:0\"\n",
    "    !{CMD}\n",
    "else:\n",
    "    print(\"Features already calculated, ready to use\")"
   ]
  },
  {
   "cell_type": "code",
   "execution_count": 10,
   "metadata": {},
   "outputs": [
    {
     "name": "stdout",
     "output_type": "stream",
     "text": [
      "Features already calculated, ready to use\n"
     ]
    }
   ],
   "source": [
    "# Calculate features used in FID for generated dataset and save for later use\n",
    "save_path_features_00005 = f\"{DATA_PATH}/Metrics/FID/features_generated_00005.npz\"\n",
    "# Save Features of original dataset\n",
    "if not os.path.exists(save_path_features_00005):\n",
    "    CMD = f\"python -m pytorch_fid --save-stats {out2} {save_path_features_00005} --device cuda:0\"\n",
    "    !{CMD}\n",
    "else:\n",
    "    print(\"Features already calculated, ready to use\")"
   ]
  },
  {
   "cell_type": "markdown",
   "metadata": {},
   "source": [
    "### Calculate FID"
   ]
  },
  {
   "cell_type": "code",
   "execution_count": 11,
   "metadata": {},
   "outputs": [
    {
     "name": "stdout",
     "output_type": "stream",
     "text": [
      "FID:  10.333990323969601\n"
     ]
    }
   ],
   "source": [
    "# Calculate FID for model 1\n",
    "CMD = f\"python -m pytorch_fid {save_path_features} {save_path_features_00003}\"\n",
    "!{CMD}"
   ]
  },
  {
   "cell_type": "code",
   "execution_count": 12,
   "metadata": {},
   "outputs": [
    {
     "name": "stdout",
     "output_type": "stream",
     "text": [
      "FID:  8.0966246619368\n"
     ]
    }
   ],
   "source": [
    "# Calculate FID for model 2\n",
    "CMD = f\"python -m pytorch_fid {save_path_features} {save_path_features_00005}\"\n",
    "!{CMD}"
   ]
  },
  {
   "cell_type": "code",
   "execution_count": null,
   "metadata": {},
   "outputs": [],
   "source": []
  }
 ],
 "metadata": {
  "kernelspec": {
   "display_name": "Python 3",
   "language": "python",
   "name": "python3"
  },
  "language_info": {
   "codemirror_mode": {
    "name": "ipython",
    "version": 3
   },
   "file_extension": ".py",
   "mimetype": "text/x-python",
   "name": "python",
   "nbconvert_exporter": "python",
   "pygments_lexer": "ipython3",
   "version": "3.7.12"
  }
 },
 "nbformat": 4,
 "nbformat_minor": 2
}
