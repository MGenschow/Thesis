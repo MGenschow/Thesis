{
 "cells": [
  {
   "cell_type": "code",
   "execution_count": 1,
   "metadata": {},
   "outputs": [],
   "source": [
    "import pandas as pd\n",
    "import json\n",
    "from glob import glob"
   ]
  },
  {
   "cell_type": "code",
   "execution_count": 2,
   "metadata": {},
   "outputs": [],
   "source": [
    "DATA_PATH = '../../Data.nosync/'"
   ]
  },
  {
   "cell_type": "code",
   "execution_count": 3,
   "metadata": {},
   "outputs": [
    {
     "data": {
      "text/plain": [
       "['../../Data.nosync/Zalando_Germany_Dataset/metadata_dicts/dresses/jersey_dresses.json',\n",
       " '../../Data.nosync/Zalando_Germany_Dataset/metadata_dicts/dresses/shift_dresses.json',\n",
       " '../../Data.nosync/Zalando_Germany_Dataset/metadata_dicts/dresses/occasion_dresses.json',\n",
       " '../../Data.nosync/Zalando_Germany_Dataset/metadata_dicts/dresses/shirt_dresses.json',\n",
       " '../../Data.nosync/Zalando_Germany_Dataset/metadata_dicts/dresses/evening_dresses.json',\n",
       " '../../Data.nosync/Zalando_Germany_Dataset/metadata_dicts/dresses/casual_dresses.json']"
      ]
     },
     "execution_count": 3,
     "metadata": {},
     "output_type": "execute_result"
    }
   ],
   "source": [
    "# Metadata files\n",
    "path = f\"{DATA_PATH}Zalando_Germany_Dataset/metadata_dicts/dresses/*\"\n",
    "meta_files = glob(path)\n",
    "meta_files"
   ]
  },
  {
   "cell_type": "code",
   "execution_count": 4,
   "metadata": {},
   "outputs": [],
   "source": [
    "with open(meta_files[0]) as f:\n",
    "    meta_data = json.load(f)"
   ]
  },
  {
   "cell_type": "code",
   "execution_count": 7,
   "metadata": {},
   "outputs": [],
   "source": [
    "def read_element(elem):\n",
    "    attribute_data = elem['attributeCategories']\n",
    "    rows = []\n",
    "    for category in attribute_data:\n",
    "        for attribute in category['attributes']:\n",
    "            row = {\n",
    "                'category_name': category['categoryName'],\n",
    "                'attribute_name': attribute['key'],\n",
    "                'attribute_value': attribute['value']\n",
    "            }\n",
    "            rows.append(row)\n",
    "\n",
    "    df = pd.DataFrame(rows)\n",
    "\n",
    "    df['name'] = elem['name']\n",
    "    df['url'] = elem['url']\n",
    "    df['sku'] = elem['sku']\n",
    "    df['brand'] = elem['brand']['name']\n",
    "    df['brand_url'] = elem['brand']['uri']\n",
    "    df['category'] = elem['category']\n",
    "    df['color_name'] = elem['color']['name']\n",
    "    df['color_label'] = elem['color']['label']\n",
    "    df['price'] = elem['price']\n",
    "    df['thumbnail_url'] = elem['thumbnail']\n",
    "\n",
    "    df = df[['name', 'url', 'sku', 'brand', 'brand_url', 'category', 'color_name', 'color_label', 'price', 'category_name',\n",
    "             'attribute_name', 'attribute_value', 'thumbnail_url']]\n",
    "    \n",
    "    return df"
   ]
  },
  {
   "cell_type": "code",
   "execution_count": 19,
   "metadata": {},
   "outputs": [
    {
     "data": {
      "text/plain": [
       "2448"
      ]
     },
     "execution_count": 19,
     "metadata": {},
     "output_type": "execute_result"
    }
   ],
   "source": [
    "df = pd.concat([read_element(elem) for elem in meta_data])\n",
    "df.sku.nunique()"
   ]
  }
 ],
 "metadata": {
  "kernelspec": {
   "display_name": "master_thesis",
   "language": "python",
   "name": "python3"
  },
  "language_info": {
   "codemirror_mode": {
    "name": "ipython",
    "version": 3
   },
   "file_extension": ".py",
   "mimetype": "text/x-python",
   "name": "python",
   "nbconvert_exporter": "python",
   "pygments_lexer": "ipython3",
   "version": "3.10.1"
  }
 },
 "nbformat": 4,
 "nbformat_minor": 2
}
