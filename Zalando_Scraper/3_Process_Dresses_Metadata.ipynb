{
 "cells": [
  {
   "cell_type": "code",
   "execution_count": 1,
   "metadata": {},
   "outputs": [],
   "source": [
    "import pandas as pd\n",
    "import json\n",
    "from glob import glob\n",
    "from tqdm import tqdm\n",
    "import numpy as np"
   ]
  },
  {
   "cell_type": "markdown",
   "metadata": {},
   "source": [
    "### Read in All the Metadata Dicts"
   ]
  },
  {
   "cell_type": "code",
   "execution_count": 2,
   "metadata": {},
   "outputs": [],
   "source": [
    "DATA_PATH = '../../Data.nosync/'"
   ]
  },
  {
   "cell_type": "code",
   "execution_count": 3,
   "metadata": {},
   "outputs": [
    {
     "data": {
      "text/plain": [
       "['../../Data.nosync/Zalando_Germany_Dataset/metadata_dicts/dresses/jersey_dresses.json',\n",
       " '../../Data.nosync/Zalando_Germany_Dataset/metadata_dicts/dresses/dirndl_dresses.json',\n",
       " '../../Data.nosync/Zalando_Germany_Dataset/metadata_dicts/dresses/shift_dresses.json',\n",
       " '../../Data.nosync/Zalando_Germany_Dataset/metadata_dicts/dresses/occasion_dresses.json',\n",
       " '../../Data.nosync/Zalando_Germany_Dataset/metadata_dicts/dresses/shirt_dresses.json',\n",
       " '../../Data.nosync/Zalando_Germany_Dataset/metadata_dicts/dresses/evening_dresses.json',\n",
       " '../../Data.nosync/Zalando_Germany_Dataset/metadata_dicts/dresses/knitted_dresses.json',\n",
       " '../../Data.nosync/Zalando_Germany_Dataset/metadata_dicts/dresses/casual_dresses.json',\n",
       " '../../Data.nosync/Zalando_Germany_Dataset/metadata_dicts/dresses/denim_dresses.json',\n",
       " '../../Data.nosync/Zalando_Germany_Dataset/metadata_dicts/dresses/maxi_dresses.json']"
      ]
     },
     "execution_count": 3,
     "metadata": {},
     "output_type": "execute_result"
    }
   ],
   "source": [
    "# Metadata files\n",
    "path = f\"{DATA_PATH}Zalando_Germany_Dataset/metadata_dicts/dresses/*\"\n",
    "meta_files = glob(path)\n",
    "meta_files"
   ]
  },
  {
   "cell_type": "code",
   "execution_count": 4,
   "metadata": {},
   "outputs": [],
   "source": [
    "def read_element(elem):\n",
    "    attribute_data = elem['attributeCategories']\n",
    "    rows = []\n",
    "    for category in attribute_data:\n",
    "        for attribute in category['attributes']:\n",
    "            row = {\n",
    "                'category_name': category['categoryName'],\n",
    "                'attribute_name': attribute['key'],\n",
    "                'attribute_value': attribute['value']\n",
    "            }\n",
    "            rows.append(row)\n",
    "\n",
    "    df = pd.DataFrame(rows)\n",
    "\n",
    "    df['name'] = elem['name']\n",
    "    df['url'] = elem['url']\n",
    "    df['sku'] = elem['sku']\n",
    "    df['sku_base'] = elem['sku'].split('-')[0]\n",
    "    df['sku_color_code'] = elem['sku'].split('-')[1]\n",
    "    df['brand'] = elem['brand']['name']\n",
    "    df['brand_url'] = elem['brand']['uri']\n",
    "    df['category'] = elem['category']\n",
    "    df['color_name'] = elem['color']['name']\n",
    "    df['color_label'] = elem['color']['label']\n",
    "    df['original_price'] = elem['price']['original']\n",
    "    df['current_price'] = elem['price']['current']\n",
    "    df['thumbnail_url'] = elem['thumbnail']\n",
    "\n",
    "    df = df[['name', 'url', 'sku', 'sku_base', 'sku_color_code', 'brand', 'brand_url', 'category', 'color_name', 'color_label', 'original_price', 'current_price', 'category_name',\n",
    "             'attribute_name', 'attribute_value', 'thumbnail_url']]\n",
    "    \n",
    "    return df"
   ]
  },
  {
   "cell_type": "code",
   "execution_count": 5,
   "metadata": {},
   "outputs": [
    {
     "name": "stderr",
     "output_type": "stream",
     "text": [
      "100%|██████████| 10/10 [00:21<00:00,  2.12s/it]\n"
     ]
    }
   ],
   "source": [
    "dfs = []\n",
    "for path in tqdm(meta_files):\n",
    "    with open(path, 'r') as f:\n",
    "        meta_data = json.load(f)\n",
    "    articles = [read_element(elem) for elem in meta_data]\n",
    "    if len(articles) == 0:\n",
    "        continue\n",
    "    else:\n",
    "        df = pd.concat(articles, ignore_index=True)\n",
    "    df['source_file'] = path.split('/')[-1]\n",
    "    dfs.append(df)\n",
    "df = pd.concat(dfs, ignore_index=True).reset_index(drop=True)"
   ]
  },
  {
   "cell_type": "markdown",
   "metadata": {},
   "source": [
    "### Identify Duplicates"
   ]
  },
  {
   "cell_type": "code",
   "execution_count": 6,
   "metadata": {},
   "outputs": [
    {
     "name": "stdout",
     "output_type": "stream",
     "text": [
      "Number of unique articles: 18106\n"
     ]
    }
   ],
   "source": [
    "print(f\"Number of unique articles: {df['sku'].nunique()}\")"
   ]
  },
  {
   "cell_type": "code",
   "execution_count": 7,
   "metadata": {},
   "outputs": [
    {
     "name": "stdout",
     "output_type": "stream",
     "text": [
      "(19967, 14)\n"
     ]
    },
    {
     "data": {
      "text/html": [
       "<div>\n",
       "<style scoped>\n",
       "    .dataframe tbody tr th:only-of-type {\n",
       "        vertical-align: middle;\n",
       "    }\n",
       "\n",
       "    .dataframe tbody tr th {\n",
       "        vertical-align: top;\n",
       "    }\n",
       "\n",
       "    .dataframe thead th {\n",
       "        text-align: right;\n",
       "    }\n",
       "</style>\n",
       "<table border=\"1\" class=\"dataframe\">\n",
       "  <thead>\n",
       "    <tr style=\"text-align: right;\">\n",
       "      <th></th>\n",
       "      <th>name</th>\n",
       "      <th>url</th>\n",
       "      <th>sku</th>\n",
       "      <th>sku_base</th>\n",
       "      <th>sku_color_code</th>\n",
       "      <th>brand</th>\n",
       "      <th>brand_url</th>\n",
       "      <th>category</th>\n",
       "      <th>color_name</th>\n",
       "      <th>color_label</th>\n",
       "      <th>original_price</th>\n",
       "      <th>current_price</th>\n",
       "      <th>thumbnail_url</th>\n",
       "      <th>source_file</th>\n",
       "    </tr>\n",
       "  </thead>\n",
       "  <tbody>\n",
       "    <tr>\n",
       "      <th>0</th>\n",
       "      <td>Jersey dress - brown</td>\n",
       "      <td>https://en.zalando.de/anna-field-shift-dress-b...</td>\n",
       "      <td>AN621C22S-O11</td>\n",
       "      <td>AN621C22S</td>\n",
       "      <td>O11</td>\n",
       "      <td>Anna Field</td>\n",
       "      <td>https://en.zalando.de/anna-field/</td>\n",
       "      <td>Shift dress</td>\n",
       "      <td>brown</td>\n",
       "      <td>brown</td>\n",
       "      <td>39.99</td>\n",
       "      <td>39.99</td>\n",
       "      <td>https://img01.ztat.net/article/spp-media-p1/fb...</td>\n",
       "      <td>jersey_dresses.json</td>\n",
       "    </tr>\n",
       "    <tr>\n",
       "      <th>13</th>\n",
       "      <td>Jersey dress - marine/bedruckt</td>\n",
       "      <td>https://en.zalando.de/buffalo-jersey-dress-mar...</td>\n",
       "      <td>BU321C01G-K11</td>\n",
       "      <td>BU321C01G</td>\n",
       "      <td>K11</td>\n",
       "      <td>Buffalo</td>\n",
       "      <td>https://en.zalando.de/buffalo/</td>\n",
       "      <td>Jersey dress</td>\n",
       "      <td>marine/bedruckt</td>\n",
       "      <td>blue</td>\n",
       "      <td>39.99</td>\n",
       "      <td>39.99</td>\n",
       "      <td>https://img01.ztat.net/article/spp-media-p1/50...</td>\n",
       "      <td>jersey_dresses.json</td>\n",
       "    </tr>\n",
       "  </tbody>\n",
       "</table>\n",
       "</div>"
      ],
      "text/plain": [
       "                              name  \\\n",
       "0             Jersey dress - brown   \n",
       "13  Jersey dress - marine/bedruckt   \n",
       "\n",
       "                                                  url            sku  \\\n",
       "0   https://en.zalando.de/anna-field-shift-dress-b...  AN621C22S-O11   \n",
       "13  https://en.zalando.de/buffalo-jersey-dress-mar...  BU321C01G-K11   \n",
       "\n",
       "     sku_base sku_color_code       brand                          brand_url  \\\n",
       "0   AN621C22S            O11  Anna Field  https://en.zalando.de/anna-field/   \n",
       "13  BU321C01G            K11     Buffalo     https://en.zalando.de/buffalo/   \n",
       "\n",
       "        category       color_name color_label  original_price  current_price  \\\n",
       "0    Shift dress            brown       brown           39.99          39.99   \n",
       "13  Jersey dress  marine/bedruckt        blue           39.99          39.99   \n",
       "\n",
       "                                        thumbnail_url          source_file  \n",
       "0   https://img01.ztat.net/article/spp-media-p1/fb...  jersey_dresses.json  \n",
       "13  https://img01.ztat.net/article/spp-media-p1/50...  jersey_dresses.json  "
      ]
     },
     "execution_count": 7,
     "metadata": {},
     "output_type": "execute_result"
    }
   ],
   "source": [
    "# Create article dataframe without the attribute columns and duplicates\n",
    "article_df = df.drop(columns=['category_name', 'attribute_name', 'attribute_value']).drop_duplicates()\n",
    "print(article_df.shape)\n",
    "article_df.head(2)"
   ]
  },
  {
   "cell_type": "code",
   "execution_count": 8,
   "metadata": {},
   "outputs": [
    {
     "data": {
      "text/plain": [
       "source_file\n",
       "1    16296\n",
       "2     1772\n",
       "3       25\n",
       "4       13\n",
       "Name: count, dtype: int64"
      ]
     },
     "execution_count": 8,
     "metadata": {},
     "output_type": "execute_result"
    }
   ],
   "source": [
    "# How many products appear in more than one category metadata file?\n",
    "article_df[['name', 'sku', 'source_file']].drop_duplicates().groupby('sku').source_file.count().value_counts()"
   ]
  },
  {
   "cell_type": "code",
   "execution_count": 9,
   "metadata": {},
   "outputs": [
    {
     "data": {
      "text/html": [
       "<div>\n",
       "<style scoped>\n",
       "    .dataframe tbody tr th:only-of-type {\n",
       "        vertical-align: middle;\n",
       "    }\n",
       "\n",
       "    .dataframe tbody tr th {\n",
       "        vertical-align: top;\n",
       "    }\n",
       "\n",
       "    .dataframe thead th {\n",
       "        text-align: right;\n",
       "    }\n",
       "</style>\n",
       "<table border=\"1\" class=\"dataframe\">\n",
       "  <thead>\n",
       "    <tr style=\"text-align: right;\">\n",
       "      <th></th>\n",
       "      <th>name</th>\n",
       "      <th>url</th>\n",
       "      <th>sku</th>\n",
       "      <th>sku_base</th>\n",
       "      <th>sku_color_code</th>\n",
       "      <th>brand</th>\n",
       "      <th>brand_url</th>\n",
       "      <th>category</th>\n",
       "      <th>color_name</th>\n",
       "      <th>color_label</th>\n",
       "      <th>original_price</th>\n",
       "      <th>current_price</th>\n",
       "      <th>category_name</th>\n",
       "      <th>attribute_name</th>\n",
       "      <th>attribute_value</th>\n",
       "      <th>thumbnail_url</th>\n",
       "      <th>source_file</th>\n",
       "    </tr>\n",
       "  </thead>\n",
       "  <tbody>\n",
       "    <tr>\n",
       "      <th>753</th>\n",
       "      <td>2 PACK - Jersey dress - black/mottled grey</td>\n",
       "      <td>https://en.zalando.de/evenandodd-2-pack-shift-...</td>\n",
       "      <td>EV421C131-Q11</td>\n",
       "      <td>EV421C131</td>\n",
       "      <td>Q11</td>\n",
       "      <td>Even&amp;Odd</td>\n",
       "      <td>https://en.zalando.de/even-odd/</td>\n",
       "      <td>Shift dress</td>\n",
       "      <td>black/mottled grey</td>\n",
       "      <td>black</td>\n",
       "      <td>32.99</td>\n",
       "      <td>32.99</td>\n",
       "      <td>Details</td>\n",
       "      <td>Article number</td>\n",
       "      <td>EV421C131-Q11</td>\n",
       "      <td>https://img01.ztat.net/article/spp-media-p1/13...</td>\n",
       "      <td>jersey_dresses.json</td>\n",
       "    </tr>\n",
       "    <tr>\n",
       "      <th>32490</th>\n",
       "      <td>2 PACK - Jersey dress - black/mottled grey</td>\n",
       "      <td>https://en.zalando.de/evenandodd-2-pack-shift-...</td>\n",
       "      <td>EV421C131-Q11</td>\n",
       "      <td>EV421C131</td>\n",
       "      <td>Q11</td>\n",
       "      <td>Even&amp;Odd</td>\n",
       "      <td>https://en.zalando.de/even-odd/</td>\n",
       "      <td>Shift dress</td>\n",
       "      <td>black/mottled grey</td>\n",
       "      <td>black</td>\n",
       "      <td>32.99</td>\n",
       "      <td>32.99</td>\n",
       "      <td>Details</td>\n",
       "      <td>Article number</td>\n",
       "      <td>EV421C131-Q11</td>\n",
       "      <td>https://img01.ztat.net/article/spp-media-p1/13...</td>\n",
       "      <td>shift_dresses.json</td>\n",
       "    </tr>\n",
       "    <tr>\n",
       "      <th>751</th>\n",
       "      <td>2 PACK - Jersey dress - black/mottled grey</td>\n",
       "      <td>https://en.zalando.de/evenandodd-2-pack-shift-...</td>\n",
       "      <td>EV421C131-Q11</td>\n",
       "      <td>EV421C131</td>\n",
       "      <td>Q11</td>\n",
       "      <td>Even&amp;Odd</td>\n",
       "      <td>https://en.zalando.de/even-odd/</td>\n",
       "      <td>Shift dress</td>\n",
       "      <td>black/mottled grey</td>\n",
       "      <td>black</td>\n",
       "      <td>32.99</td>\n",
       "      <td>32.99</td>\n",
       "      <td>Details</td>\n",
       "      <td>Neckline</td>\n",
       "      <td>Scoop neck</td>\n",
       "      <td>https://img01.ztat.net/article/spp-media-p1/13...</td>\n",
       "      <td>jersey_dresses.json</td>\n",
       "    </tr>\n",
       "    <tr>\n",
       "      <th>32488</th>\n",
       "      <td>2 PACK - Jersey dress - black/mottled grey</td>\n",
       "      <td>https://en.zalando.de/evenandodd-2-pack-shift-...</td>\n",
       "      <td>EV421C131-Q11</td>\n",
       "      <td>EV421C131</td>\n",
       "      <td>Q11</td>\n",
       "      <td>Even&amp;Odd</td>\n",
       "      <td>https://en.zalando.de/even-odd/</td>\n",
       "      <td>Shift dress</td>\n",
       "      <td>black/mottled grey</td>\n",
       "      <td>black</td>\n",
       "      <td>32.99</td>\n",
       "      <td>32.99</td>\n",
       "      <td>Details</td>\n",
       "      <td>Neckline</td>\n",
       "      <td>Scoop neck</td>\n",
       "      <td>https://img01.ztat.net/article/spp-media-p1/13...</td>\n",
       "      <td>shift_dresses.json</td>\n",
       "    </tr>\n",
       "    <tr>\n",
       "      <th>752</th>\n",
       "      <td>2 PACK - Jersey dress - black/mottled grey</td>\n",
       "      <td>https://en.zalando.de/evenandodd-2-pack-shift-...</td>\n",
       "      <td>EV421C131-Q11</td>\n",
       "      <td>EV421C131</td>\n",
       "      <td>Q11</td>\n",
       "      <td>Even&amp;Odd</td>\n",
       "      <td>https://en.zalando.de/even-odd/</td>\n",
       "      <td>Shift dress</td>\n",
       "      <td>black/mottled grey</td>\n",
       "      <td>black</td>\n",
       "      <td>32.99</td>\n",
       "      <td>32.99</td>\n",
       "      <td>Details</td>\n",
       "      <td>Pattern</td>\n",
       "      <td>Marl</td>\n",
       "      <td>https://img01.ztat.net/article/spp-media-p1/13...</td>\n",
       "      <td>jersey_dresses.json</td>\n",
       "    </tr>\n",
       "    <tr>\n",
       "      <th>32489</th>\n",
       "      <td>2 PACK - Jersey dress - black/mottled grey</td>\n",
       "      <td>https://en.zalando.de/evenandodd-2-pack-shift-...</td>\n",
       "      <td>EV421C131-Q11</td>\n",
       "      <td>EV421C131</td>\n",
       "      <td>Q11</td>\n",
       "      <td>Even&amp;Odd</td>\n",
       "      <td>https://en.zalando.de/even-odd/</td>\n",
       "      <td>Shift dress</td>\n",
       "      <td>black/mottled grey</td>\n",
       "      <td>black</td>\n",
       "      <td>32.99</td>\n",
       "      <td>32.99</td>\n",
       "      <td>Details</td>\n",
       "      <td>Pattern</td>\n",
       "      <td>Marl</td>\n",
       "      <td>https://img01.ztat.net/article/spp-media-p1/13...</td>\n",
       "      <td>shift_dresses.json</td>\n",
       "    </tr>\n",
       "  </tbody>\n",
       "</table>\n",
       "</div>"
      ],
      "text/plain": [
       "                                             name  \\\n",
       "753    2 PACK - Jersey dress - black/mottled grey   \n",
       "32490  2 PACK - Jersey dress - black/mottled grey   \n",
       "751    2 PACK - Jersey dress - black/mottled grey   \n",
       "32488  2 PACK - Jersey dress - black/mottled grey   \n",
       "752    2 PACK - Jersey dress - black/mottled grey   \n",
       "32489  2 PACK - Jersey dress - black/mottled grey   \n",
       "\n",
       "                                                     url            sku  \\\n",
       "753    https://en.zalando.de/evenandodd-2-pack-shift-...  EV421C131-Q11   \n",
       "32490  https://en.zalando.de/evenandodd-2-pack-shift-...  EV421C131-Q11   \n",
       "751    https://en.zalando.de/evenandodd-2-pack-shift-...  EV421C131-Q11   \n",
       "32488  https://en.zalando.de/evenandodd-2-pack-shift-...  EV421C131-Q11   \n",
       "752    https://en.zalando.de/evenandodd-2-pack-shift-...  EV421C131-Q11   \n",
       "32489  https://en.zalando.de/evenandodd-2-pack-shift-...  EV421C131-Q11   \n",
       "\n",
       "        sku_base sku_color_code     brand                        brand_url  \\\n",
       "753    EV421C131            Q11  Even&Odd  https://en.zalando.de/even-odd/   \n",
       "32490  EV421C131            Q11  Even&Odd  https://en.zalando.de/even-odd/   \n",
       "751    EV421C131            Q11  Even&Odd  https://en.zalando.de/even-odd/   \n",
       "32488  EV421C131            Q11  Even&Odd  https://en.zalando.de/even-odd/   \n",
       "752    EV421C131            Q11  Even&Odd  https://en.zalando.de/even-odd/   \n",
       "32489  EV421C131            Q11  Even&Odd  https://en.zalando.de/even-odd/   \n",
       "\n",
       "          category          color_name color_label  original_price  \\\n",
       "753    Shift dress  black/mottled grey       black           32.99   \n",
       "32490  Shift dress  black/mottled grey       black           32.99   \n",
       "751    Shift dress  black/mottled grey       black           32.99   \n",
       "32488  Shift dress  black/mottled grey       black           32.99   \n",
       "752    Shift dress  black/mottled grey       black           32.99   \n",
       "32489  Shift dress  black/mottled grey       black           32.99   \n",
       "\n",
       "       current_price category_name  attribute_name attribute_value  \\\n",
       "753            32.99       Details  Article number   EV421C131-Q11   \n",
       "32490          32.99       Details  Article number   EV421C131-Q11   \n",
       "751            32.99       Details        Neckline      Scoop neck   \n",
       "32488          32.99       Details        Neckline      Scoop neck   \n",
       "752            32.99       Details         Pattern            Marl   \n",
       "32489          32.99       Details         Pattern            Marl   \n",
       "\n",
       "                                           thumbnail_url          source_file  \n",
       "753    https://img01.ztat.net/article/spp-media-p1/13...  jersey_dresses.json  \n",
       "32490  https://img01.ztat.net/article/spp-media-p1/13...   shift_dresses.json  \n",
       "751    https://img01.ztat.net/article/spp-media-p1/13...  jersey_dresses.json  \n",
       "32488  https://img01.ztat.net/article/spp-media-p1/13...   shift_dresses.json  \n",
       "752    https://img01.ztat.net/article/spp-media-p1/13...  jersey_dresses.json  \n",
       "32489  https://img01.ztat.net/article/spp-media-p1/13...   shift_dresses.json  "
      ]
     },
     "execution_count": 9,
     "metadata": {},
     "output_type": "execute_result"
    }
   ],
   "source": [
    "# Complete duplicates including attribute columns\n",
    "df[df.drop(columns = ['source_file']).duplicated(keep = False)].sort_values(['name', 'url', 'sku', 'sku_base', 'sku_color_code', 'brand',\n",
    "       'brand_url', 'category', 'color_name', 'color_label', 'original_price',\n",
    "       'current_price', 'category_name', 'attribute_name', 'attribute_value',\n",
    "       'thumbnail_url']).head(6)"
   ]
  },
  {
   "cell_type": "code",
   "execution_count": 10,
   "metadata": {},
   "outputs": [
    {
     "name": "stdout",
     "output_type": "stream",
     "text": [
      "Dropping 22104 rows of duplicates\n",
      "This corersponds to 1777 SKUs\n",
      "Number of unique SKUs after dropping: 18106\n"
     ]
    }
   ],
   "source": [
    "print(f\"Dropping {df.drop(columns = ['source_file']).duplicated(keep = 'first').sum()} rows of duplicates\")\n",
    "print(f\"This corersponds to {df[df.drop(columns = ['source_file']).duplicated(keep = 'first')].sku.nunique()} SKUs\")\n",
    "df = df[df.drop(columns = ['source_file']).duplicated(keep = 'first') == False]\n",
    "print(\"Number of unique SKUs after dropping:\", df.sku.nunique())\n",
    "article_df = df.drop(columns=['category_name', 'attribute_name', 'attribute_value']).drop_duplicates()"
   ]
  },
  {
   "cell_type": "markdown",
   "metadata": {},
   "source": [
    "### Highlevel Overview of the Data"
   ]
  },
  {
   "cell_type": "code",
   "execution_count": 11,
   "metadata": {},
   "outputs": [
    {
     "name": "stdout",
     "output_type": "stream",
     "text": [
      "Number of unique SKUs: 18106\n",
      "Number of unique article names: 15115\n",
      "Number of unique brands: 756\n",
      "Number of unique categories: 40\n",
      "Number of unique colors: 4644\n",
      "Number of unique color labels: 118\n"
     ]
    }
   ],
   "source": [
    "print(f\"Number of unique SKUs: {article_df.sku.nunique()}\")\n",
    "print(f\"Number of unique article names: {article_df.name.nunique()}\")\n",
    "print(f\"Number of unique brands: {article_df.brand.nunique()}\")\n",
    "print(f\"Number of unique categories: {article_df.category.nunique()}\")\n",
    "print(f\"Number of unique colors: {article_df.color_name.nunique()}\")\n",
    "print(f\"Number of unique color labels: {article_df.color_label.nunique()}\")"
   ]
  },
  {
   "cell_type": "markdown",
   "metadata": {},
   "source": [
    "- There are too many differnt categories for dresses -> Needs cleaning\n",
    "- There are too many color names -> Not usable\n",
    "- There are a lot color labels -> May be usable after cleaning, otherwise color must be infered from image"
   ]
  },
  {
   "cell_type": "markdown",
   "metadata": {},
   "source": [
    "### Categories cleaning"
   ]
  },
  {
   "cell_type": "code",
   "execution_count": 12,
   "metadata": {},
   "outputs": [
    {
     "data": {
      "text/plain": [
       "category\n",
       "Day dress                       6835\n",
       "Jumper dress                    2511\n",
       "Maxi dress                      2338\n",
       "Jersey dress                    2069\n",
       "Cocktail dress / Party dress    2023\n",
       "Occasion wear                   1022\n",
       "Shift dress                      917\n",
       "Denim dress                      351\n",
       "Shirt dress                       10\n",
       "Long sleeved top                   5\n",
       "Relaxed fit jeans                  5\n",
       "Sports shorts                      4\n",
       "Denim jacket                       4\n",
       "Jumper                             4\n",
       "Top                                4\n",
       "Basic T-shirt                      4\n",
       "Jeans Skinny Fit                   3\n",
       "Trousers                           3\n",
       "Beach accessory                    3\n",
       "Waistcoat                          3\n",
       "Button-down blouse                 2\n",
       "Leggings                           2\n",
       "Tracksuit bottoms                  2\n",
       "Shirt                              1\n",
       "Pencil skirt                       1\n",
       "Bootcut jeans                      1\n",
       "Cardigan                           1\n",
       "Straight leg jeans                 1\n",
       "Dungarees                          1\n",
       "Training jacket                    1\n",
       "Down jacket                        1\n",
       "Sweatshirt                         1\n",
       "Faux leather jacket                1\n",
       "Mini skirt                         1\n",
       "Windbreaker                        1\n",
       "Soft shell jacket                  1\n",
       "Jumpsuit                           1\n",
       "Flared Jeans                       1\n",
       "Denim skirt                        1\n",
       "Parka                              1\n",
       "Name: count, dtype: int64"
      ]
     },
     "execution_count": 12,
     "metadata": {},
     "output_type": "execute_result"
    }
   ],
   "source": [
    "article_df.category.value_counts()"
   ]
  },
  {
   "cell_type": "code",
   "execution_count": 13,
   "metadata": {},
   "outputs": [
    {
     "name": "stdout",
     "output_type": "stream",
     "text": [
      "Removing 32 categories\n",
      "Number of categories after removal: 8\n"
     ]
    },
    {
     "data": {
      "text/plain": [
       "category\n",
       "Day dress                       6835\n",
       "Jumper dress                    2511\n",
       "Maxi dress                      2338\n",
       "Jersey dress                    2069\n",
       "Cocktail dress / Party dress    2023\n",
       "Occasion wear                   1022\n",
       "Shift dress                      917\n",
       "Denim dress                      351\n",
       "Name: count, dtype: int64"
      ]
     },
     "execution_count": 13,
     "metadata": {},
     "output_type": "execute_result"
    }
   ],
   "source": [
    "# Remove all articles that are from a cetagory with less than 100 articles. Those are wrongly labeled and should not be part of the dresses dataset\n",
    "counts = article_df.category.value_counts()\n",
    "cats_to_remove = counts[counts < 100].index.to_list()\n",
    "print(f\"Removing {len(cats_to_remove)} categories\")\n",
    "df = df[~df.category.isin(cats_to_remove)]\n",
    "print(f\"Number of categories after removal: {df.category.nunique()}\")\n",
    "article_df = df.drop(columns=['category_name', 'attribute_name', 'attribute_value']).drop_duplicates()\n",
    "article_df.category.value_counts()"
   ]
  },
  {
   "cell_type": "code",
   "execution_count": 14,
   "metadata": {},
   "outputs": [
    {
     "data": {
      "text/plain": [
       "source_file\n",
       "casual_dresses.json      6776\n",
       "jersey_dresses.json      2414\n",
       "maxi_dresses.json        2280\n",
       "knitted_dresses.json     1909\n",
       "evening_dresses.json     1885\n",
       "shift_dresses.json       1490\n",
       "occasion_dresses.json     959\n",
       "denim_dresses.json        353\n",
       "Name: count, dtype: int64"
      ]
     },
     "execution_count": 14,
     "metadata": {},
     "output_type": "execute_result"
    }
   ],
   "source": [
    "article_df.source_file.value_counts()"
   ]
  },
  {
   "cell_type": "markdown",
   "metadata": {},
   "source": [
    "## Attributes Cleaning\n",
    "\n",
    "1. Identify for which attributes we have a sufficient amount of data available\n",
    "2. Identify attributes for which the number of unique values is not too high, i.e. a sensible usage of this attribute is possible"
   ]
  },
  {
   "cell_type": "code",
   "execution_count": 15,
   "metadata": {},
   "outputs": [
    {
     "data": {
      "text/plain": [
       "category_name\n",
       "Size & fit         92079\n",
       "Details            76559\n",
       "Material & care    51242\n",
       "Name: count, dtype: int64"
      ]
     },
     "execution_count": 15,
     "metadata": {},
     "output_type": "execute_result"
    }
   ],
   "source": [
    "# Number of highlevel attribute categories\n",
    "df.category_name.value_counts()"
   ]
  },
  {
   "cell_type": "code",
   "execution_count": 16,
   "metadata": {},
   "outputs": [
    {
     "data": {
      "text/plain": [
       "category_name\n",
       "Details            17\n",
       "Material & care    13\n",
       "Size & fit         11\n",
       "Name: attribute_name, dtype: int64"
      ]
     },
     "metadata": {},
     "output_type": "display_data"
    }
   ],
   "source": [
    "# Number of attributes in each category\n",
    "display(df.groupby('category_name').attribute_name.nunique())"
   ]
  },
  {
   "cell_type": "code",
   "execution_count": 17,
   "metadata": {},
   "outputs": [
    {
     "name": "stdout",
     "output_type": "stream",
     "text": [
      "Category: Material & care\n",
      "attribute_name\n",
      "Outer fabric material                          18066\n",
      "Care instructions                              10033\n",
      "Fabric                                          9103\n",
      "Lining                                          6713\n",
      "Back material                                   1535\n",
      "Insert material                                 1199\n",
      "Bottom part material                            1134\n",
      "Contains non-textile parts of animal origin     1000\n",
      "Sleeves material                                 721\n",
      "Front material                                   666\n",
      "Top part material                                585\n",
      "Filling                                          442\n",
      "Middle part material                              45\n",
      "Name: count, dtype: int64\n",
      "--------------------------------------------------\n",
      "Category: Details\n",
      "attribute_name\n",
      "Article number                   18066\n",
      "Pattern                          17212\n",
      "Neckline                         15016\n",
      "Details                          10827\n",
      "Fastening                         9022\n",
      "Collar                            3679\n",
      "Pockets                           1290\n",
      "Sheer                              964\n",
      "Sport                              167\n",
      "Qualities                          147\n",
      "Rise                                78\n",
      "Breathable                          76\n",
      "Licensed characters                  4\n",
      "Designed for wheelchair users        3\n",
      "Design                               3\n",
      "Extras                               3\n",
      "Hem                                  2\n",
      "Name: count, dtype: int64\n",
      "--------------------------------------------------\n",
      "Category: Size & fit\n",
      "attribute_name\n",
      "Sleeve length         20232\n",
      "Length                18042\n",
      "Fit                   17906\n",
      "Shape                 17678\n",
      "Our model's height     8097\n",
      "Total length           7643\n",
      "Back width             1783\n",
      "Cut                     669\n",
      "Outer leg length         24\n",
      "Jacket length             4\n",
      "Inner leg length          1\n",
      "Name: count, dtype: int64\n",
      "--------------------------------------------------\n"
     ]
    }
   ],
   "source": [
    "for cat in df.category_name.unique():\n",
    "    print(f\"Category: {cat}\")\n",
    "    print(df[df.category_name == cat].attribute_name.value_counts())\n",
    "    print('-'*50)"
   ]
  },
  {
   "cell_type": "markdown",
   "metadata": {},
   "source": [
    "#### Attributes with sufficient data: \n",
    "##### Material & Care: \n",
    "    - Outer fabric material \n",
    "    - Fabric\n",
    "    - Lining\n",
    "##### Details: \n",
    "    - Pattern\n",
    "    - Neckine\n",
    "    - Details\n",
    "    - Fastening\n",
    "    - Collar\n",
    "##### Size & fit\n",
    "    - Sleeve length\n",
    "    - Length\n",
    "    - Fit\n",
    "    - Shape\n",
    "    - Total length\n",
    "\n",
    "\n",
    "-> Now check how many unique values each of these attributes has. If there are too many unique values, this is not a meaningful attribute to consider in this application"
   ]
  },
  {
   "cell_type": "code",
   "execution_count": 18,
   "metadata": {},
   "outputs": [
    {
     "name": "stdout",
     "output_type": "stream",
     "text": [
      "Material & Care:\n",
      "\tOuter fabric material: 1889\n",
      "\tFabric: 78\n",
      "\tLining: 326\n",
      "Details:\n",
      "\tPattern: 16\n",
      "\tNeckline: 12\n",
      "\tDetails: 789\n",
      "\tFasteing: 0\n",
      "\tCollar: 18\n",
      "Size & Fit:\n",
      "\tSleeve length: 448\n",
      "\tLength: 11\n",
      "\tFit: 14\n",
      "\tShape: 6\n",
      "\tTotal length: 1004\n"
     ]
    }
   ],
   "source": [
    "print('Material & Care:')\n",
    "for attr in ['Outer fabric material', 'Fabric', 'Lining']:\n",
    "    print(f\"\\t{attr}: {df[df.attribute_name == attr].attribute_value.nunique()}\")\n",
    "print('Details:')\n",
    "for attr in ['Pattern', 'Neckline', 'Details', 'Fasteing', 'Collar']:\n",
    "    print(f\"\\t{attr}: {df[df.attribute_name == attr].attribute_value.nunique()}\")\n",
    "print('Size & Fit:')    \n",
    "for attr in ['Sleeve length', 'Length', 'Fit', 'Shape', 'Total length']:\n",
    "    print(f\"\\t{attr}: {df[df.attribute_name == attr].attribute_value.nunique()}\")\n"
   ]
  },
  {
   "cell_type": "markdown",
   "metadata": {},
   "source": [
    "### Closer Look: Sleeve Length"
   ]
  },
  {
   "cell_type": "code",
   "execution_count": 19,
   "metadata": {},
   "outputs": [
    {
     "name": "stdout",
     "output_type": "stream",
     "text": [
      "Number of unique sleeve lengths: 448\n"
     ]
    },
    {
     "data": {
      "text/plain": [
       "attribute_value\n",
       "Long                  4729\n",
       "Short                 3321\n",
       "Sleeveless            3256\n",
       "3/4 length            1857\n",
       "Spaghetti straps      1566\n",
       "                      ... \n",
       "62.23 cm (Size M)        1\n",
       "60.69 cm (Size M)        1\n",
       "73 cm (Size 34)          1\n",
       "67 cm (Size 36/38)       1\n",
       "70.48 cm (Size 40)       1\n",
       "Name: count, Length: 448, dtype: int64"
      ]
     },
     "execution_count": 19,
     "metadata": {},
     "output_type": "execute_result"
    }
   ],
   "source": [
    "sleeve = df[df.attribute_name == 'Sleeve length']\n",
    "print(f\"Number of unique sleeve lengths: {sleeve.attribute_value.nunique()}\")\n",
    "sleeve.attribute_value.value_counts()"
   ]
  },
  {
   "cell_type": "markdown",
   "metadata": {},
   "source": [
    "### Correcting Sleeve Length Attribute Values: \n",
    "- Remove all values that have \"cm\" in their string -> Those cannot be used in a consistent way\n",
    "- Combine \"Sleeveless, strapless\" and \"Strapless, sleeveless\" into one category\n",
    "- Recode all other mixed values into \"mixed\" "
   ]
  },
  {
   "cell_type": "code",
   "execution_count": 20,
   "metadata": {},
   "outputs": [],
   "source": [
    "df['attribute_value'] = np.where((df.attribute_name == 'Sleeve length') & (df.attribute_value.str.contains('cm')), \n",
    "                                 None, \n",
    "                                 df.attribute_value)\n",
    "df['attribute_value'] = np.where((df.attribute_name == 'Sleeve length') & (df.attribute_value.str.contains('Strapless, sleeveless')), \n",
    "                                 'Sleeveless, strapless', \n",
    "                                 df.attribute_value)\n",
    "df['attribute_value'] = np.where((df.attribute_name == 'Sleeve length') & \n",
    "                                 (df.attribute_value.str.contains(',')) & \n",
    "                                 (df.attribute_value.str.contains('Sleeveless, strapless') == False), \n",
    "                                 'Mixed', \n",
    "                                 df.attribute_value)\n"
   ]
  },
  {
   "cell_type": "code",
   "execution_count": 21,
   "metadata": {},
   "outputs": [
    {
     "data": {
      "text/plain": [
       "attribute_value\n",
       "Long                     4729\n",
       "Short                    3321\n",
       "Sleeveless               3256\n",
       "3/4 length               1857\n",
       "Spaghetti straps         1566\n",
       "Elbow length              935\n",
       "Extra short               914\n",
       "Extra long                836\n",
       "Mixed                     232\n",
       "Strapless                 231\n",
       "Sleeveless, strapless     170\n",
       "Name: count, dtype: int64"
      ]
     },
     "execution_count": 21,
     "metadata": {},
     "output_type": "execute_result"
    }
   ],
   "source": [
    "df[df.attribute_name == 'Sleeve length'].attribute_value.value_counts()"
   ]
  },
  {
   "cell_type": "markdown",
   "metadata": {},
   "source": [
    "### Result: Attributes to Keep:\n",
    "Suitable attributes:\n",
    "- Fabric\n",
    "- Pattern\n",
    "- Neckline\n",
    "- Collar\n",
    "- Length\n",
    "- Fit\n",
    "- Shape\n",
    "- Sleeve length"
   ]
  },
  {
   "cell_type": "code",
   "execution_count": 22,
   "metadata": {},
   "outputs": [
    {
     "name": "stdout",
     "output_type": "stream",
     "text": [
      "Number of rows before filtering: 219880\n",
      "Number of rows after filtering: 118868\n"
     ]
    }
   ],
   "source": [
    "attrs_to_keep = ['Fabric', 'Pattern', 'Neckline', 'Collar', 'Length', 'Fit', 'Shape', 'Sleeve length']\n",
    "print(f\"Number of rows before filtering: {df.shape[0]}\")\n",
    "df = df[df.attribute_name.isin(attrs_to_keep)]\n",
    "print(f\"Number of rows after filtering: {df.shape[0]}\")"
   ]
  },
  {
   "cell_type": "markdown",
   "metadata": {},
   "source": [
    "### Clean each attribute\n",
    "\n",
    "- For each attribute, the unique values are checked and a corrected mapping is introduced if necessary\n",
    "- Values with very low frequency are mapped to a common value ('Other')"
   ]
  },
  {
   "cell_type": "code",
   "execution_count": 23,
   "metadata": {},
   "outputs": [],
   "source": [
    "def map_value(df, attribute_name, mapping):\n",
    "    df.loc[df.attribute_name == attribute_name, 'attribute_value'] = (\n",
    "        df.loc[df.attribute_name == attribute_name, 'attribute_value']\n",
    "        .map(mapping)\n",
    "    )\n",
    "    return df\n",
    "\n",
    "def trancate_mapping_with_other(df, attribute_name, threshold=10):\n",
    "    counts = df[df.attribute_name == attribute_name].attribute_value.value_counts()\n",
    "    other_mapping = {elem:'Other' for elem in counts[counts < threshold].index.to_list()}\n",
    "    mapping = {elem:elem for elem in counts.index.to_list()}\n",
    "    mapping.update(other_mapping)\n",
    "    df.loc[df.attribute_name == attribute_name, 'attribute_value'] = (\n",
    "        df.loc[df.attribute_name == attribute_name, 'attribute_value']\n",
    "        .map(mapping)\n",
    "    )\n",
    "    return df\n",
    "\n",
    "def print_summary(attribute_name):\n",
    "    print(f\"{attribute_name}\")\n",
    "    print(f\"Unique values: {df[df.attribute_name == attribute_name].attribute_value.nunique()}\")\n",
    "    print(df[df.attribute_name == attribute_name].attribute_value.value_counts())\n",
    "    "
   ]
  },
  {
   "cell_type": "markdown",
   "metadata": {},
   "source": [
    "#### Fabric"
   ]
  },
  {
   "cell_type": "code",
   "execution_count": 24,
   "metadata": {},
   "outputs": [],
   "source": [
    "mapping = {\n",
    "'Jersey': 'Jersey',\n",
    " 'Knit': 'Knit',\n",
    " 'Chiffon': 'Chiffon',\n",
    " 'Rib': 'Rib',\n",
    " 'Satin': 'Satin',\n",
    " 'Tulle': 'Tulle',\n",
    " 'Lace': 'Lace',\n",
    " 'Denim': 'Denim',\n",
    " 'Sweat': 'Sweat',\n",
    " 'Mesh': 'Mesh',\n",
    " 'Velvet/velour': 'Velvet/velour',\n",
    " 'Piqué': 'Piqué',\n",
    " 'Crocheted': 'Crocheted',\n",
    " 'Rib, knit': 'Rib',\n",
    " 'Knit, rib': 'Knit',\n",
    " 'Faux leather': 'Faux leather',\n",
    " 'Lace, chiffon': 'Mixed',\n",
    " 'Jersey, Lace': 'Mixed',\n",
    " 'Chiffon, Lace': 'Mixed',\n",
    " 'Cord': 'Cord',\n",
    " 'Lace, tulle': 'Mixed',\n",
    " 'Tulle, Lace': 'Mixed',\n",
    " 'Jersey, tulle': 'Mixed',\n",
    " 'Jersey, chiffon': 'Mixed',\n",
    " 'Jersey, rib': 'Mixed',\n",
    " 'Satin, Lace': 'Mixed',\n",
    " 'Chiffon, satin': 'Mixed',\n",
    " 'Canvas': 'Canvas',\n",
    " 'Jersey, satin': 'Mixed',\n",
    " 'Satin, Jersey': 'Mixed',\n",
    " 'Satin, tulle': 'Mixed',\n",
    " 'Flannel': 'Flannel',\n",
    " 'Fleece': 'Fleece',\n",
    " 'Satin, knit': 'Mixed',\n",
    " 'Mesh, Lace': 'Mixed',\n",
    " 'Satin, mesh': 'Mixed',\n",
    " 'Crocheted, Lace': 'Mixed',\n",
    " 'Chiffon, Jersey': 'Mixed',\n",
    " 'Rib, chiffon': 'Mixed',\n",
    " 'Lace, satin': 'Mixed',\n",
    " 'Tulle, Lace, knit': 'Mixed',\n",
    " 'Faux fur': 'Faux fur',\n",
    " 'Knit, Lace': 'Mixed',\n",
    " 'Rib, satin': 'Mixed',\n",
    " 'Knit, Crocheted': 'Mixed',\n",
    " 'Jersey, faux leather': 'Mixed',\n",
    " 'Velvet/velour, tulle': 'Mixed',\n",
    " 'Tulle, Jersey': 'Mixed',\n",
    " 'Tulle, satin': 'Mixed',\n",
    " 'Jersey, knit': 'Mixed',\n",
    " 'Lace, Crocheted': 'Mixed',\n",
    " 'Rib, Jersey': 'Mixed',\n",
    " 'Rib, tulle': 'Mixed',\n",
    " 'Terry towelling': 'Mixed',\n",
    " 'Knit, Jersey': 'Mixed',\n",
    " 'Rib, mesh': 'Mixed',\n",
    " 'Softshell': 'Softshell',\n",
    " 'Faux leather, rib': 'Mixed',\n",
    " 'Knit, mesh': 'Mixed',\n",
    " 'Braided': 'Braided',\n",
    " 'Velvet/velour, satin': 'Mixed',\n",
    " 'Rib, velvet/velour': 'Mixed',\n",
    " 'Mesh, chiffon': 'Mixed',\n",
    " 'Lace, Denim': 'Mixed',\n",
    " 'Satin, chiffon': 'Mixed',\n",
    " 'Softshell, mesh': 'Mixed',\n",
    " 'Mesh, Jersey':'Mixed',\n",
    " 'Chiffon, velvet/velour': 'Mixed',\n",
    " 'Knit, tulle': 'Mixed',\n",
    " 'Mesh, satin': 'Mixed',\n",
    " 'Mesh, tulle': 'Mixed',\n",
    " 'Hardshell': 'Hardshell',\n",
    " 'Chiffon, tulle': 'Mixed',\n",
    " 'Lace, Jersey': 'Mixed',\n",
    " 'Tulle, chiffon':'Mixed',\n",
    " 'Satin, Lace, mesh': 'Mixed',\n",
    " 'Jersey, Crocheted': 'Mixed',\n",
    " 'Knit, satin': 'Mixed',\n",
    "}\n"
   ]
  },
  {
   "cell_type": "code",
   "execution_count": 25,
   "metadata": {},
   "outputs": [
    {
     "name": "stdout",
     "output_type": "stream",
     "text": [
      "Fabric\n",
      "Unique values: 17\n",
      "attribute_value\n",
      "Jersey           2271\n",
      "Knit             1691\n",
      "Chiffon          1189\n",
      "Rib              1107\n",
      "Satin             835\n",
      "Tulle             388\n",
      "Lace              346\n",
      "Denim             340\n",
      "Sweat             247\n",
      "Mixed             208\n",
      "Mesh              185\n",
      "Velvet/velour     113\n",
      "Piqué              59\n",
      "Crocheted          58\n",
      "Faux leather       30\n",
      "Other              22\n",
      "Cord               14\n",
      "Name: count, dtype: int64\n"
     ]
    }
   ],
   "source": [
    "df = map_value(df, 'Fabric', mapping)\n",
    "df = trancate_mapping_with_other(df, 'Fabric', threshold=10)\n",
    "print_summary('Fabric')"
   ]
  },
  {
   "cell_type": "markdown",
   "metadata": {},
   "source": [
    "#### Pattern"
   ]
  },
  {
   "cell_type": "code",
   "execution_count": 26,
   "metadata": {},
   "outputs": [
    {
     "name": "stdout",
     "output_type": "stream",
     "text": [
      "Pattern\n",
      "Unique values: 16\n",
      "attribute_value\n",
      "Plain              9505\n",
      "Floral             2332\n",
      "Print              2312\n",
      "Marl               1253\n",
      "Striped             585\n",
      "Animal print        436\n",
      "Polka dot           248\n",
      "Checked             157\n",
      "Paisley             145\n",
      "Colourful           118\n",
      "Colour gradient      40\n",
      "Herringbone          38\n",
      "Pinstriped           22\n",
      "Camouflage           11\n",
      "Photo print           6\n",
      "Burnout               4\n",
      "Name: count, dtype: int64\n"
     ]
    }
   ],
   "source": [
    "print_summary('Pattern')\n",
    "df = trancate_mapping_with_other(df, 'Pattern', threshold=10)"
   ]
  },
  {
   "cell_type": "markdown",
   "metadata": {},
   "source": [
    "#### Neckline"
   ]
  },
  {
   "cell_type": "code",
   "execution_count": 27,
   "metadata": {},
   "outputs": [
    {
     "name": "stdout",
     "output_type": "stream",
     "text": [
      "Neckline\n",
      "Unique values: 12\n",
      "attribute_value\n",
      "Crew neck           5010\n",
      "Low-cut v-neck      3226\n",
      "Backless            2511\n",
      "Cache-coeur         1527\n",
      "V-neck               940\n",
      "Scoop neck           410\n",
      "Square neck          385\n",
      "Boat neck            366\n",
      "Off-the-shoulder     330\n",
      "Henley               210\n",
      "Cowl neck             99\n",
      "Envelope               2\n",
      "Name: count, dtype: int64\n"
     ]
    }
   ],
   "source": [
    "print_summary('Neckline')\n",
    "df = trancate_mapping_with_other(df, 'Neckline', threshold=10)"
   ]
  },
  {
   "cell_type": "markdown",
   "metadata": {},
   "source": [
    "#### Collar"
   ]
  },
  {
   "cell_type": "code",
   "execution_count": 28,
   "metadata": {},
   "outputs": [
    {
     "name": "stdout",
     "output_type": "stream",
     "text": [
      "Collar\n",
      "Unique values: 18\n",
      "attribute_value\n",
      "Standing collar       1822\n",
      "Turn-down collar       677\n",
      "Polo neck              287\n",
      "Hood                   201\n",
      "Volant collar          119\n",
      "Lapel collar           107\n",
      "Polo shirt             102\n",
      "High collar             83\n",
      "Mandarin collar         68\n",
      "Shawl collar            65\n",
      "Zip neck                55\n",
      "Shirt collar            43\n",
      "Peter Pan collar        16\n",
      "Button down             15\n",
      "Contrasting collar      13\n",
      "Cup-shaped collar        3\n",
      "Kent collar              2\n",
      "V-neck                   1\n",
      "Name: count, dtype: int64\n"
     ]
    }
   ],
   "source": [
    "print_summary('Collar')\n",
    "df = trancate_mapping_with_other(df, 'Collar', threshold=10)"
   ]
  },
  {
   "cell_type": "markdown",
   "metadata": {},
   "source": [
    "#### Length"
   ]
  },
  {
   "cell_type": "code",
   "execution_count": 29,
   "metadata": {},
   "outputs": [
    {
     "name": "stdout",
     "output_type": "stream",
     "text": [
      "Length\n",
      "Unique values: 11\n",
      "attribute_value\n",
      "Calf-length        4777\n",
      "Short              4446\n",
      "Long               4037\n",
      "Knee-length        3697\n",
      "Extra short         990\n",
      "Thigh-length         51\n",
      "Extra long           18\n",
      "Mid-length            9\n",
      "7/8 length            8\n",
      "Normal                8\n",
      "81 cm (Size 38)       1\n",
      "Name: count, dtype: int64\n"
     ]
    }
   ],
   "source": [
    "print_summary('Length')\n",
    "df = trancate_mapping_with_other(df, 'Length', threshold=10)"
   ]
  },
  {
   "cell_type": "markdown",
   "metadata": {},
   "source": [
    "### Fit"
   ]
  },
  {
   "cell_type": "code",
   "execution_count": 30,
   "metadata": {},
   "outputs": [
    {
     "name": "stdout",
     "output_type": "stream",
     "text": [
      "Fit\n",
      "Unique values: 14\n",
      "attribute_value\n",
      "Regular Fit     10877\n",
      "Slim Fit         4003\n",
      "Loose Fit        1797\n",
      "Skinny Fit       1064\n",
      "Oversized          82\n",
      "Fitted waist       39\n",
      "Normal fit         25\n",
      "Small               5\n",
      "Bodycon             5\n",
      "Regular fit         3\n",
      "Loose fit           2\n",
      "Tight fit           2\n",
      "Wide cut            1\n",
      "Slim fit            1\n",
      "Name: count, dtype: int64\n",
      "Fit\n",
      "Unique values: 7\n",
      "attribute_value\n",
      "Regular Fit     10880\n",
      "Slim Fit         4009\n",
      "Loose Fit        1800\n",
      "Skinny Fit       1071\n",
      "Oversized          82\n",
      "Fitted waist       39\n",
      "Normal fit         25\n",
      "Name: count, dtype: int64\n"
     ]
    }
   ],
   "source": [
    "print_summary('Fit')\n",
    "fit_mapping = {\n",
    "'Regular Fit': 'Regular Fit',\n",
    " 'Slim Fit': 'Slim Fit',\n",
    " 'Loose Fit': 'Loose Fit',\n",
    " 'Skinny Fit': 'Skinny Fit',\n",
    " 'Oversized': 'Oversized',\n",
    " 'Fitted waist': 'Fitted waist',\n",
    " 'Normal fit': 'Normal fit',\n",
    " 'Small': 'Slim Fit',\n",
    " 'Bodycon': 'Skinny Fit',\n",
    " 'Regular fit': 'Regular Fit',\n",
    " 'Loose fit': 'Loose Fit',\n",
    " 'Tight fit': 'Skinny Fit',\n",
    " 'Wide cut': 'Loose Fit',\n",
    " 'Slim fit': 'Slim Fit'\n",
    " }\n",
    "df = map_value(df, 'Fit', fit_mapping)\n",
    "print_summary('Fit')"
   ]
  },
  {
   "cell_type": "markdown",
   "metadata": {},
   "source": [
    "#### Shape"
   ]
  },
  {
   "cell_type": "code",
   "execution_count": 31,
   "metadata": {},
   "outputs": [
    {
     "name": "stdout",
     "output_type": "stream",
     "text": [
      "Shape\n",
      "Unique values: 6\n",
      "attribute_value\n",
      "Fitted          7539\n",
      "Flared          4494\n",
      "Straight        4332\n",
      "Body-hugging    1229\n",
      "Cocoon            60\n",
      "Tapered           24\n",
      "Name: count, dtype: int64\n"
     ]
    }
   ],
   "source": [
    "print_summary('Shape')"
   ]
  },
  {
   "cell_type": "markdown",
   "metadata": {},
   "source": [
    "## Read in Image Dicts"
   ]
  },
  {
   "cell_type": "code",
   "execution_count": 32,
   "metadata": {},
   "outputs": [
    {
     "data": {
      "text/plain": [
       "['../../Data.nosync/Zalando_Germany_Dataset/image_dicts/dresses/jersey_dresses.json',\n",
       " '../../Data.nosync/Zalando_Germany_Dataset/image_dicts/dresses/dirndl_dresses.json',\n",
       " '../../Data.nosync/Zalando_Germany_Dataset/image_dicts/dresses/shift_dresses.json',\n",
       " '../../Data.nosync/Zalando_Germany_Dataset/image_dicts/dresses/occasion_dresses.json',\n",
       " '../../Data.nosync/Zalando_Germany_Dataset/image_dicts/dresses/shirt_dresses.json',\n",
       " '../../Data.nosync/Zalando_Germany_Dataset/image_dicts/dresses/evening_dresses.json',\n",
       " '../../Data.nosync/Zalando_Germany_Dataset/image_dicts/dresses/knitted_dresses.json',\n",
       " '../../Data.nosync/Zalando_Germany_Dataset/image_dicts/dresses/casual_dresses.json',\n",
       " '../../Data.nosync/Zalando_Germany_Dataset/image_dicts/dresses/denim_dresses.json',\n",
       " '../../Data.nosync/Zalando_Germany_Dataset/image_dicts/dresses/maxi_dresses.json']"
      ]
     },
     "execution_count": 32,
     "metadata": {},
     "output_type": "execute_result"
    }
   ],
   "source": [
    "# Metadata files\n",
    "path = f\"{DATA_PATH}Zalando_Germany_Dataset/image_dicts/dresses/*\"\n",
    "image_dicts = glob(path)\n",
    "image_dicts"
   ]
  },
  {
   "cell_type": "code",
   "execution_count": 33,
   "metadata": {},
   "outputs": [
    {
     "name": "stderr",
     "output_type": "stream",
     "text": [
      "100%|██████████| 10/10 [00:00<00:00, 174.19it/s]"
     ]
    },
    {
     "name": "stdout",
     "output_type": "stream",
     "text": [
      "22.04% of the images are missing packshot images\n"
     ]
    },
    {
     "name": "stderr",
     "output_type": "stream",
     "text": [
      "\n"
     ]
    }
   ],
   "source": [
    "images_dict = {}\n",
    "for path in tqdm(image_dicts):\n",
    "    with open(path, 'r') as f:\n",
    "        image_data = json.load(f)\n",
    "    images_dict = {**images_dict, **image_data}\n",
    "percent_missing = len([k for k,v in images_dict.items() if v['packshot_link'] == None])/len(images_dict)*100\n",
    "print(f\"{np.round(percent_missing, 2)}% of the images are missing packshot images\")\n",
    "\n",
    "# Create dict with only packshot images\n",
    "packshot_images = {key:value['packshot_link'] for key, value in images_dict.items()}\n",
    "# Map packshot images to the article dataframe\n",
    "df['packshot_url'] = df.sku.map(packshot_images)\n"
   ]
  },
  {
   "cell_type": "markdown",
   "metadata": {},
   "source": [
    "### Parse everything into dictionary and Save\n",
    "\n",
    "- Subset to only articles with packshot images\n",
    "- Parse everything into single dictionary which will be used for all the other steps in the thesis\n",
    "- Save the dictionary"
   ]
  },
  {
   "cell_type": "code",
   "execution_count": 34,
   "metadata": {},
   "outputs": [
    {
     "name": "stdout",
     "output_type": "stream",
     "text": [
      "Number of articles with packshot images: 14060\n",
      "Number of articles without packshot images: 3971\n"
     ]
    }
   ],
   "source": [
    "# Subset to only articles with packshot images\n",
    "print(f\"Number of articles with packshot images: {df[df.packshot_url.notnull()].sku.nunique()}\")\n",
    "print(f\"Number of articles without packshot images: {df[df.packshot_url.isnull()].sku.nunique()}\")\n",
    "df = df[df.packshot_url.notnull()]"
   ]
  },
  {
   "cell_type": "code",
   "execution_count": 35,
   "metadata": {},
   "outputs": [
    {
     "name": "stderr",
     "output_type": "stream",
     "text": [
      "100%|██████████| 14060/14060 [00:47<00:00, 295.34it/s]\n"
     ]
    }
   ],
   "source": [
    "# Function to safely retrieve attribute values\n",
    "def get_attribute_value(data, attribute_name, default_value=None):\n",
    "    try:\n",
    "        # Attempt to return the first value that matches the attribute name\n",
    "        return data.loc[data['attribute_name'] == attribute_name, 'attribute_value'].values[0]\n",
    "    except IndexError:\n",
    "        # Return the default value if the attribute doesn't exist\n",
    "        return default_value\n",
    "def create_data_dict(data):\n",
    "    data_dict = {\n",
    "        'name': data['name'].values[0],\n",
    "        'sku_base': data['sku_base'].values[0],\n",
    "        'sku_color_code': data['sku_color_code'].values[0],\n",
    "        'url': data['url'].values[0] if 'url' in data.columns else None, \n",
    "        'brand': data['brand'].values[0] if 'brand' in data.columns else None, \n",
    "        'original_price': data['original_price'].values[0] if 'original_price' in data.columns else None,\n",
    "        'current_price': data['current_price'].values[0] if 'current_price' in data.columns else None,\n",
    "        'brand_url': data['brand_url'].values[0] if 'brand_url' in data.columns else None,\n",
    "        'category': data['category'].values[0] if 'category' in data.columns else None,\n",
    "        'garment_type': data['source_file'].values[0].split('.')[0],\n",
    "        #'color': data['color'].values[0] if 'color' in data.columns else None, \n",
    "        'fabric': get_attribute_value(data, 'Fabric'), \n",
    "        'fit': get_attribute_value(data, 'Fit'), \n",
    "        'neckline': get_attribute_value(data, 'Neckline'), \n",
    "        'pattern': get_attribute_value(data, 'Pattern'), \n",
    "        'collar': get_attribute_value(data, 'Collar'), \n",
    "        'length': get_attribute_value(data, 'Length'),\n",
    "        'shape': get_attribute_value(data, 'Shape'),\n",
    "        'thumbnail_url': data['thumbnail_url'].values[0],\n",
    "        'packshot_url': data['packshot_url'].values[0],\n",
    "    }\n",
    "    return data_dict\n",
    "\n",
    "new_metadata = {}\n",
    "for sku in tqdm(df.sku.unique()):\n",
    "    data = df[df.sku == sku]\n",
    "    new_metadata[sku] = create_data_dict(data)\n",
    "\n",
    "\n",
    "# Dump to JSON\n",
    "path = f'{DATA_PATH}Zalando_Germany_Dataset/dresses/metadata/dresses_metadata.json'\n",
    "with open(path, 'w') as f:\n",
    "    json.dump(new_metadata, f)"
   ]
  },
  {
   "cell_type": "code",
   "execution_count": 36,
   "metadata": {},
   "outputs": [
    {
     "data": {
      "text/plain": [
       "14060"
      ]
     },
     "execution_count": 36,
     "metadata": {},
     "output_type": "execute_result"
    }
   ],
   "source": [
    "len(new_metadata)"
   ]
  },
  {
   "cell_type": "markdown",
   "metadata": {},
   "source": [
    "### Remove all Remaining Images in the Image Folder that do not correspond to the Articles in the final metadata\n"
   ]
  },
  {
   "cell_type": "code",
   "execution_count": 37,
   "metadata": {},
   "outputs": [
    {
     "name": "stdout",
     "output_type": "stream",
     "text": [
      "Removing ../../Data.nosync/Zalando_Germany_Dataset/dresses/images/raw_images/LE221T01Q-K14.jpg\n",
      "Removing ../../Data.nosync/Zalando_Germany_Dataset/dresses/images/raw_images/GS121G0BS-K11.jpg\n",
      "Removing ../../Data.nosync/Zalando_Germany_Dataset/dresses/images/raw_images/GS121E0FA-K11.jpg\n",
      "Removing ../../Data.nosync/Zalando_Germany_Dataset/dresses/images/raw_images/HU721B0C4-D11.jpg\n",
      "Removing ../../Data.nosync/Zalando_Germany_Dataset/dresses/images/raw_images/GS121N0RX-K11.jpg\n",
      "Removing ../../Data.nosync/Zalando_Germany_Dataset/dresses/images/raw_images/GS121G0BR-K11.jpg\n",
      "Removing ../../Data.nosync/Zalando_Germany_Dataset/dresses/images/raw_images/HU721I0CW-E11.jpg\n",
      "Removing ../../Data.nosync/Zalando_Germany_Dataset/dresses/images/raw_images/M1X21C04P-A11.jpg\n",
      "Removing ../../Data.nosync/Zalando_Germany_Dataset/dresses/images/raw_images/P1421C0X7-T11.jpg\n",
      "Removing ../../Data.nosync/Zalando_Germany_Dataset/dresses/images/raw_images/M7521C08T-Q11.jpg\n",
      "Removing ../../Data.nosync/Zalando_Germany_Dataset/dresses/images/raw_images/LLS41E02O-Q11.jpg\n",
      "Removing ../../Data.nosync/Zalando_Germany_Dataset/dresses/images/raw_images/LLS41F002-A11.jpg\n",
      "Removing ../../Data.nosync/Zalando_Germany_Dataset/dresses/images/raw_images/GS121E0F2-K11.jpg\n",
      "Removing ../../Data.nosync/Zalando_Germany_Dataset/dresses/images/raw_images/HU721I0CZ-Q11.jpg\n",
      "Removing ../../Data.nosync/Zalando_Germany_Dataset/dresses/images/raw_images/LE221N0L7-K11.jpg\n",
      "Removing ../../Data.nosync/Zalando_Germany_Dataset/dresses/images/raw_images/LI621C0F0-C11.jpg\n",
      "Removing ../../Data.nosync/Zalando_Germany_Dataset/dresses/images/raw_images/HU721G0AU-D11.jpg\n",
      "Removing ../../Data.nosync/Zalando_Germany_Dataset/dresses/images/raw_images/HU721A0GL-A11.jpg\n",
      "Removing ../../Data.nosync/Zalando_Germany_Dataset/dresses/images/raw_images/PUH21C02N-K11.jpg\n",
      "Removing ../../Data.nosync/Zalando_Germany_Dataset/dresses/images/raw_images/PS981H004-T11.jpg\n",
      "Removing ../../Data.nosync/Zalando_Germany_Dataset/dresses/images/raw_images/LE221G075-K12.jpg\n",
      "Removing ../../Data.nosync/Zalando_Germany_Dataset/dresses/images/raw_images/LLS41D00U-A11.jpg\n",
      "Removing ../../Data.nosync/Zalando_Germany_Dataset/dresses/images/raw_images/LE221D0JY-Q11.jpg\n",
      "Removing ../../Data.nosync/Zalando_Germany_Dataset/dresses/images/raw_images/MA321C0Y0-J11.jpg\n",
      "Removing ../../Data.nosync/Zalando_Germany_Dataset/dresses/images/raw_images/HU721G0AL-L11.jpg\n",
      "Removing ../../Data.nosync/Zalando_Germany_Dataset/dresses/images/raw_images/HU721I0CU-A11.jpg\n",
      "Removing ../../Data.nosync/Zalando_Germany_Dataset/dresses/images/raw_images/GS121T0DZ-K11.jpg\n",
      "Removing ../../Data.nosync/Zalando_Germany_Dataset/dresses/images/raw_images/HU781H004-Q11.jpg\n",
      "Removing ../../Data.nosync/Zalando_Germany_Dataset/dresses/images/raw_images/HU721D0DN-A11.jpg\n",
      "Removing ../../Data.nosync/Zalando_Germany_Dataset/dresses/images/raw_images/APH21C0AX-M11.jpg\n",
      "Removing ../../Data.nosync/Zalando_Germany_Dataset/dresses/images/raw_images/GS121N0RC-K11.jpg\n",
      "Removing ../../Data.nosync/Zalando_Germany_Dataset/dresses/images/raw_images/HU721B0C6-Q11.jpg\n",
      "Removing ../../Data.nosync/Zalando_Germany_Dataset/dresses/images/raw_images/HU721I0CU-K11.jpg\n",
      "Removing ../../Data.nosync/Zalando_Germany_Dataset/dresses/images/raw_images/M1X21C04P-Q11.jpg\n",
      "Removing ../../Data.nosync/Zalando_Germany_Dataset/dresses/images/raw_images/HU721A0GH-A11.jpg\n",
      "Removing ../../Data.nosync/Zalando_Germany_Dataset/dresses/images/raw_images/S1981H07C-A11.jpg\n",
      "Removing ../../Data.nosync/Zalando_Germany_Dataset/dresses/images/raw_images/LLS41E02J-Q11.jpg\n",
      "Removing ../../Data.nosync/Zalando_Germany_Dataset/dresses/images/raw_images/LE221N082-K13.jpg\n",
      "Removing ../../Data.nosync/Zalando_Germany_Dataset/dresses/images/raw_images/GS121G0C2-K12.jpg\n",
      "Removing ../../Data.nosync/Zalando_Germany_Dataset/dresses/images/raw_images/LE221A08W-K14.jpg\n",
      "Removing ../../Data.nosync/Zalando_Germany_Dataset/dresses/images/raw_images/LE221N0LV-Q11.jpg\n",
      "Removing ../../Data.nosync/Zalando_Germany_Dataset/dresses/images/raw_images/PE121C0VC-A11.jpg\n",
      "Removing ../../Data.nosync/Zalando_Germany_Dataset/dresses/images/raw_images/LE221N0LT-K15.jpg\n",
      "Removing ../../Data.nosync/Zalando_Germany_Dataset/dresses/images/raw_images/GS121N0S0-K11.jpg\n",
      "Removing ../../Data.nosync/Zalando_Germany_Dataset/dresses/images/raw_images/M1X21C04P-M11.jpg\n",
      "Removing ../../Data.nosync/Zalando_Germany_Dataset/dresses/images/raw_images/LE221N0IY-K16.jpg\n",
      "Removing ../../Data.nosync/Zalando_Germany_Dataset/dresses/images/raw_images/LCB21C02O-K11.jpg\n",
      "Removing ../../Data.nosync/Zalando_Germany_Dataset/dresses/images/raw_images/GS121G0C3-K11.jpg\n",
      "Removing ../../Data.nosync/Zalando_Germany_Dataset/dresses/images/raw_images/LE221N0LT-K12.jpg\n",
      "Removing ../../Data.nosync/Zalando_Germany_Dataset/dresses/images/raw_images/LLS41E02R-A11.jpg\n",
      "Removing ../../Data.nosync/Zalando_Germany_Dataset/dresses/images/raw_images/GS121B06W-K11.jpg\n",
      "Removing ../../Data.nosync/Zalando_Germany_Dataset/dresses/images/raw_images/KA321C0CT-Q12.jpg\n",
      "Removing ../../Data.nosync/Zalando_Germany_Dataset/dresses/images/raw_images/GS121E0FD-K11.jpg\n",
      "Removing ../../Data.nosync/Zalando_Germany_Dataset/dresses/images/raw_images/HU721A0GO-K11.jpg\n",
      "Removing ../../Data.nosync/Zalando_Germany_Dataset/dresses/images/raw_images/LLS41D00I-Q11.jpg\n",
      "Removing ../../Data.nosync/Zalando_Germany_Dataset/dresses/images/raw_images/LE221E0AN-K11.jpg\n"
     ]
    }
   ],
   "source": [
    "import os\n",
    "\n",
    "existing_images = glob(f\"{DATA_PATH}Zalando_Germany_Dataset/dresses/images/raw_images/*.jpg\")\n",
    "for file in existing_images:\n",
    "    sku = file.split('/')[-1].split('.')[0]\n",
    "    if sku not in new_metadata:\n",
    "        print(f\"Removing {file}\")\n",
    "        os.remove(file)"
   ]
  }
 ],
 "metadata": {
  "kernelspec": {
   "display_name": "master_thesis",
   "language": "python",
   "name": "python3"
  },
  "language_info": {
   "codemirror_mode": {
    "name": "ipython",
    "version": 3
   },
   "file_extension": ".py",
   "mimetype": "text/x-python",
   "name": "python",
   "nbconvert_exporter": "python",
   "pygments_lexer": "ipython3",
   "version": "3.10.1"
  }
 },
 "nbformat": 4,
 "nbformat_minor": 2
}
