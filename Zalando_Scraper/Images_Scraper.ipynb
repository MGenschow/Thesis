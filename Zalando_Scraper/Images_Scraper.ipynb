{
 "cells": [
  {
   "cell_type": "code",
   "execution_count": 6,
   "metadata": {},
   "outputs": [],
   "source": [
    "import requests\n",
    "import pandas as pd\n",
    "import os\n",
    "import time\n",
    "import numpy as np\n",
    "from tqdm import tqdm\n",
    "from glob import glob"
   ]
  },
  {
   "cell_type": "code",
   "execution_count": 7,
   "metadata": {},
   "outputs": [
    {
     "name": "stdout",
     "output_type": "stream",
     "text": [
      "There are in total 14701 packshot urls available\n"
     ]
    }
   ],
   "source": [
    "DATA_PATH = '../../Data.nosync/'\n",
    "df = pd.read_json(DATA_PATH + 'Zalando_Germany_Dataset/dresses/metadata/dresses_metadata.json').T\n",
    "urls = df.packshot_url.to_dict()\n",
    "print(f\"There are in total {len(urls)} packshot urls available\")"
   ]
  },
  {
   "cell_type": "code",
   "execution_count": 8,
   "metadata": {},
   "outputs": [
    {
     "name": "stdout",
     "output_type": "stream",
     "text": [
      "Already downloaded images:  573\n"
     ]
    },
    {
     "data": {
      "text/plain": [
       "14128"
      ]
     },
     "execution_count": 8,
     "metadata": {},
     "output_type": "execute_result"
    }
   ],
   "source": [
    "width = 1024\n",
    "\n",
    "# Adapt urls for correct image size\n",
    "urls = {k:v.replace('imwidth=500', f'imwidth={width}') for k,v in urls.items()}\n",
    "\n",
    "existing_files = glob(DATA_PATH + 'Zalando_Germany_Dataset/dresses/images/raw_images/*.jpg')\n",
    "existing_files = [elem.split('/')[-1].split('.')[0] for elem in existing_files]\n",
    "\n",
    "print(\"Already downloaded images: \", len(existing_files))\n",
    "\n",
    "# Remove existing files from urls\n",
    "urls = {k:v for k,v in urls.items() if k not in existing_files}\n",
    "len(urls)"
   ]
  },
  {
   "cell_type": "code",
   "execution_count": null,
   "metadata": {},
   "outputs": [],
   "source": [
    "def download_image(sku, url):\n",
    "    save_path = f\"{DATA_PATH}Zalando_Germany_Dataset/dresses/images/raw_images/{sku}.jpg\"\n",
    "    img_data = requests.get(url).content\n",
    "    with open(save_path, 'wb') as handler:\n",
    "            handler.write(img_data)        \n",
    "    "
   ]
  },
  {
   "cell_type": "code",
   "execution_count": null,
   "metadata": {},
   "outputs": [],
   "source": [
    "for sku, url in tqdm(urls.items()):\n",
    "    download_image(sku, url)\n",
    "    #time.sleep(np.random.uniform(0,1))\n"
   ]
  }
 ],
 "metadata": {
  "kernelspec": {
   "display_name": "master_thesis",
   "language": "python",
   "name": "python3"
  },
  "language_info": {
   "codemirror_mode": {
    "name": "ipython",
    "version": 3
   },
   "file_extension": ".py",
   "mimetype": "text/x-python",
   "name": "python",
   "nbconvert_exporter": "python",
   "pygments_lexer": "ipython3",
   "version": "3.10.1"
  }
 },
 "nbformat": 4,
 "nbformat_minor": 2
}
