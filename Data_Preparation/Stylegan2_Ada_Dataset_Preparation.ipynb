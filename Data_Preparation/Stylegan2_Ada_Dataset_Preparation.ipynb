{
 "cells": [
  {
   "cell_type": "markdown",
   "metadata": {},
   "source": [
    "### Imports"
   ]
  },
  {
   "cell_type": "code",
   "execution_count": 1,
   "metadata": {},
   "outputs": [],
   "source": [
    "import os\n",
    "from glob import glob\n",
    "from PIL import Image\n",
    "from tqdm.notebook import tqdm\n",
    "import pandas as pd\n",
    "import numpy as np"
   ]
  },
  {
   "cell_type": "markdown",
   "metadata": {},
   "source": [
    "### Evaluate Original Images"
   ]
  },
  {
   "cell_type": "code",
   "execution_count": 2,
   "metadata": {},
   "outputs": [
    {
     "name": "stdout",
     "output_type": "stream",
     "text": [
      "Found 3238 images\n"
     ]
    }
   ],
   "source": [
    "image_path = '../../Data.nosync/Zalando_Dataset/dresses/images/raw_images'\n",
    "all_images = glob(image_path + '/*')\n",
    "print(f\"Found {len(all_images)} images\")"
   ]
  },
  {
   "cell_type": "markdown",
   "metadata": {},
   "source": [
    "### Check Image Sizes:"
   ]
  },
  {
   "cell_type": "code",
   "execution_count": 3,
   "metadata": {},
   "outputs": [
    {
     "data": {
      "text/plain": [
       "(1801, 2600)    2665\n",
       "(2083, 3000)     183\n",
       "(762, 1100)      153\n",
       "(1800, 2600)      31\n",
       "(900, 1296)       21\n",
       "                ... \n",
       "(900, 1300)        1\n",
       "(1293, 1862)       1\n",
       "(3689, 5312)       1\n",
       "(782, 1127)        1\n",
       "(3600, 4500)       1\n",
       "Name: count, Length: 94, dtype: int64"
      ]
     },
     "execution_count": 3,
     "metadata": {},
     "output_type": "execute_result"
    }
   ],
   "source": [
    "sizes = {}\n",
    "for image in all_images:\n",
    "    img = Image.open(image)\n",
    "    sizes[image.split('/')[-1]] = img.size\n",
    "sizes = pd.Series(sizes)\n",
    "sizes.value_counts()"
   ]
  },
  {
   "cell_type": "markdown",
   "metadata": {},
   "source": [
    "### Making Images Square\n",
    "- Since dresses have an aspect ratio which is longer than wide, most images are not square but rectangular. \n",
    "- In the following, I will make them square by adding white padding to the shorter side of the image.\n",
    "- This is done symmetrically such that the item is still centered in the image.\n"
   ]
  },
  {
   "cell_type": "code",
   "execution_count": 4,
   "metadata": {},
   "outputs": [],
   "source": [
    "def make_square(im, resize_size = None):\n",
    "    max_size = max(im.size)\n",
    "    # Infer bckground color from top left pixel\n",
    "    background_color = im.getpixel((0,0))\n",
    "    # Create new image with correct background\n",
    "    new_im = Image.new(\"RGB\", (max_size, max_size), color=background_color)\n",
    "    # Paste image in center\n",
    "    new_im.paste(im, box = ((max_size - im.size[0])//2,0))\n",
    "\n",
    "    # If Resizing so specific size is needed:\n",
    "    if resize_size:\n",
    "        new_im = new_im.resize((resize_size, resize_size))\n",
    "\n",
    "    return new_im"
   ]
  },
  {
   "cell_type": "markdown",
   "metadata": {},
   "source": [
    "### Saving Square Images\n",
    "- The square images are saved to a new directory\n",
    "- For now, the images will be resized to 512x512 pixels. Depending on the model that is trained, this can be adapted\n"
   ]
  },
  {
   "cell_type": "code",
   "execution_count": 5,
   "metadata": {},
   "outputs": [
    {
     "data": {
      "application/vnd.jupyter.widget-view+json": {
       "model_id": "af4f2aab11324dc497e675942a50fb70",
       "version_major": 2,
       "version_minor": 0
      },
      "text/plain": [
       "  0%|          | 0/3238 [00:00<?, ?it/s]"
      ]
     },
     "metadata": {},
     "output_type": "display_data"
    }
   ],
   "source": [
    "save_dir = '../../Data.nosync/Zalando_Dataset/dresses/images/square_images'\n",
    "if not os.path.exists(save_dir):\n",
    "    os.makedirs(save_dir)\n",
    "\n",
    "# Flag whether to reproduce the square images. If False, the code will skip images that already exist. Needs to be set to True if you want to create sqaures of another size\n",
    "reproduce = False\n",
    "\n",
    "for image in tqdm(all_images):\n",
    "    # Skip if already exists\n",
    "    if os.path.exists(save_dir + '/' + image.split('/')[-1]) and not reproduce:\n",
    "        continue\n",
    "    else:\n",
    "        img = Image.open(image)\n",
    "        img = make_square(img, resize_size = 512)\n",
    "        img.save(save_dir + '/' + image.split('/')[-1])"
   ]
  },
  {
   "cell_type": "markdown",
   "metadata": {},
   "source": [
    "### Run StyleGAN2-Ada Image Preprocessing"
   ]
  },
  {
   "cell_type": "code",
   "execution_count": 7,
   "metadata": {},
   "outputs": [
    {
     "name": "stdout",
     "output_type": "stream",
     "text": [
      "100%|██████████████████████████████████████| 3238/3238 [00:21<00:00, 149.96it/s]\n"
     ]
    }
   ],
   "source": [
    "CMD = \"python ../stylegan2-ada-pytorch/dataset_tool.py \"\\\n",
    "  \"--source ../../Data.nosync/Zalando_Dataset/dresses/images/square_images \"\\\n",
    "  \"--dest ../../Data.nosync/Zalando_Dataset/dresses/images/stylegan2_ada_images\" \\\n",
    "  \" --width=512 --height=512\"\n",
    "\n",
    "!{CMD}"
   ]
  }
 ],
 "metadata": {
  "kernelspec": {
   "display_name": "master_thesis",
   "language": "python",
   "name": "python3"
  },
  "language_info": {
   "codemirror_mode": {
    "name": "ipython",
    "version": 3
   },
   "file_extension": ".py",
   "mimetype": "text/x-python",
   "name": "python",
   "nbconvert_exporter": "python",
   "pygments_lexer": "ipython3",
   "version": "3.10.1"
  }
 },
 "nbformat": 4,
 "nbformat_minor": 2
}
