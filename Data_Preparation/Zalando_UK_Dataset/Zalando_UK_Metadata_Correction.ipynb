{
 "cells": [
  {
   "cell_type": "code",
   "execution_count": 2,
   "metadata": {},
   "outputs": [],
   "source": [
    "import pandas as pd\n",
    "import json\n",
    "import numpy as np\n",
    "from pprint import pprint\n",
    "from glob import glob\n",
    "from PIL import Image \n",
    "from IPython.display import display"
   ]
  },
  {
   "cell_type": "markdown",
   "metadata": {},
   "source": [
    "## Read in Data"
   ]
  },
  {
   "cell_type": "code",
   "execution_count": 3,
   "metadata": {},
   "outputs": [],
   "source": [
    "# Metadata file\n",
    "path = '../../../Data.nosync/Zalando_UK_Dataset/dresses/metadata/images_dict.json'\n",
    "\n",
    "with open(path) as f:\n",
    "    meta_data = json.load(f)\n"
   ]
  },
  {
   "cell_type": "code",
   "execution_count": 4,
   "metadata": {},
   "outputs": [
    {
     "data": {
      "text/html": [
       "<div>\n",
       "<style scoped>\n",
       "    .dataframe tbody tr th:only-of-type {\n",
       "        vertical-align: middle;\n",
       "    }\n",
       "\n",
       "    .dataframe tbody tr th {\n",
       "        vertical-align: top;\n",
       "    }\n",
       "\n",
       "    .dataframe thead th {\n",
       "        text-align: right;\n",
       "    }\n",
       "</style>\n",
       "<table border=\"1\" class=\"dataframe\">\n",
       "  <thead>\n",
       "    <tr style=\"text-align: right;\">\n",
       "      <th></th>\n",
       "      <th>id</th>\n",
       "      <th>url</th>\n",
       "      <th>brand</th>\n",
       "      <th>garment_type</th>\n",
       "      <th>category_name</th>\n",
       "      <th>attribute_name</th>\n",
       "      <th>attribute_value</th>\n",
       "    </tr>\n",
       "  </thead>\n",
       "  <tbody>\n",
       "    <tr>\n",
       "      <th>1</th>\n",
       "      <td>GE221C0GK-K11</td>\n",
       "      <td>https://www.zalando.co.uk/gestuz-frilly-long-d...</td>\n",
       "      <td>Gestuz</td>\n",
       "      <td>denim_dress</td>\n",
       "      <td>Material &amp; care</td>\n",
       "      <td>Fabric</td>\n",
       "      <td>Denim</td>\n",
       "    </tr>\n",
       "    <tr>\n",
       "      <th>2</th>\n",
       "      <td>GE221C0GK-K11</td>\n",
       "      <td>https://www.zalando.co.uk/gestuz-frilly-long-d...</td>\n",
       "      <td>Gestuz</td>\n",
       "      <td>denim_dress</td>\n",
       "      <td>Details</td>\n",
       "      <td>Neckline</td>\n",
       "      <td>Backless</td>\n",
       "    </tr>\n",
       "    <tr>\n",
       "      <th>3</th>\n",
       "      <td>GE221C0GK-K11</td>\n",
       "      <td>https://www.zalando.co.uk/gestuz-frilly-long-d...</td>\n",
       "      <td>Gestuz</td>\n",
       "      <td>denim_dress</td>\n",
       "      <td>Details</td>\n",
       "      <td>Collar</td>\n",
       "      <td>Standing collar</td>\n",
       "    </tr>\n",
       "    <tr>\n",
       "      <th>7</th>\n",
       "      <td>GE221C0GK-K11</td>\n",
       "      <td>https://www.zalando.co.uk/gestuz-frilly-long-d...</td>\n",
       "      <td>Gestuz</td>\n",
       "      <td>denim_dress</td>\n",
       "      <td>Size &amp; fit</td>\n",
       "      <td>Fit</td>\n",
       "      <td>Slim Fit</td>\n",
       "    </tr>\n",
       "    <tr>\n",
       "      <th>9</th>\n",
       "      <td>GE221C0GK-K11</td>\n",
       "      <td>https://www.zalando.co.uk/gestuz-frilly-long-d...</td>\n",
       "      <td>Gestuz</td>\n",
       "      <td>denim_dress</td>\n",
       "      <td>Size &amp; fit</td>\n",
       "      <td>Length</td>\n",
       "      <td>Long</td>\n",
       "    </tr>\n",
       "    <tr>\n",
       "      <th>...</th>\n",
       "      <td>...</td>\n",
       "      <td>...</td>\n",
       "      <td>...</td>\n",
       "      <td>...</td>\n",
       "      <td>...</td>\n",
       "      <td>...</td>\n",
       "      <td>...</td>\n",
       "    </tr>\n",
       "    <tr>\n",
       "      <th>1</th>\n",
       "      <td>6CA21C09N-B11</td>\n",
       "      <td>https://www.zalando.co.uk/calvin-klein-mini-ta...</td>\n",
       "      <td>Calvin Klein</td>\n",
       "      <td>work_dress</td>\n",
       "      <td>Material &amp; care</td>\n",
       "      <td>Fabric</td>\n",
       "      <td>Jersey</td>\n",
       "    </tr>\n",
       "    <tr>\n",
       "      <th>3</th>\n",
       "      <td>6CA21C09N-B11</td>\n",
       "      <td>https://www.zalando.co.uk/calvin-klein-mini-ta...</td>\n",
       "      <td>Calvin Klein</td>\n",
       "      <td>work_dress</td>\n",
       "      <td>Details</td>\n",
       "      <td>Neckline</td>\n",
       "      <td>Crew neck</td>\n",
       "    </tr>\n",
       "    <tr>\n",
       "      <th>5</th>\n",
       "      <td>6CA21C09N-B11</td>\n",
       "      <td>https://www.zalando.co.uk/calvin-klein-mini-ta...</td>\n",
       "      <td>Calvin Klein</td>\n",
       "      <td>work_dress</td>\n",
       "      <td>Details</td>\n",
       "      <td>Pattern</td>\n",
       "      <td>Plain</td>\n",
       "    </tr>\n",
       "    <tr>\n",
       "      <th>9</th>\n",
       "      <td>6CA21C09N-B11</td>\n",
       "      <td>https://www.zalando.co.uk/calvin-klein-mini-ta...</td>\n",
       "      <td>Calvin Klein</td>\n",
       "      <td>work_dress</td>\n",
       "      <td>Size &amp; fit</td>\n",
       "      <td>Fit</td>\n",
       "      <td>Slim Fit</td>\n",
       "    </tr>\n",
       "    <tr>\n",
       "      <th>11</th>\n",
       "      <td>6CA21C09N-B11</td>\n",
       "      <td>https://www.zalando.co.uk/calvin-klein-mini-ta...</td>\n",
       "      <td>Calvin Klein</td>\n",
       "      <td>work_dress</td>\n",
       "      <td>Size &amp; fit</td>\n",
       "      <td>Length</td>\n",
       "      <td>Short</td>\n",
       "    </tr>\n",
       "  </tbody>\n",
       "</table>\n",
       "<p>15069 rows × 7 columns</p>\n",
       "</div>"
      ],
      "text/plain": [
       "               id                                                url  \\\n",
       "1   GE221C0GK-K11  https://www.zalando.co.uk/gestuz-frilly-long-d...   \n",
       "2   GE221C0GK-K11  https://www.zalando.co.uk/gestuz-frilly-long-d...   \n",
       "3   GE221C0GK-K11  https://www.zalando.co.uk/gestuz-frilly-long-d...   \n",
       "7   GE221C0GK-K11  https://www.zalando.co.uk/gestuz-frilly-long-d...   \n",
       "9   GE221C0GK-K11  https://www.zalando.co.uk/gestuz-frilly-long-d...   \n",
       "..            ...                                                ...   \n",
       "1   6CA21C09N-B11  https://www.zalando.co.uk/calvin-klein-mini-ta...   \n",
       "3   6CA21C09N-B11  https://www.zalando.co.uk/calvin-klein-mini-ta...   \n",
       "5   6CA21C09N-B11  https://www.zalando.co.uk/calvin-klein-mini-ta...   \n",
       "9   6CA21C09N-B11  https://www.zalando.co.uk/calvin-klein-mini-ta...   \n",
       "11  6CA21C09N-B11  https://www.zalando.co.uk/calvin-klein-mini-ta...   \n",
       "\n",
       "           brand garment_type    category_name attribute_name  attribute_value  \n",
       "1         Gestuz  denim_dress  Material & care         Fabric            Denim  \n",
       "2         Gestuz  denim_dress          Details       Neckline         Backless  \n",
       "3         Gestuz  denim_dress          Details         Collar  Standing collar  \n",
       "7         Gestuz  denim_dress       Size & fit            Fit         Slim Fit  \n",
       "9         Gestuz  denim_dress       Size & fit         Length             Long  \n",
       "..           ...          ...              ...            ...              ...  \n",
       "1   Calvin Klein   work_dress  Material & care         Fabric           Jersey  \n",
       "3   Calvin Klein   work_dress          Details       Neckline        Crew neck  \n",
       "5   Calvin Klein   work_dress          Details        Pattern            Plain  \n",
       "9   Calvin Klein   work_dress       Size & fit            Fit         Slim Fit  \n",
       "11  Calvin Klein   work_dress       Size & fit         Length            Short  \n",
       "\n",
       "[15069 rows x 7 columns]"
      ]
     },
     "execution_count": 4,
     "metadata": {},
     "output_type": "execute_result"
    }
   ],
   "source": [
    "dfs = []\n",
    "for id in meta_data.keys():\n",
    "    garment_type = meta_data[id][0]\n",
    "    url = meta_data[id][1]['url']\n",
    "    brand = meta_data[id][1]['brand']['name']\n",
    "\n",
    "    attribute_data = meta_data[id][1]['attributeCategories']\n",
    "    rows = []\n",
    "    for category in attribute_data:\n",
    "        for attribute in category['attributes']:\n",
    "            row = {\n",
    "                'category_name': category['categoryName'],\n",
    "                'attribute_name': attribute['key'],\n",
    "                'attribute_value': attribute['value']\n",
    "            }\n",
    "            rows.append(row)\n",
    "\n",
    "    df = pd.DataFrame(rows)\n",
    "    df['garment_type'] = garment_type\n",
    "    df['url'] = url\n",
    "    df['brand'] = brand\n",
    "    df['id'] = id\n",
    "    df = df[['id','url', 'brand', 'garment_type','category_name', 'attribute_name', 'attribute_value']]\n",
    "    dfs.append(df)\n",
    "\n",
    "df = pd.concat(dfs)\n",
    "\n",
    "# Subset to only relevant attributes\n",
    "df = df[df.attribute_name.isin(['Fabric', 'Pattern', 'Collar', 'Neckline', 'Length', 'Fit'])]\n",
    "\n",
    "df"
   ]
  },
  {
   "cell_type": "markdown",
   "metadata": {},
   "source": [
    "## Clean Attributes and Correct Mapping\n",
    "\n",
    "- Most of the attribute corrections are taken from the desentangling-aesthetics repo by Aseem Behl"
   ]
  },
  {
   "cell_type": "code",
   "execution_count": 4,
   "metadata": {},
   "outputs": [],
   "source": [
    "def map_value(df, attribute_name, mapping):\n",
    "    df.loc[df.attribute_name == attribute_name, 'attribute_value'] = (\n",
    "        df.loc[df.attribute_name == attribute_name, 'attribute_value']\n",
    "        .map(mapping)\n",
    "    )\n",
    "    return df\n",
    "\n",
    "def trancate_mapping_with_other(df, attribute_name, threshold=10):\n",
    "    counts = df[df.attribute_name == attribute_name].attribute_value.value_counts()\n",
    "    other_mapping = {elem:'Other' for elem in counts[counts < threshold].index.to_list()}\n",
    "    mapping = {elem:elem for elem in counts.index.to_list()}\n",
    "    mapping.update(other_mapping)\n",
    "    df.loc[df.attribute_name == attribute_name, 'attribute_value'] = (\n",
    "        df.loc[df.attribute_name == attribute_name, 'attribute_value']\n",
    "        .map(mapping)\n",
    "    )\n",
    "    return df"
   ]
  },
  {
   "cell_type": "markdown",
   "metadata": {},
   "source": [
    "### Fabric"
   ]
  },
  {
   "cell_type": "code",
   "execution_count": 5,
   "metadata": {},
   "outputs": [
    {
     "data": {
      "text/plain": [
       "attribute_value\n",
       "Jersey           618\n",
       "Knit             370\n",
       "Rib              302\n",
       "Satin            253\n",
       "Chiffon          228\n",
       "Denim             63\n",
       "Tulle             61\n",
       "Lace              56\n",
       "Sweat             55\n",
       "Velvet/Velour     51\n",
       "Mesh              31\n",
       "Other             18\n",
       "Faux Leather      16\n",
       "Piqué             14\n",
       "Crocheted         10\n",
       "Name: count, dtype: int64"
      ]
     },
     "execution_count": 5,
     "metadata": {},
     "output_type": "execute_result"
    }
   ],
   "source": [
    "fabric_mapping = {\n",
    "    'Jersey': 'Jersey',\n",
    "    'Knit': 'Knit',\n",
    "    'Rib': 'Rib',\n",
    "    'Satin': 'Satin',\n",
    "    'Chiffon': 'Chiffon',\n",
    "    'Denim': 'Denim',\n",
    "    'Tulle': 'Tulle',\n",
    "    'Sweat': 'Sweat',\n",
    "    'Velvet/velour': 'Velvet/Velour',\n",
    "    'Lace': 'Lace',\n",
    "    'Mesh': 'Mesh',\n",
    "    'Piqué': 'Piqué',\n",
    "    'Faux leather': 'Faux Leather',\n",
    "    'Crocheted': 'Crocheted',\n",
    "    'Jersey, tulle': 'Jersey',\n",
    "    'Cord': 'Cord',\n",
    "    'Lace, chiffon': 'Lace',\n",
    "    'Rib, knit': 'Rib',\n",
    "    'Jersey, Lace': 'Jersey',\n",
    "    'Jersey, mesh': 'Jersey',\n",
    "    'Satin, Lace': 'Satin',\n",
    "    'Jersey, rib': 'Jersey',\n",
    "    'Canvas': 'Canvas',\n",
    "    'Satin, tulle': 'Satin',\n",
    "    'Knit, rib': 'Knit',\n",
    "    'Satin, Jersey': 'Satin',\n",
    "    'Jersey, chiffon': 'Jersey',\n",
    "    'Lace, satin': 'Lace',\n",
    "    'Chiffon, Lace': 'Chiffon',\n",
    "    'Chiffon, Jersey': 'Chiffon',\n",
    "    'Lace, tulle': 'Lace',\n",
    "    'Mesh, Lace': 'Mesh',\n",
    "    'Flannel': 'Flannel',\n",
    "    'Fleece': 'Fleece',\n",
    "    'Jersey, faux leather': 'Jersey',\n",
    "    'Chiffon, knit': 'Chiffon',\n",
    "    'Tulle, satin': 'Tulle',\n",
    "    'Chiffon, tulle': 'Chiffon',\n",
    "    'Tulle, Lace': 'Tulle',\n",
    "    'Rib, mesh': 'Rib',\n",
    "    'Braided': 'Braided',\n",
    "    'Faux leather, Jersey': 'Faux Leather',\n",
    "    'Tulle, chiffon': 'Tulle',\n",
    "    'Chiffon, rib': 'Chiffon',\n",
    "    'Sweat, tulle': 'Sweat',\n",
    "    'Jersey, satin': 'Jersey',\n",
    "    'Satin, chiffon': 'Satin',\n",
    "    'Faux leather, satin': 'Faux Leather',\n",
    "    'Tulle, Jersey': 'Tulle',\n",
    "    'Faux fur': 'Faux Fur'\n",
    "}\n",
    "\n",
    "df = map_value(df, 'Fabric', fabric_mapping)\n",
    "df = trancate_mapping_with_other(df, 'Fabric', threshold=10)\n",
    "df[df.attribute_name == 'Fabric'].attribute_value.value_counts()"
   ]
  },
  {
   "cell_type": "markdown",
   "metadata": {},
   "source": [
    "### Fit"
   ]
  },
  {
   "cell_type": "code",
   "execution_count": 6,
   "metadata": {},
   "outputs": [
    {
     "data": {
      "text/plain": [
       "attribute_value\n",
       "Regular Fit    1471\n",
       "Slim Fit        847\n",
       "Skinny Fit      480\n",
       "Loose Fit       396\n",
       "Other            13\n",
       "Name: count, dtype: int64"
      ]
     },
     "execution_count": 6,
     "metadata": {},
     "output_type": "execute_result"
    }
   ],
   "source": [
    "fit_mapping = {\n",
    "    'Regular Fit': 'Regular Fit',\n",
    "    'Slim Fit': 'Slim Fit',\n",
    "    'Skinny Fit': 'Skinny Fit',\n",
    "    'Loose Fit': 'Loose Fit',\n",
    "    'Oversized': 'Loose Fit',\n",
    "    'Small': 'Other',\n",
    "    'Fitted waist': 'Other',\n",
    "    'Normal fit': 'Regular Fit',\n",
    "    'Relaxed Fit': 'Loose Fit',\n",
    "    'Bodycon': 'Slim Fit'\n",
    "}\n",
    "\n",
    "df = map_value(df, 'Fit', fit_mapping)\n",
    "df = trancate_mapping_with_other(df, 'Fit', threshold=10)\n",
    "\n",
    "df[df.attribute_name == 'Fit'].attribute_value.value_counts()"
   ]
  },
  {
   "cell_type": "markdown",
   "metadata": {},
   "source": [
    "### Neckline"
   ]
  },
  {
   "cell_type": "code",
   "execution_count": 7,
   "metadata": {},
   "outputs": [
    {
     "data": {
      "text/plain": [
       "attribute_value\n",
       "Crew neck           741\n",
       "Low-cut v-neck      491\n",
       "Backless            386\n",
       "Cache-coeur         264\n",
       "V-neck              176\n",
       "Off-the-shoulder     77\n",
       "Square neck          71\n",
       "Scoop neck           64\n",
       "Boat neck            52\n",
       "Henley               20\n",
       "Cowl neck            19\n",
       "Name: count, dtype: int64"
      ]
     },
     "execution_count": 7,
     "metadata": {},
     "output_type": "execute_result"
    }
   ],
   "source": [
    "df = trancate_mapping_with_other(df, 'Neckline', threshold=10)\n",
    "df[df.attribute_name == 'Neckline'].attribute_value.value_counts()"
   ]
  },
  {
   "cell_type": "markdown",
   "metadata": {},
   "source": [
    "### Pattern"
   ]
  },
  {
   "cell_type": "code",
   "execution_count": 8,
   "metadata": {},
   "outputs": [
    {
     "data": {
      "text/plain": [
       "attribute_value\n",
       "Plain              1914\n",
       "Floral              360\n",
       "Print               313\n",
       "Marl                213\n",
       "Animal print         99\n",
       "Striped              93\n",
       "Checked              43\n",
       "Polka dot            34\n",
       "Colourful            32\n",
       "Paisley              17\n",
       "Other                16\n",
       "Colour gradient      12\n",
       "Name: count, dtype: int64"
      ]
     },
     "execution_count": 8,
     "metadata": {},
     "output_type": "execute_result"
    }
   ],
   "source": [
    "df = trancate_mapping_with_other(df, 'Pattern', threshold=10)\n",
    "df[df.attribute_name == 'Pattern'].attribute_value.value_counts()"
   ]
  },
  {
   "cell_type": "markdown",
   "metadata": {},
   "source": [
    "### Collar"
   ]
  },
  {
   "cell_type": "code",
   "execution_count": 9,
   "metadata": {},
   "outputs": [
    {
     "data": {
      "text/plain": [
       "attribute_value\n",
       "Standing Collar     385\n",
       "Turn-down Collar    313\n",
       "Polo Neck           102\n",
       "Mandarin Collar      42\n",
       "Hooded Collar        40\n",
       "Lapel Collar         31\n",
       "Shawl Collar         21\n",
       "Volant Collar        20\n",
       "Zip Neck Collar      17\n",
       "Name: count, dtype: int64"
      ]
     },
     "execution_count": 9,
     "metadata": {},
     "output_type": "execute_result"
    }
   ],
   "source": [
    "collar_mapping = {\n",
    "    'Standing collar': 'Standing Collar',\n",
    "    'Turn-down collar': 'Turn-down Collar',\n",
    "    'Polo neck': 'Polo Neck',\n",
    "    'Mandarin collar': 'Mandarin Collar',\n",
    "    'Hood': 'Hooded Collar',\n",
    "    'Lapel collar': 'Lapel Collar',\n",
    "    'Shirt collar': 'Turn-down Collar',\n",
    "    'Shawl collar': 'Shawl Collar',\n",
    "    'Volant collar': 'Volant Collar',\n",
    "    'High collar': 'Standing Collar',\n",
    "    'Zip neck': 'Zip Neck Collar',\n",
    "    'Polo shirt': 'Polo Neck',\n",
    "    'Contrasting collar': 'Turn-down Collar',\n",
    "    'Button down': 'Turn-down Collar',\n",
    "    'Peter Pan collar': 'Turn-down Collar'\n",
    "}\n",
    "\n",
    "df = map_value(df, 'Collar', collar_mapping)\n",
    "df = trancate_mapping_with_other(df, 'Collar', threshold=10)\n",
    "df[df.attribute_name == 'Collar'].attribute_value.value_counts()"
   ]
  },
  {
   "cell_type": "markdown",
   "metadata": {},
   "source": [
    "### Length"
   ]
  },
  {
   "cell_type": "code",
   "execution_count": 10,
   "metadata": {},
   "outputs": [
    {
     "data": {
      "text/plain": [
       "attribute_value\n",
       "Calf-length    893\n",
       "Short          847\n",
       "Knee-length    668\n",
       "Long           520\n",
       "Extra short    285\n",
       "Other           14\n",
       "Normal          11\n",
       "Name: count, dtype: int64"
      ]
     },
     "execution_count": 10,
     "metadata": {},
     "output_type": "execute_result"
    }
   ],
   "source": [
    "df = trancate_mapping_with_other(df, 'Length', threshold=10)\n",
    "df[df.attribute_name == 'Length'].attribute_value.value_counts()"
   ]
  },
  {
   "cell_type": "markdown",
   "metadata": {},
   "source": [
    "## Color\n",
    "Code adapted from ``/attribute_driven_representations/infer_colors.py`` from the Desentangling Aesthetics repo by Aseem Behl"
   ]
  },
  {
   "cell_type": "code",
   "execution_count": 11,
   "metadata": {},
   "outputs": [
    {
     "name": "stderr",
     "output_type": "stream",
     "text": [
      "Predicting colors: 100%|██████████| 3238/3238 [05:17<00:00, 10.21it/s]\n"
     ]
    }
   ],
   "source": [
    "from PIL import Image\n",
    "from transformers import CLIPProcessor, CLIPModel\n",
    "from torch.utils.data import DataLoader\n",
    "from torchvision import transforms\n",
    "import torch\n",
    "import os\n",
    "import pandas as pd\n",
    "from tqdm import tqdm\n",
    "\n",
    "colors = [\n",
    "    'red',\n",
    "    'green',\n",
    "    'blue',\n",
    "    'pink',\n",
    "    'orange',\n",
    "    'yellow',\n",
    "    'purple',\n",
    "    'beige',\n",
    "    'brown',\n",
    "    'grey',\n",
    "    'black',\n",
    "    'white',\n",
    "    'gold',\n",
    "    'silver',\n",
    "]\n",
    "color_texts = ('a ' + pd.Series(colors) + ' dress').tolist()\n",
    "\n",
    "model = CLIPModel.from_pretrained('openai/clip-vit-base-patch32').eval()\n",
    "model = model.to('mps')\n",
    "processor = CLIPProcessor.from_pretrained('openai/clip-vit-base-patch32')\n",
    "\n",
    "ids = df.id.unique()\n",
    "image_path = '../../../Data.nosync/Zalando_UK_Dataset/dresses/images/raw_images/'\n",
    "\n",
    "predicted_colors = {}\n",
    "for id in tqdm(ids, desc='Predicting colors'):\n",
    "    image = Image.open(f'{image_path}{id}.jpg')\n",
    "    inputs = processor(text=color_texts, images=image, return_tensors='pt').to('mps')\n",
    "    with torch.no_grad():\n",
    "        outputs = model(**inputs)\n",
    "    logits_per_image = outputs.logits_per_image\n",
    "    predicted_colors[id] = colors[logits_per_image.argmax(dim=-1)]\n",
    "\n",
    "# Map the predicted colors to the dataframe\n",
    "df['color'] = df.id.map(predicted_colors)"
   ]
  },
  {
   "cell_type": "markdown",
   "metadata": {},
   "source": [
    "## Create Final Metadata Dict"
   ]
  },
  {
   "cell_type": "code",
   "execution_count": 12,
   "metadata": {},
   "outputs": [],
   "source": [
    "# Function to safely retrieve attribute values\n",
    "def get_attribute_value(data, attribute_name, default_value=None):\n",
    "    try:\n",
    "        # Attempt to return the first value that matches the attribute name\n",
    "        return data.loc[data['attribute_name'] == attribute_name, 'attribute_value'].values[0]\n",
    "    except IndexError:\n",
    "        # Return the default value if the attribute doesn't exist\n",
    "        return default_value\n",
    "def create_data_dict(data):\n",
    "    data_dict = {\n",
    "        'url': data['url'].values[0] if 'url' in data.columns else None, \n",
    "        'brand': data['brand'].values[0] if 'brand' in data.columns else None, \n",
    "        'garment_type': data['garment_type'].values[0] if 'garment_type' in data.columns else None, \n",
    "        'color': data['color'].values[0] if 'color' in data.columns else None, \n",
    "        'fabric': get_attribute_value(data, 'Fabric'), \n",
    "        'fit': get_attribute_value(data, 'Fit'), \n",
    "        'neckline': get_attribute_value(data, 'Neckline'), \n",
    "        'pattern': get_attribute_value(data, 'Pattern'), \n",
    "        'collar': get_attribute_value(data, 'Collar'), \n",
    "        'length': get_attribute_value(data, 'Length')\n",
    "    }\n",
    "    return data_dict\n",
    "\n",
    "new_metadata = {}\n",
    "for id in df.id.unique():\n",
    "    data = df[df.id == id]\n",
    "    new_metadata[id] = create_data_dict(data)\n",
    "\n",
    "\n",
    "# Dump to JSON\n",
    "path = '../../../Data.nosync/Zalando_UK_Dataset/dresses/metadata/dresses_metadata.json'\n",
    "with open(path, 'w') as f:\n",
    "    json.dump(new_metadata, f)\n",
    "    "
   ]
  }
 ],
 "metadata": {
  "kernelspec": {
   "display_name": "master_thesis",
   "language": "python",
   "name": "python3"
  },
  "language_info": {
   "codemirror_mode": {
    "name": "ipython",
    "version": 3
   },
   "file_extension": ".py",
   "mimetype": "text/x-python",
   "name": "python",
   "nbconvert_exporter": "python",
   "pygments_lexer": "ipython3",
   "version": "3.10.1"
  }
 },
 "nbformat": 4,
 "nbformat_minor": 2
}
