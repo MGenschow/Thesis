{
 "cells": [
  {
   "cell_type": "markdown",
   "metadata": {},
   "source": [
    "### Download Files and Unzip"
   ]
  },
  {
   "cell_type": "code",
   "execution_count": 1,
   "metadata": {},
   "outputs": [],
   "source": [
    "# # Download dataset\n",
    "# !kaggle datasets download paramaggarwal/fashion-product-images-dataset -p ../../Data.nosync/Fashion_Product_Images_Dataset\n",
    "# # Unzip dataset\n",
    "# !unzip ../../Data.nosync/Fashion_Product_Images_Dataset/fashion-product-images-dataset.zip -d ../../Data.nosync/Fashion_Product_Images_Dataset/Raw_Data"
   ]
  },
  {
   "cell_type": "markdown",
   "metadata": {},
   "source": [
    "### Data Checks"
   ]
  }
 ],
 "metadata": {
  "kernelspec": {
   "display_name": "master_thesis",
   "language": "python",
   "name": "python3"
  },
  "language_info": {
   "codemirror_mode": {
    "name": "ipython",
    "version": 3
   },
   "file_extension": ".py",
   "mimetype": "text/x-python",
   "name": "python",
   "nbconvert_exporter": "python",
   "pygments_lexer": "ipython3",
   "version": "3.7.12"
  }
 },
 "nbformat": 4,
 "nbformat_minor": 2
}
