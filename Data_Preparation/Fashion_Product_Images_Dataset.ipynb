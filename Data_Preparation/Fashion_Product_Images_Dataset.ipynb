{
 "cells": [
  {
   "cell_type": "code",
   "execution_count": 1,
   "metadata": {},
   "outputs": [
    {
     "name": "stdout",
     "output_type": "stream",
     "text": [
      "Warning: Your Kaggle API key is readable by other users on this system! To fix this, you can run 'chmod 600 /Users/maltegenschow/.kaggle/kaggle.json'\n",
      "Downloading fashion-product-images-dataset.zip to ../../Data.nosync/Fashion_Product_Images_Dataset\n",
      " 91%|██████████████████████████████████▋   | 21.1G/23.1G [14:24<01:21, 26.2MB/s]\n",
      "Traceback (most recent call last):\n",
      "  File \"/Users/maltegenschow/.pyenv/versions/3.10.1/envs/master_thesis/bin/kaggle\", line 33, in <module>\n",
      "    sys.exit(load_entry_point('kaggle==1.6.6', 'console_scripts', 'kaggle')())\n",
      "  File \"/Users/maltegenschow/.pyenv/versions/3.10.1/envs/master_thesis/lib/python3.10/site-packages/kaggle/cli.py\", line 70, in main\n",
      "    out = args.func(**command_args)\n",
      "  File \"/Users/maltegenschow/.pyenv/versions/3.10.1/envs/master_thesis/lib/python3.10/site-packages/kaggle/api/kaggle_api_extended.py\", line 1493, in dataset_download_cli\n",
      "    self.dataset_download_files(dataset,\n",
      "  File \"/Users/maltegenschow/.pyenv/versions/3.10.1/envs/master_thesis/lib/python3.10/site-packages/kaggle/api/kaggle_api_extended.py\", line 1447, in dataset_download_files\n",
      "    self.download_file(response, outfile, quiet, not force)\n",
      "  File \"/Users/maltegenschow/.pyenv/versions/3.10.1/envs/master_thesis/lib/python3.10/site-packages/kaggle/api/kaggle_api_extended.py\", line 1877, in download_file\n",
      "    out.write(data)\n",
      "OSError: [Errno 28] No space left on device\n"
     ]
    }
   ],
   "source": [
    "!kaggle datasets download paramaggarwal/fashion-product-images-dataset -p ../../Data.nosync/Fashion_Product_Images_Dataset"
   ]
  }
 ],
 "metadata": {
  "kernelspec": {
   "display_name": "master_thesis",
   "language": "python",
   "name": "python3"
  },
  "language_info": {
   "codemirror_mode": {
    "name": "ipython",
    "version": 3
   },
   "file_extension": ".py",
   "mimetype": "text/x-python",
   "name": "python",
   "nbconvert_exporter": "python",
   "pygments_lexer": "ipython3",
   "version": "3.10.1"
  }
 },
 "nbformat": 4,
 "nbformat_minor": 2
}
