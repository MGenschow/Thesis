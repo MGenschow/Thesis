{
 "cells": [
  {
   "cell_type": "code",
   "execution_count": 1,
   "metadata": {},
   "outputs": [],
   "source": [
    "import torch\n",
    "from transformers import AutoImageProcessor, AutoModel\n",
    "from glob import glob\n",
    "from PIL import Image\n",
    "from tqdm.notebook import tqdm\n",
    "import numpy as np\n",
    "import os\n",
    "import pandas as pd\n",
    "import pickle"
   ]
  },
  {
   "cell_type": "code",
   "execution_count": 2,
   "metadata": {},
   "outputs": [],
   "source": [
    "import platform\n",
    "if platform.system() == 'Darwin':\n",
    "    DATA_PATH = \"/Users/maltegenschow/Documents/Uni/Thesis/Data.nosync\"\n",
    "elif platform.system() == 'Linux':\n",
    "    DATA_PATH = \"/pfs/work7/workspace/scratch/tu_zxmav84-thesis/Data.nosync\""
   ]
  },
  {
   "cell_type": "code",
   "execution_count": 3,
   "metadata": {},
   "outputs": [],
   "source": [
    "if torch.cuda.is_available():\n",
    "    device = torch.device('cuda')\n",
    "else:\n",
    "    device = torch.device('cpu')"
   ]
  },
  {
   "cell_type": "markdown",
   "metadata": {},
   "source": [
    "## Setup Model"
   ]
  },
  {
   "cell_type": "code",
   "execution_count": 4,
   "metadata": {},
   "outputs": [],
   "source": [
    "model_name = \"facebook/dinov2-base\"\n",
    "processor = AutoImageProcessor.from_pretrained(model_name)\n",
    "model = AutoModel.from_pretrained(model_name)\n",
    "model = model.to(device)"
   ]
  },
  {
   "cell_type": "markdown",
   "metadata": {},
   "source": [
    "### Load Model"
   ]
  },
  {
   "cell_type": "code",
   "execution_count": 5,
   "metadata": {},
   "outputs": [],
   "source": [
    "df = pd.read_json(f\"{DATA_PATH}/Zalando_Germany_Dataset/dresses/metadata/dresses_metadata.json\").T.reset_index().rename(columns={'index': 'sku'})[['sku', 'garment_type']]\n",
    "# Create id2label and label2id mappings\n",
    "id2label = {i:elem for i,elem in enumerate(df.garment_type.value_counts().index)}\n",
    "label2id = {elem:i for i,elem in enumerate(df.garment_type.value_counts().index)}\n",
    "# Map labels to ids\n",
    "df['label'] = df.garment_type.map(label2id)\n",
    "# Save to disc\n",
    "pickle.dump(id2label, open(f\"garment_type_id2label.pkl\", \"wb\"))"
   ]
  },
  {
   "cell_type": "code",
   "execution_count": 6,
   "metadata": {},
   "outputs": [
    {
     "name": "stdout",
     "output_type": "stream",
     "text": [
      "Loading embeddings from disk\n"
     ]
    }
   ],
   "source": [
    "save_path = f\"{DATA_PATH}/Models/Assessor/DinoV2/Embeddings/dinov2_embeddings.pt\"\n",
    "if not os.path.exists(save_path):\n",
    "    print('Calculating embeddings from DINOV2 model')\n",
    "    embeddings = torch.zeros(df.shape[0], 768)\n",
    "    root_path = f\"{DATA_PATH}/Zalando_Germany_Dataset/dresses/images/square_images/\"\n",
    "\n",
    "    for row in tqdm(df.iterrows(), total=df.shape[0]):\n",
    "        index = row[0]\n",
    "        sku = row[1]['sku']\n",
    "        # Load Image and preprocess\n",
    "        img_path = f\"{root_path}{sku}.jpg\"\n",
    "        img = Image.open(img_path).convert('RGB')\n",
    "        input = processor(img, return_tensors=\"pt\")\n",
    "        input = input.to(device)\n",
    "        # Perform forward pass\n",
    "        with torch.no_grad():\n",
    "            output = model(**input)\n",
    "            embedding = output['pooler_output']\n",
    "        # Assign embedding to embeddings\n",
    "        embeddings[index,:] = embedding\n",
    "\n",
    "\n",
    "    # Save embeddings to disc\n",
    "    torch.save(embeddings, save_path)\n",
    "else: \n",
    "    print('Loading embeddings from disk')\n",
    "    embeddings = torch.load(save_path)"
   ]
  },
  {
   "cell_type": "markdown",
   "metadata": {},
   "source": [
    "## Get nearest neighbors"
   ]
  },
  {
   "cell_type": "code",
   "execution_count": 8,
   "metadata": {},
   "outputs": [
    {
     "data": {
      "text/html": [
       "<div>\n",
       "<style scoped>\n",
       "    .dataframe tbody tr th:only-of-type {\n",
       "        vertical-align: middle;\n",
       "    }\n",
       "\n",
       "    .dataframe tbody tr th {\n",
       "        vertical-align: top;\n",
       "    }\n",
       "\n",
       "    .dataframe thead th {\n",
       "        text-align: right;\n",
       "    }\n",
       "</style>\n",
       "<table border=\"1\" class=\"dataframe\">\n",
       "  <thead>\n",
       "    <tr style=\"text-align: right;\">\n",
       "      <th></th>\n",
       "      <th>sku</th>\n",
       "      <th>garment_type</th>\n",
       "      <th>label</th>\n",
       "    </tr>\n",
       "  </thead>\n",
       "  <tbody>\n",
       "    <tr>\n",
       "      <th>7969</th>\n",
       "      <td>VE121C1SF-K17</td>\n",
       "      <td>casual_dresses</td>\n",
       "      <td>0</td>\n",
       "    </tr>\n",
       "  </tbody>\n",
       "</table>\n",
       "</div>"
      ],
      "text/plain": [
       "                sku    garment_type  label\n",
       "7969  VE121C1SF-K17  casual_dresses      0"
      ]
     },
     "execution_count": 8,
     "metadata": {},
     "output_type": "execute_result"
    }
   ],
   "source": [
    "sample = df.sample(1)\n",
    "sample"
   ]
  }
 ],
 "metadata": {
  "kernelspec": {
   "display_name": "Python 3",
   "language": "python",
   "name": "python3"
  },
  "language_info": {
   "codemirror_mode": {
    "name": "ipython",
    "version": 3
   },
   "file_extension": ".py",
   "mimetype": "text/x-python",
   "name": "python",
   "nbconvert_exporter": "python",
   "pygments_lexer": "ipython3",
   "version": "3.9.18"
  }
 },
 "nbformat": 4,
 "nbformat_minor": 2
}
