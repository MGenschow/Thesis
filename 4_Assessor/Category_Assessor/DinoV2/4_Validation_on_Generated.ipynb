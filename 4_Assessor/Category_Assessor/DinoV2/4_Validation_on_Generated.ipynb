{
 "cells": [
  {
   "cell_type": "code",
   "execution_count": 1,
   "metadata": {},
   "outputs": [
    {
     "name": "stdout",
     "output_type": "stream",
     "text": [
      "Using device: mps\n"
     ]
    }
   ],
   "source": [
    "import pandas as pd\n",
    "from sklearn.metrics import accuracy_score\n",
    "from helper_classifier import set_seed\n",
    "\n",
    "import os\n",
    "import torch\n",
    "import pickle\n",
    "from PIL import Image\n",
    "import matplotlib.pyplot as plt\n",
    "from transformers import AutoImageProcessor, AutoModel\n",
    "import numpy as np\n",
    "from tqdm.notebook import tqdm\n",
    "\n",
    "torch.set_printoptions(sci_mode=False)\n",
    "from helpers_pipeline import *\n",
    "\n",
    "set_seed(42)"
   ]
  },
  {
   "cell_type": "markdown",
   "metadata": {},
   "source": [
    "### General Setup"
   ]
  },
  {
   "cell_type": "code",
   "execution_count": 2,
   "metadata": {},
   "outputs": [],
   "source": [
    "import platform\n",
    "if platform.system() == 'Darwin':\n",
    "    DATA_PATH = \"/Users/maltegenschow/Documents/Uni/Thesis/Data.nosync\"\n",
    "    ROOT_PATH = \"/Users/maltegenschow/Documents/Uni/Thesis/Thesis\"\n",
    "elif platform.system() == 'Linux':\n",
    "    DATA_PATH = \"/pfs/work7/workspace/scratch/tu_zxmav84-thesis/Data.nosync\"\n",
    "    ROOT_PATH = \"/pfs/work7/workspace/scratch/tu_zxmav84-thesis/Thesis\"\n",
    "\n",
    "current_wd = os.getcwd()"
   ]
  },
  {
   "cell_type": "code",
   "execution_count": 3,
   "metadata": {},
   "outputs": [
    {
     "name": "stdout",
     "output_type": "stream",
     "text": [
      "Using device: mps\n"
     ]
    }
   ],
   "source": [
    "device = set_device()\n",
    "target_feature = \"category\""
   ]
  },
  {
   "cell_type": "markdown",
   "metadata": {},
   "source": [
    "### Model Setups"
   ]
  },
  {
   "cell_type": "code",
   "execution_count": 4,
   "metadata": {},
   "outputs": [],
   "source": [
    "# Products data and latents\n",
    "df, latents = load_latents()\n",
    "\n",
    "# id2label \n",
    "id2label = pickle.load(open(f\"{current_wd}/id2label_dicts/{target_feature}_id2label.pkl\", \"rb\"))\n",
    "label2id = {v:k for k,v in id2label.items()}\n",
    "df[\"label\"] = df[target_feature].map(label2id)\n",
    "\n",
    "# SG2-Ada Generator\n",
    "G = setup_generator()\n",
    "G = G.to(device)\n",
    "\n",
    "# DinoV2 Model \n",
    "dino_processor, dino_model = setup_dinov2()\n",
    "\n",
    "# Attribute Classifier Model\n",
    "classifier = load_classifier()"
   ]
  },
  {
   "cell_type": "code",
   "execution_count": 5,
   "metadata": {},
   "outputs": [],
   "source": [
    "# # Check correct functioning of all components\n",
    "# sample = df.sample(1)\n",
    "# sku = sample.sku.values[0]\n",
    "# latent_idx = sample.latent_idx.values[0]\n",
    "\n",
    "# # Generate image\n",
    "# w = latents[latent_idx]\n",
    "# w = w.to(device)\n",
    "# img = G.synthesis(w)\n",
    "# img_perm = (img.permute(0, 2, 3, 1) * 127.5 + 128).clamp(0, 255).to(torch.uint8)\n",
    "# img_out = Image.fromarray(img_perm[0].cpu().numpy(), 'RGB')\n",
    "\n",
    "# # Load real image\n",
    "# img_path = f\"{DATA_PATH}/Zalando_Germany_Dataset/dresses/images/square_images/{sku}.jpg\"\n",
    "# img_real = Image.open(img_path).resize((512, 512))\n",
    "\n",
    "# # Compare images\n",
    "# fig, ax  = plt.subplots(1, 2)\n",
    "# ax[0].imshow(img_real)\n",
    "# ax[1].imshow(img_out)\n",
    "# ax[0].axis('off')\n",
    "# ax[1].axis('off')\n",
    "# plt.show()\n"
   ]
  },
  {
   "cell_type": "markdown",
   "metadata": {},
   "source": [
    "### Validation Pipeline: \n",
    "Goal: Compare performance of the attribute scoring model between the actual images and the reconstructed images from latent space using SG2-Ada dress generator\n",
    "\n",
    "Steps: \n",
    "1. Generate recosnstruction from latent space using SG2-Ada dress generator\n",
    "2. Load real image\n",
    "3. Get top3 predictions and probabilities for the real image\n",
    "4. Get top3 predictions and probabilities for the reconstructed image\n"
   ]
  },
  {
   "cell_type": "code",
   "execution_count": 7,
   "metadata": {},
   "outputs": [
    {
     "data": {
      "application/vnd.jupyter.widget-view+json": {
       "model_id": "e14ed49759e84748b6c630ffd68bfe03",
       "version_major": 2,
       "version_minor": 0
      },
      "text/plain": [
       "  0%|          | 0/200 [00:00<?, ?it/s]"
      ]
     },
     "metadata": {},
     "output_type": "display_data"
    }
   ],
   "source": [
    "n = 3\n",
    "\n",
    "for i in tqdm(df.index):\n",
    "    latent_idx = df.loc[i].latent_idx.item()\n",
    "    sku = df.loc[i].sku\n",
    "\n",
    "    # Generate image\n",
    "    w = latents[latent_idx]\n",
    "    w = w.to(device)\n",
    "    img = G.synthesis(w)\n",
    "    img_perm = (img.permute(0, 2, 3, 1) * 127.5 + 128).clamp(0, 255).to(torch.uint8)\n",
    "    img_gen = Image.fromarray(img_perm[0].cpu().numpy(), 'RGB')\n",
    "\n",
    "    # Load real image\n",
    "    img_path = f\"{DATA_PATH}/Zalando_Germany_Dataset/dresses/images/square_images/{sku}.jpg\"\n",
    "    img_real = Image.open(img_path).convert('RGB')\n",
    "\n",
    "    # Get scores for both images\n",
    "    scores_gen = get_attribute_scores(dino_model, dino_processor, classifier, img_gen)\n",
    "    scores_real = get_attribute_scores(dino_model, dino_processor, classifier, img_real)\n",
    "\n",
    "    prob_gen, predicted_gen = torch.topk(scores_gen, n)\n",
    "    prob_real, predicted_real = torch.topk(scores_real, n)\n",
    "\n",
    "    for j in range(n):\n",
    "        df.loc[i, f'gen_predicted_label_{j+1}'] = predicted_gen[j].item()\n",
    "        df.loc[i, f'gen_predicted_prob_{j+1}'] = prob_gen[j].item()\n",
    "        df.loc[i, f'real_predicted_label_{j+1}'] = predicted_real[j].item()\n",
    "        df.loc[i, f'real_predicted_prob_{j+1}'] = prob_real[j].item()\n",
    "        \n",
    "    # Save every 10 iterations\n",
    "    if i % 500 == 0:\n",
    "        #print(f\"Saving predictions after {i} iterations\")\n",
    "        df.to_csv('predictions.csv', index=False)\n",
    "\n",
    "for i in range(n):\n",
    "    df[f\"gen_predicted_category_{i+1}\"] = df[f\"gen_predicted_label_{i+1}\"].map(id2label)\n",
    "    df[f\"real_predicted_category_{i+1}\"] = df[f\"real_predicted_label_{i+1}\"].map(id2label)\n",
    "df.to_csv('predictions.csv', index=False)"
   ]
  },
  {
   "cell_type": "code",
   "execution_count": 8,
   "metadata": {},
   "outputs": [
    {
     "name": "stdout",
     "output_type": "stream",
     "text": [
      "\n",
      "GEN\n",
      "Top 1: 13.0%\n",
      "Top 2: 39.5%\n",
      "Top 3: 61.5%\n",
      "\n",
      "REAL\n",
      "Top 1: 56.00000000000001%\n",
      "Top 2: 88.5%\n",
      "Top 3: 96.5%\n"
     ]
    }
   ],
   "source": [
    "def isin_first_n(row, n, type):\n",
    "    label = row['label']\n",
    "    preds = row[[f'{type}_predicted_label_{i+1}' for i in range(n)]].values\n",
    "    return label in preds\n",
    "\n",
    "for type in ['gen', 'real']:\n",
    "    for i in range(1,n+1):\n",
    "        df[f'isin_top{i}_{type}'] = df.apply(lambda x: isin_first_n(x, i, type), axis=1)\n",
    "\n",
    "\n",
    "\n",
    "for type in ['gen', 'real']:\n",
    "    print(f\"\\n{type.upper()}\")\n",
    "    for i in range(1,n+1):\n",
    "        print(f\"Top {i}: {df[f'isin_top{i}_{type}'].mean()*100}%\")"
   ]
  }
 ],
 "metadata": {
  "kernelspec": {
   "display_name": "master_thesis",
   "language": "python",
   "name": "python3"
  },
  "language_info": {
   "codemirror_mode": {
    "name": "ipython",
    "version": 3
   },
   "file_extension": ".py",
   "mimetype": "text/x-python",
   "name": "python",
   "nbconvert_exporter": "python",
   "pygments_lexer": "ipython3",
   "version": "3.10.1"
  }
 },
 "nbformat": 4,
 "nbformat_minor": 2
}
