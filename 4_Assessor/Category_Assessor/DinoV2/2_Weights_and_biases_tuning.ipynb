{
 "cells": [
  {
   "cell_type": "code",
   "execution_count": null,
   "metadata": {},
   "outputs": [],
   "source": [
    "import torch.optim as optim\n",
    "from helper_DinoV2_Embeddings import *\n",
    "from helper_classifier import prepare_data, get_datasets, train_model, evaluate_model, train_wb, set_seed\n",
    "from helper_classifier import DressCategoriesDataset, ClassifierModel\n",
    "\n",
    "set_seed(42)\n",
    "root_path = f\"{DATA_PATH}/Zalando_Germany_Dataset/dresses/images/square_images/\""
   ]
  },
  {
   "cell_type": "code",
   "execution_count": null,
   "metadata": {},
   "outputs": [],
   "source": [
    "target_feature = 'pattern'"
   ]
  },
  {
   "cell_type": "code",
   "execution_count": null,
   "metadata": {},
   "outputs": [],
   "source": [
    "embeddings, df = extract_embeddings()\n",
    "df, id2label, label2id = prepare_data(df, target_feature)\n",
    "train_dataset, test_dataset = get_datasets(df, embeddings)\n",
    "\n",
    "# Setup model architecture\n",
    "model = ClassifierModel(embeddings.shape[1], len(label2id))\n",
    "device = set_device()"
   ]
  },
  {
   "cell_type": "markdown",
   "metadata": {},
   "source": [
    "### Weights&Biases Tuning"
   ]
  },
  {
   "cell_type": "code",
   "execution_count": null,
   "metadata": {},
   "outputs": [],
   "source": [
    "import wandb\n",
    "\n",
    "# Sweep configuration dictionary\n",
    "sweep_config = {\n",
    "    'method': 'random',  \n",
    "    'metric': {\n",
    "        'name': 'test_accuracy',\n",
    "        'goal': 'maximize'   \n",
    "    },\n",
    "    'parameters': {\n",
    "        'learning_rate': {\n",
    "            'values': [0.001, 0.005, 0.01]\n",
    "        },\n",
    "        'batch_size': {\n",
    "            'values': [8, 16, 32, 64]\n",
    "        },\n",
    "        'optimizer': {\n",
    "            'values': ['adam', 'adamw', 'sgd']\n",
    "        },\n",
    "        'epochs': {\n",
    "            'values': [5, 10]\n",
    "        }\n",
    "    }\n",
    "}\n",
    "\n",
    "sweep_id = wandb.sweep(sweep_config, project=f\"DinoV2_{target_feature}_classifier\")\n"
   ]
  },
  {
   "cell_type": "code",
   "execution_count": null,
   "metadata": {},
   "outputs": [],
   "source": [
    "def run_wb_finetuning(sweep_id, model_input_dim, model_output_dim, train_dataset, test_dataset, device):\n",
    "    def wrapped_train():\n",
    "        train_wb(model_input_dim, model_output_dim, train_dataset, test_dataset, device)\n",
    "    \n",
    "    wandb.agent(sweep_id, function=wrapped_train)"
   ]
  },
  {
   "cell_type": "code",
   "execution_count": null,
   "metadata": {},
   "outputs": [],
   "source": [
    "run_wb_finetuning(sweep_id, embeddings.shape[1], len(id2label), train_dataset, test_dataset, device)"
   ]
  }
 ],
 "metadata": {
  "kernelspec": {
   "display_name": "master_thesis",
   "language": "python",
   "name": "python3"
  },
  "language_info": {
   "codemirror_mode": {
    "name": "ipython",
    "version": 3
   },
   "file_extension": ".py",
   "mimetype": "text/x-python",
   "name": "python",
   "nbconvert_exporter": "python",
   "pygments_lexer": "ipython3",
   "version": "3.10.1"
  }
 },
 "nbformat": 4,
 "nbformat_minor": 2
}
