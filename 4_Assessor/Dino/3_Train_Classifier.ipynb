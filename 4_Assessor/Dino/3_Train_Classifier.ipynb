{
 "cells": [
  {
   "cell_type": "code",
   "execution_count": 1,
   "metadata": {},
   "outputs": [
    {
     "name": "stdout",
     "output_type": "stream",
     "text": [
      "Using mps as device\n",
      "Using mps as device\n"
     ]
    },
    {
     "name": "stderr",
     "output_type": "stream",
     "text": [
      "/Users/maltegenschow/Documents/Uni/Thesis/Thesis/dinov2/dinov2/layers/swiglu_ffn.py:51: UserWarning: xFormers is not available (SwiGLU)\n",
      "  warnings.warn(\"xFormers is not available (SwiGLU)\")\n",
      "/Users/maltegenschow/Documents/Uni/Thesis/Thesis/dinov2/dinov2/layers/attention.py:33: UserWarning: xFormers is not available (Attention)\n",
      "  warnings.warn(\"xFormers is not available (Attention)\")\n",
      "/Users/maltegenschow/Documents/Uni/Thesis/Thesis/dinov2/dinov2/layers/block.py:40: UserWarning: xFormers is not available (Block)\n",
      "  warnings.warn(\"xFormers is not available (Block)\")\n"
     ]
    }
   ],
   "source": [
    "import torch\n",
    "import torch.nn as nn\n",
    "import torch.optim as optim\n",
    "from PIL import Image\n",
    "from torch.utils.data import ConcatDataset, DataLoader\n",
    "import pandas as pd\n",
    "import matplotlib.pyplot as plt\n",
    "import numpy as np\n",
    "\n",
    "# Custom Dino and Classifier Imports\n",
    "from dino_utils import prepare_data, Categories_Dataset\n",
    "from dino_utils import ClassifierModel, evaluate_model, train_model\n",
    "from dino_utils import set_device"
   ]
  },
  {
   "cell_type": "code",
   "execution_count": 2,
   "metadata": {},
   "outputs": [],
   "source": [
    "import platform\n",
    "import os\n",
    "if platform.system() == 'Darwin':\n",
    "    DATA_PATH = \"/Users/maltegenschow/Documents/Uni/Thesis/Data.nosync\"\n",
    "    ROOT_PATH = \"/Users/maltegenschow/Documents/Uni/Thesis/Thesis\"\n",
    "elif platform.system() == 'Linux':\n",
    "    DATA_PATH = \"/pfs/work7/workspace/scratch/tu_zxmav84-thesis/Data.nosync\"\n",
    "    ROOT_PATH = \"/pfs/work7/workspace/scratch/tu_zxmav84-thesis/Thesis\"\n",
    "\n",
    "current_wd = os.getcwd()"
   ]
  },
  {
   "cell_type": "code",
   "execution_count": 3,
   "metadata": {},
   "outputs": [],
   "source": [
    "target = 'category'\n",
    "fake_data_name = 'hyperstyle_embeddings'\n",
    "retrain = False"
   ]
  },
  {
   "cell_type": "markdown",
   "metadata": {},
   "source": [
    "### 1. Prepare Data"
   ]
  },
  {
   "cell_type": "code",
   "execution_count": 4,
   "metadata": {},
   "outputs": [
    {
     "name": "stdout",
     "output_type": "stream",
     "text": [
      "Target: category\n",
      "\tNumber of classes: 8\n",
      "\tNumber of training samples: 22496\n",
      "\tNumber of testing samples: 5624\n"
     ]
    }
   ],
   "source": [
    "train_real, test_real = prepare_data(target, 'real_images_embeddings')\n",
    "train_fake, test_fake = prepare_data(target, fake_data_name)\n",
    "\n",
    "# Combine real and fake data\n",
    "train = ConcatDataset([train_real, train_fake])\n",
    "test = ConcatDataset([test_real, test_fake])\n",
    "\n",
    "print(f\"Target: {train_real.target}\")\n",
    "print(f\"\\tNumber of classes: {len(train_real.id2label)}\")\n",
    "\n",
    "print(f\"\\tNumber of training samples: {len(train)}\")\n",
    "print(f\"\\tNumber of testing samples: {len(test)}\")"
   ]
  },
  {
   "cell_type": "markdown",
   "metadata": {},
   "source": [
    "### 2. Training"
   ]
  },
  {
   "cell_type": "code",
   "execution_count": 5,
   "metadata": {},
   "outputs": [
    {
     "name": "stdout",
     "output_type": "stream",
     "text": [
      "Using mps as device\n"
     ]
    }
   ],
   "source": [
    "## Model Parameters\n",
    "embeddings_shape = train_real[0][0].shape[0]\n",
    "num_classes = len(train_real.id2label)\n",
    "\n",
    "## Training Hyperparameters\n",
    "NUM_EPOCHS = 30\n",
    "BATCH_SIZE = 128\n",
    "LR = 5e-4\n",
    "loss_fn = nn.CrossEntropyLoss()\n",
    "\n",
    "## Initialize Model and Optimizer\n",
    "device = set_device()\n",
    "model = ClassifierModel(embeddings_shape, num_classes)\n",
    "model.to(device)\n",
    "optimizer = optim.AdamW(model.parameters(), lr=LR)\n",
    "\n",
    "model_save_path = f\"{DATA_PATH}/Models/Assessor/DinoV2/Classifier/{target}_{fake_data_name}.pt\""
   ]
  },
  {
   "cell_type": "code",
   "execution_count": 14,
   "metadata": {},
   "outputs": [],
   "source": [
    "# Create dataloaders\n",
    "train_loader = DataLoader(train, batch_size=BATCH_SIZE, shuffle=True)\n",
    "test_loader = DataLoader(test, batch_size=BATCH_SIZE, shuffle=True)\n",
    "if retrain or not os.path.exists(model_save_path):\n",
    "    train_model(model, NUM_EPOCHS, optimizer, loss_fn, train_loader, test_loader, model_save_path, device, log_every=10)\n",
    "else:\n",
    "    model = torch.load(model_save_path, map_location = 'cpu').to(device)"
   ]
  },
  {
   "cell_type": "markdown",
   "metadata": {},
   "source": [
    "### 3. Evaluation"
   ]
  },
  {
   "cell_type": "code",
   "execution_count": 16,
   "metadata": {},
   "outputs": [
    {
     "name": "stdout",
     "output_type": "stream",
     "text": [
      "Overall Accuracy:\n",
      "\tTraining Set: 0.9294985775248933\n",
      "\tTesting Set: 0.6559388335704125\n",
      "Accuracy on real data:\n",
      "\tTraining Set: 0.9434566145092461\n",
      "\tTesting Set: 0.6959459459459459\n",
      "Accuracy on fake data:\n",
      "\tTraining Set: 0.9155405405405406\n",
      "\tTesting Set: 0.615931721194879\n"
     ]
    }
   ],
   "source": [
    "print(\"Overall Accuracy:\")\n",
    "print(f\"\\tTraining Set: {evaluate_model(model, DataLoader(train), device)}\")\n",
    "print(f\"\\tTesting Set: {evaluate_model(model, DataLoader(test), device)}\")\n",
    "\n",
    "print(\"Accuracy on real data:\")\n",
    "print(f\"\\tTraining Set: {evaluate_model(model, DataLoader(train_real), device)}\")\n",
    "print(f\"\\tTesting Set: {evaluate_model(model, DataLoader(test_real), device)}\")\n",
    "\n",
    "print(\"Accuracy on fake data:\")\n",
    "print(f\"\\tTraining Set: {evaluate_model(model, DataLoader(train_fake), device)}\")\n",
    "print(f\"\\tTesting Set: {evaluate_model(model, DataLoader(test_fake), device)}\")"
   ]
  },
  {
   "cell_type": "markdown",
   "metadata": {},
   "source": [
    "#### Top N Accuracy"
   ]
  },
  {
   "cell_type": "code",
   "execution_count": 17,
   "metadata": {},
   "outputs": [],
   "source": [
    "real_loader = DataLoader(ConcatDataset([train_real, test_real]), batch_size=BATCH_SIZE, shuffle=False)\n",
    "fake_loader = DataLoader(ConcatDataset([train_fake, test_fake]), batch_size=BATCH_SIZE, shuffle=False)"
   ]
  },
  {
   "cell_type": "code",
   "execution_count": 18,
   "metadata": {},
   "outputs": [],
   "source": [
    "def get_top_n_predictions(loader, n):\n",
    "    predictions = {}\n",
    "\n",
    "    for embeddings, labels, sku in loader:\n",
    "        output = model(embeddings.to(device))\n",
    "        prob, predicted = torch.topk(torch.softmax(output, 1), n)\n",
    "\n",
    "        for i in range(len(predicted)):\n",
    "            predictions[sku[i]] = [train_real.id2label[labels[i].item()]] + [train_real.id2label[predicted[i][j].item()] for j in range(n)] + [prob[i][j].item() for j in range(n)]\n",
    "\n",
    "    df = pd.DataFrame(predictions).T.reset_index()\n",
    "    df.columns = ['sku'] + ['target'] + [f'pred_{i}' for i in range(n)] + [f'prob_{i}' for i in range(n)]\n",
    "\n",
    "    df['top1_correct'] = df['target'] == df['pred_0']\n",
    "    for i in range(1, n):\n",
    "        df[f'top{i+1}_correct'] = df[f'top{i}_correct'] | (df['target'] == df[f'pred_{i}'])\n",
    "    return df\n"
   ]
  },
  {
   "cell_type": "code",
   "execution_count": 19,
   "metadata": {},
   "outputs": [],
   "source": [
    "real_predictions = get_top_n_predictions(real_loader, 3)\n",
    "fake_predictions = get_top_n_predictions(fake_loader, 3)\n",
    "\n",
    "real_predictions['dataset'] = real_predictions.sku.apply(lambda x: 'train' if x in train_real.df.sku.to_list() else 'test')\n",
    "fake_predictions['dataset'] = fake_predictions.sku.apply(lambda x: 'train' if x in train_fake.df.sku.to_list() else 'test')"
   ]
  },
  {
   "cell_type": "code",
   "execution_count": 20,
   "metadata": {},
   "outputs": [
    {
     "name": "stdout",
     "output_type": "stream",
     "text": [
      "Real Images:\n",
      "\tTrain Set:\n",
      "\t\tTop 1: 0.9434566145092461\n",
      "\t\tTop 2: 0.9919985775248933\n",
      "\t\tTop 3: 0.9983997155049786\n",
      "\tTest Set:\n",
      "\t\tTop 1: 0.6959459459459459\n",
      "\t\tTop 2: 0.868421052631579\n",
      "\t\tTop 3: 0.9427453769559033\n",
      "Reconstructed Images:\n",
      "\tTrain Set:\n",
      "\t\tTop 1: 0.9155405405405406\n",
      "\t\tTop 2: 0.9830192034139402\n",
      "\t\tTop 3: 0.9959992887624467\n",
      "\tTest Set:\n",
      "\t\tTop 1: 0.615931721194879\n",
      "\t\tTop 2: 0.8218349928876245\n",
      "\t\tTop 3: 0.9174964438122333\n"
     ]
    }
   ],
   "source": [
    "print(\"Real Images:\")\n",
    "for dataset in ['train', 'test']:\n",
    "    print(f\"\\t{dataset.capitalize()} Set:\")\n",
    "    for i in range(3):\n",
    "        print(f\"\\t\\tTop {i+1}: {real_predictions[real_predictions.dataset == dataset][f'top{i+1}_correct'].mean()}\")\n",
    "\n",
    "print(\"Reconstructed Images:\")\n",
    "for dataset in ['train', 'test']:\n",
    "    print(f\"\\t{dataset.capitalize()} Set:\")\n",
    "    for i in range(3):\n",
    "        print(f\"\\t\\tTop {i+1}: {fake_predictions[fake_predictions.dataset == dataset][f'top{i+1}_correct'].mean()}\")"
   ]
  },
  {
   "cell_type": "code",
   "execution_count": 21,
   "metadata": {},
   "outputs": [
    {
     "name": "stdout",
     "output_type": "stream",
     "text": [
      "Real Images:\n"
     ]
    },
    {
     "data": {
      "text/plain": [
       "target\n",
       "Denim dress                     0.964744\n",
       "Day dress                       0.928258\n",
       "Jumper dress                    0.924585\n",
       "Occasion wear                   0.891065\n",
       "Cocktail dress / Party dress    0.882786\n",
       "Maxi dress                      0.847251\n",
       "Shift dress                     0.828869\n",
       "Jersey dress                    0.822346\n",
       "Name: top1_correct, dtype: float64"
      ]
     },
     "metadata": {},
     "output_type": "display_data"
    },
    {
     "name": "stdout",
     "output_type": "stream",
     "text": [
      "Reconstructed Images:\n"
     ]
    },
    {
     "data": {
      "text/plain": [
       "target\n",
       "Day dress                       0.900401\n",
       "Jumper dress                    0.894419\n",
       "Occasion wear                   0.886169\n",
       "Denim dress                     0.852564\n",
       "Cocktail dress / Party dress    0.847678\n",
       "Maxi dress                      0.837067\n",
       "Jersey dress                    0.736872\n",
       "Shift dress                     0.733631\n",
       "Name: top1_correct, dtype: float64"
      ]
     },
     "execution_count": 21,
     "metadata": {},
     "output_type": "execute_result"
    }
   ],
   "source": [
    "print('Real Images:')\n",
    "display(real_predictions.groupby('target').top1_correct.mean().sort_values(ascending=False))\n",
    "\n",
    "print('Reconstructed Images:')\n",
    "fake_predictions.groupby('target').top1_correct.mean().sort_values(ascending=False)"
   ]
  },
  {
   "cell_type": "code",
   "execution_count": 22,
   "metadata": {},
   "outputs": [
    {
     "data": {
      "text/html": [
       "<div>\n",
       "<style scoped>\n",
       "    .dataframe tbody tr th:only-of-type {\n",
       "        vertical-align: middle;\n",
       "    }\n",
       "\n",
       "    .dataframe tbody tr th {\n",
       "        vertical-align: top;\n",
       "    }\n",
       "\n",
       "    .dataframe thead th {\n",
       "        text-align: right;\n",
       "    }\n",
       "</style>\n",
       "<table border=\"1\" class=\"dataframe\">\n",
       "  <thead>\n",
       "    <tr style=\"text-align: right;\">\n",
       "      <th>pred_0</th>\n",
       "      <th>Cocktail dress / Party dress</th>\n",
       "      <th>Day dress</th>\n",
       "      <th>Denim dress</th>\n",
       "      <th>Jersey dress</th>\n",
       "      <th>Jumper dress</th>\n",
       "      <th>Maxi dress</th>\n",
       "      <th>Occasion wear</th>\n",
       "      <th>Shift dress</th>\n",
       "    </tr>\n",
       "    <tr>\n",
       "      <th>target</th>\n",
       "      <th></th>\n",
       "      <th></th>\n",
       "      <th></th>\n",
       "      <th></th>\n",
       "      <th></th>\n",
       "      <th></th>\n",
       "      <th></th>\n",
       "      <th></th>\n",
       "    </tr>\n",
       "  </thead>\n",
       "  <tbody>\n",
       "    <tr>\n",
       "      <th>Cocktail dress / Party dress</th>\n",
       "      <td>1559</td>\n",
       "      <td>101</td>\n",
       "      <td>0</td>\n",
       "      <td>18</td>\n",
       "      <td>10</td>\n",
       "      <td>20</td>\n",
       "      <td>28</td>\n",
       "      <td>30</td>\n",
       "    </tr>\n",
       "    <tr>\n",
       "      <th>Day dress</th>\n",
       "      <td>75</td>\n",
       "      <td>4865</td>\n",
       "      <td>2</td>\n",
       "      <td>139</td>\n",
       "      <td>40</td>\n",
       "      <td>94</td>\n",
       "      <td>4</td>\n",
       "      <td>22</td>\n",
       "    </tr>\n",
       "    <tr>\n",
       "      <th>Denim dress</th>\n",
       "      <td>0</td>\n",
       "      <td>8</td>\n",
       "      <td>301</td>\n",
       "      <td>0</td>\n",
       "      <td>0</td>\n",
       "      <td>2</td>\n",
       "      <td>0</td>\n",
       "      <td>1</td>\n",
       "    </tr>\n",
       "    <tr>\n",
       "      <th>Jersey dress</th>\n",
       "      <td>21</td>\n",
       "      <td>175</td>\n",
       "      <td>0</td>\n",
       "      <td>1472</td>\n",
       "      <td>48</td>\n",
       "      <td>40</td>\n",
       "      <td>11</td>\n",
       "      <td>23</td>\n",
       "    </tr>\n",
       "    <tr>\n",
       "      <th>Jumper dress</th>\n",
       "      <td>11</td>\n",
       "      <td>72</td>\n",
       "      <td>0</td>\n",
       "      <td>33</td>\n",
       "      <td>1839</td>\n",
       "      <td>15</td>\n",
       "      <td>2</td>\n",
       "      <td>17</td>\n",
       "    </tr>\n",
       "    <tr>\n",
       "      <th>Maxi dress</th>\n",
       "      <td>12</td>\n",
       "      <td>150</td>\n",
       "      <td>0</td>\n",
       "      <td>21</td>\n",
       "      <td>14</td>\n",
       "      <td>1248</td>\n",
       "      <td>28</td>\n",
       "      <td>0</td>\n",
       "    </tr>\n",
       "    <tr>\n",
       "      <th>Occasion wear</th>\n",
       "      <td>28</td>\n",
       "      <td>14</td>\n",
       "      <td>0</td>\n",
       "      <td>4</td>\n",
       "      <td>2</td>\n",
       "      <td>41</td>\n",
       "      <td>728</td>\n",
       "      <td>0</td>\n",
       "    </tr>\n",
       "    <tr>\n",
       "      <th>Shift dress</th>\n",
       "      <td>22</td>\n",
       "      <td>23</td>\n",
       "      <td>0</td>\n",
       "      <td>40</td>\n",
       "      <td>22</td>\n",
       "      <td>7</td>\n",
       "      <td>1</td>\n",
       "      <td>557</td>\n",
       "    </tr>\n",
       "  </tbody>\n",
       "</table>\n",
       "</div>"
      ],
      "text/plain": [
       "pred_0                        Cocktail dress / Party dress  Day dress  \\\n",
       "target                                                                  \n",
       "Cocktail dress / Party dress                          1559        101   \n",
       "Day dress                                               75       4865   \n",
       "Denim dress                                              0          8   \n",
       "Jersey dress                                            21        175   \n",
       "Jumper dress                                            11         72   \n",
       "Maxi dress                                              12        150   \n",
       "Occasion wear                                           28         14   \n",
       "Shift dress                                             22         23   \n",
       "\n",
       "pred_0                        Denim dress  Jersey dress  Jumper dress  \\\n",
       "target                                                                  \n",
       "Cocktail dress / Party dress            0            18            10   \n",
       "Day dress                               2           139            40   \n",
       "Denim dress                           301             0             0   \n",
       "Jersey dress                            0          1472            48   \n",
       "Jumper dress                            0            33          1839   \n",
       "Maxi dress                              0            21            14   \n",
       "Occasion wear                           0             4             2   \n",
       "Shift dress                             0            40            22   \n",
       "\n",
       "pred_0                        Maxi dress  Occasion wear  Shift dress  \n",
       "target                                                                \n",
       "Cocktail dress / Party dress          20             28           30  \n",
       "Day dress                             94              4           22  \n",
       "Denim dress                            2              0            1  \n",
       "Jersey dress                          40             11           23  \n",
       "Jumper dress                          15              2           17  \n",
       "Maxi dress                          1248             28            0  \n",
       "Occasion wear                         41            728            0  \n",
       "Shift dress                            7              1          557  "
      ]
     },
     "execution_count": 22,
     "metadata": {},
     "output_type": "execute_result"
    }
   ],
   "source": [
    "pd.crosstab(real_predictions.target, real_predictions.pred_0)"
   ]
  },
  {
   "cell_type": "markdown",
   "metadata": {},
   "source": [
    "### Check some misclassified examples"
   ]
  },
  {
   "cell_type": "code",
   "execution_count": 23,
   "metadata": {},
   "outputs": [],
   "source": [
    "def display_missclassified_samples(miss, num_samples=5):\n",
    "    sample = miss.sample(num_samples)\n",
    "    fig, ax = plt.subplots(1, num_samples, figsize=(5 * num_samples, 10))\n",
    "\n",
    "    for i in range(num_samples):\n",
    "        sku = sample.iloc[i].sku\n",
    "        img_path = f\"{DATA_PATH}/Generated_Images/hyperstyle/inference_results/4/{sku}.jpg\"\n",
    "        img = Image.open(img_path)\n",
    "        ax[i].imshow(img)\n",
    "\n",
    "        # Construct title string with predictions and their probabilities\n",
    "        title_text = f\"SKU: {sku}\\nTarget: {sample.iloc[i].target}\"\n",
    "        for j in range(3):  # Assuming there are always three predictions to display\n",
    "            pred_col = f'pred_{j}'\n",
    "            prob_col = f'prob_{j}'\n",
    "            title_text += f\"\\nPrediction {j + 1}: {sample.iloc[i][pred_col]} ({np.round(sample.iloc[i][prob_col], 2)})\"\n",
    "\n",
    "        ax[i].set_title(title_text)\n",
    "        ax[i].axis('off')\n",
    "\n",
    "    plt.tight_layout()\n",
    "    plt.show()\n"
   ]
  },
  {
   "cell_type": "code",
   "execution_count": 24,
   "metadata": {},
   "outputs": [
    {
     "ename": "FileNotFoundError",
     "evalue": "[Errno 2] No such file or directory: '/Users/maltegenschow/Documents/Uni/Thesis/Data.nosync/Generated_Images/hyperstyle/inference_results/4/CIG21C04K-K11.jpg'",
     "output_type": "error",
     "traceback": [
      "\u001b[0;31m---------------------------------------------------------------------------\u001b[0m",
      "\u001b[0;31mFileNotFoundError\u001b[0m                         Traceback (most recent call last)",
      "Cell \u001b[0;32mIn[24], line 2\u001b[0m\n\u001b[1;32m      1\u001b[0m miss \u001b[38;5;241m=\u001b[39m fake_predictions[fake_predictions\u001b[38;5;241m.\u001b[39mtarget \u001b[38;5;241m!=\u001b[39m fake_predictions\u001b[38;5;241m.\u001b[39mpred_0]\n\u001b[0;32m----> 2\u001b[0m \u001b[43mdisplay_missclassified_samples\u001b[49m\u001b[43m(\u001b[49m\u001b[43mmiss\u001b[49m\u001b[43m,\u001b[49m\u001b[43m \u001b[49m\u001b[38;5;241;43m5\u001b[39;49m\u001b[43m)\u001b[49m\n",
      "Cell \u001b[0;32mIn[23], line 8\u001b[0m, in \u001b[0;36mdisplay_missclassified_samples\u001b[0;34m(miss, num_samples)\u001b[0m\n\u001b[1;32m      6\u001b[0m sku \u001b[38;5;241m=\u001b[39m sample\u001b[38;5;241m.\u001b[39miloc[i]\u001b[38;5;241m.\u001b[39msku\n\u001b[1;32m      7\u001b[0m img_path \u001b[38;5;241m=\u001b[39m \u001b[38;5;124mf\u001b[39m\u001b[38;5;124m\"\u001b[39m\u001b[38;5;132;01m{\u001b[39;00mDATA_PATH\u001b[38;5;132;01m}\u001b[39;00m\u001b[38;5;124m/Generated_Images/hyperstyle/inference_results/4/\u001b[39m\u001b[38;5;132;01m{\u001b[39;00msku\u001b[38;5;132;01m}\u001b[39;00m\u001b[38;5;124m.jpg\u001b[39m\u001b[38;5;124m\"\u001b[39m\n\u001b[0;32m----> 8\u001b[0m img \u001b[38;5;241m=\u001b[39m \u001b[43mImage\u001b[49m\u001b[38;5;241;43m.\u001b[39;49m\u001b[43mopen\u001b[49m\u001b[43m(\u001b[49m\u001b[43mimg_path\u001b[49m\u001b[43m)\u001b[49m\n\u001b[1;32m      9\u001b[0m ax[i]\u001b[38;5;241m.\u001b[39mimshow(img)\n\u001b[1;32m     11\u001b[0m \u001b[38;5;66;03m# Construct title string with predictions and their probabilities\u001b[39;00m\n",
      "File \u001b[0;32m~/.pyenv/versions/3.10.1/envs/master_thesis/lib/python3.10/site-packages/PIL/Image.py:3243\u001b[0m, in \u001b[0;36mopen\u001b[0;34m(fp, mode, formats)\u001b[0m\n\u001b[1;32m   3240\u001b[0m     filename \u001b[38;5;241m=\u001b[39m fp\n\u001b[1;32m   3242\u001b[0m \u001b[38;5;28;01mif\u001b[39;00m filename:\n\u001b[0;32m-> 3243\u001b[0m     fp \u001b[38;5;241m=\u001b[39m \u001b[43mbuiltins\u001b[49m\u001b[38;5;241;43m.\u001b[39;49m\u001b[43mopen\u001b[49m\u001b[43m(\u001b[49m\u001b[43mfilename\u001b[49m\u001b[43m,\u001b[49m\u001b[43m \u001b[49m\u001b[38;5;124;43m\"\u001b[39;49m\u001b[38;5;124;43mrb\u001b[39;49m\u001b[38;5;124;43m\"\u001b[39;49m\u001b[43m)\u001b[49m\n\u001b[1;32m   3244\u001b[0m     exclusive_fp \u001b[38;5;241m=\u001b[39m \u001b[38;5;28;01mTrue\u001b[39;00m\n\u001b[1;32m   3246\u001b[0m \u001b[38;5;28;01mtry\u001b[39;00m:\n",
      "\u001b[0;31mFileNotFoundError\u001b[0m: [Errno 2] No such file or directory: '/Users/maltegenschow/Documents/Uni/Thesis/Data.nosync/Generated_Images/hyperstyle/inference_results/4/CIG21C04K-K11.jpg'"
     ]
    },
    {
     "data": {
      "image/png": "[encoded data removed]",
      "text/plain": [
       "<Figure size 2500x1000 with 5 Axes>"
      ]
     },
     "metadata": {},
     "output_type": "display_data"
    }
   ],
   "source": [
    "miss = fake_predictions[fake_predictions.target != fake_predictions.pred_0]\n",
    "display_missclassified_samples(miss, 5)"
   ]
  },
  {
   "cell_type": "code",
   "execution_count": null,
   "metadata": {},
   "outputs": [],
   "source": []
  }
 ],
 "metadata": {
  "kernelspec": {
   "display_name": "master_thesis",
   "language": "python",
   "name": "python3"
  },
  "language_info": {
   "codemirror_mode": {
    "name": "ipython",
    "version": 3
   },
   "file_extension": ".py",
   "mimetype": "text/x-python",
   "name": "python",
   "nbconvert_exporter": "python",
   "pygments_lexer": "ipython3",
   "version": "3.10.1"
  }
 },
 "nbformat": 4,
 "nbformat_minor": 2
}
