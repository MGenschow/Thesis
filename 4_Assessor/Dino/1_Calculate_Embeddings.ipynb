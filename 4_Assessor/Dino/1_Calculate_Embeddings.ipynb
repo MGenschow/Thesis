{
 "cells": [
  {
   "cell_type": "code",
   "execution_count": null,
   "metadata": {},
   "outputs": [],
   "source": [
    "from dino_utils import calculate_embeddings"
   ]
  },
  {
   "cell_type": "code",
   "execution_count": null,
   "metadata": {},
   "outputs": [],
   "source": [
    "import pickle\n",
    "import platform\n",
    "import os\n",
    "if platform.system() == 'Darwin':\n",
    "    DATA_PATH = \"/Users/maltegenschow/Documents/Uni/Thesis/Data.nosync\"\n",
    "    ROOT_PATH = \"/Users/maltegenschow/Documents/Uni/Thesis/Thesis\"\n",
    "elif platform.system() == 'Linux':\n",
    "    DATA_PATH = \"/pfs/work7/workspace/scratch/tu_zxmav84-thesis/Data.nosync\"\n",
    "    ROOT_PATH = \"/pfs/work7/workspace/scratch/tu_zxmav84-thesis/Thesis\"\n",
    "\n",
    "current_wd = os.getcwd()"
   ]
  },
  {
   "cell_type": "code",
   "execution_count": null,
   "metadata": {},
   "outputs": [],
   "source": [
    "import torch\n",
    "import os\n",
    "from glob import glob\n",
    "from tqdm import tqdm\n",
    "import numpy as np"
   ]
  },
  {
   "cell_type": "markdown",
   "metadata": {},
   "source": [
    "### Compute Embeddings for Real Images"
   ]
  },
  {
   "cell_type": "code",
   "execution_count": null,
   "metadata": {},
   "outputs": [],
   "source": [
    "# Real Images\n",
    "input_images_path = f\"{DATA_PATH}/Zalando_Germany_Dataset/dresses/images/e4e_images/all/\"\n",
    "save_path = f\"{DATA_PATH}/Models/Assessor/DinoV2/Embeddings/real_images_embeddings.pt\"\n",
    "calculate_embeddings(input_images_path, save_path)"
   ]
  },
  {
   "cell_type": "markdown",
   "metadata": {},
   "source": [
    "### Calculate Embeddings for PTI Images"
   ]
  },
  {
   "cell_type": "code",
   "execution_count": null,
   "metadata": {},
   "outputs": [],
   "source": [
    "skus = glob(f'{DATA_PATH}/Generated_Images/PTI/*.jpg')"
   ]
  },
  {
   "cell_type": "code",
   "execution_count": null,
   "metadata": {},
   "outputs": [],
   "source": [
    "save_path = f\"{DATA_PATH}/Models/Assessor/DinoV2/Embeddings/pti_embeddings.pt\"\n",
    "calculate_embeddings(skus, save_path, generator_type='PTI', generator=None)"
   ]
  },
  {
   "cell_type": "markdown",
   "metadata": {},
   "source": [
    "### Compute Embeddings for Hyperstyle Images"
   ]
  },
  {
   "cell_type": "code",
   "execution_count": null,
   "metadata": {},
   "outputs": [],
   "source": [
    "os.chdir(f'{ROOT_PATH}/2_Inversion/hyperstyle/')\n",
    "from hyperstyle_utils import load_hyperstyle, load_generator_inputs, generate_hyperstyle\n",
    "os.chdir(f\"{current_wd}\")"
   ]
  },
  {
   "cell_type": "code",
   "execution_count": null,
   "metadata": {},
   "outputs": [],
   "source": [
    "skus = glob(f\"{DATA_PATH}/Zalando_Germany_Dataset/dresses/images/e4e_images/all/*.jpg\")\n",
    "skus = [elem.split('/')[-1].split('.')[0] for elem in skus]"
   ]
  },
  {
   "cell_type": "code",
   "execution_count": null,
   "metadata": {},
   "outputs": [],
   "source": [
    "G = load_hyperstyle()\n",
    "save_path = f\"{DATA_PATH}/Models/Assessor/DinoV2/Embeddings/hyperstyle_embeddings.pt\"\n",
    "calculate_embeddings(skus, save_path, generator_type='hyperstyle', generator=G)"
   ]
  }
 ],
 "metadata": {
  "kernelspec": {
   "display_name": "Python 3",
   "language": "python",
   "name": "python3"
  },
  "language_info": {
   "codemirror_mode": {
    "name": "ipython",
    "version": 3
   },
   "file_extension": ".py",
   "mimetype": "text/x-python",
   "name": "python",
   "nbconvert_exporter": "python",
   "pygments_lexer": "ipython3",
   "version": "3.10.1"
  }
 },
 "nbformat": 4,
 "nbformat_minor": 2
}
