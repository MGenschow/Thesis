{
 "cells": [
  {
   "cell_type": "code",
   "execution_count": null,
   "metadata": {},
   "outputs": [],
   "source": [
    "import torch\n",
    "from transformers import AutoImageProcessor, AutoModel\n",
    "from torch.utils.data import Dataset, DataLoader\n",
    "import torchvision.transforms as transforms\n",
    "from glob import glob\n",
    "from PIL import Image\n",
    "from tqdm import tqdm"
   ]
  },
  {
   "cell_type": "code",
   "execution_count": null,
   "metadata": {},
   "outputs": [],
   "source": [
    "# %%\n",
    "import os\n",
    "import platform\n",
    "if platform.system() == 'Darwin':\n",
    "    DATA_PATH = \"/Users/maltegenschow/Documents/Uni/Thesis/Data.nosync\"\n",
    "    ROOT_PATH = \"/Users/maltegenschow/Documents/Uni/Thesis/Thesis\"\n",
    "elif platform.system() == 'Linux':\n",
    "    DATA_PATH = \"/pfs/work7/workspace/scratch/tu_zxmav84-thesis/Data.nosync\"\n",
    "    ROOT_PATH = \"/pfs/work7/workspace/scratch/tu_zxmav84-thesis/Thesis\"\n",
    "\n",
    "current_wd = os.getcwd()"
   ]
  },
  {
   "cell_type": "code",
   "execution_count": null,
   "metadata": {},
   "outputs": [],
   "source": [
    "def set_device():\n",
    "    try:\n",
    "        if torch.cuda.is_available():\n",
    "            device = 'cuda'\n",
    "        elif torch.backends.mps.is_available():\n",
    "            device = 'mps'\n",
    "        else:\n",
    "            device = 'cpu'\n",
    "    except:\n",
    "        if torch.cuda.is_available():\n",
    "            device = 'cuda'\n",
    "        else:\n",
    "            device = 'cpu'\n",
    "    print(f\"Using {device} as device\")\n",
    "    return device\n",
    "\n",
    "device = set_device()"
   ]
  },
  {
   "cell_type": "markdown",
   "metadata": {},
   "source": [
    "### Dino Custom Processor and Model"
   ]
  },
  {
   "cell_type": "code",
   "execution_count": null,
   "metadata": {},
   "outputs": [],
   "source": [
    "# Setup DinoV2 Custom Processor to ensure gradient flow in later training\n",
    "transform_pipeline = transforms.Compose([\n",
    "    #transforms.Resize(256),  # Resize so the shortest side is 256\n",
    "    #transforms.CenterCrop((224, 224)),  # Center crop to 224x224\n",
    "    transforms.Normalize(mean=[0.485, 0.456, 0.406], std=[0.229, 0.224, 0.225])  # Normalize\n",
    "])\n",
    "def dino_processor(input):\n",
    "    if isinstance(input, str):\n",
    "        img = Image.open(input).convert('RGB')\n",
    "        img = transforms.ToTensor()(img.resize([512,512]))\n",
    "        img = img.unsqueeze(0)\n",
    "\n",
    "        processed_img = transform_pipeline(img)\n",
    "    elif isinstance(input, torch.Tensor):\n",
    "        processed_img = transform_pipeline(input)\n",
    "    else:\n",
    "        raise ValueError(\"Input must be either a string or a torch.Tensor\")\n",
    "    return processed_img\n"
   ]
  },
  {
   "cell_type": "code",
   "execution_count": null,
   "metadata": {},
   "outputs": [],
   "source": [
    "def setup_dino_model(device):\n",
    "    model_name = \"facebook/dinov2-base\"\n",
    "    model = AutoModel.from_pretrained(model_name)\n",
    "    model = model.to(device)\n",
    "    return model\n",
    "\n",
    "dino_model = setup_dino_model(device)"
   ]
  },
  {
   "cell_type": "markdown",
   "metadata": {},
   "source": [
    "### Function to extract embeddings"
   ]
  },
  {
   "cell_type": "code",
   "execution_count": null,
   "metadata": {},
   "outputs": [],
   "source": [
    "def calculate_embeddings(input_images_path, save_path):\n",
    "    if os.path.exists(save_path):\n",
    "        print(f\"Embeddings for {input_images_path} already calculated\")\n",
    "        return\n",
    "    \n",
    "    input_images = glob(f\"{input_images_path}*.jpg\")\n",
    "    skus = [elem.split('/')[-1].split('.')[0] for elem in input_images]\n",
    "\n",
    "    embeddings = {elem:None for elem in skus}\n",
    "\n",
    "    for image_path in tqdm(input_images):\n",
    "        sku = image_path.split('/')[-1].split('.')[0]\n",
    "        # Load Image and preprocess\n",
    "        input = dino_processor(image_path)\n",
    "        input = input.to(device)\n",
    "        # Perform forward pass\n",
    "        with torch.no_grad():\n",
    "            output = dino_model(input)\n",
    "            embedding = output['pooler_output']\n",
    "        # Assign embedding to embeddings\n",
    "        embeddings[sku] = embedding.detach().cpu()\n",
    "    \n",
    "    # Save embeddings\n",
    "    torch.save(embeddings, save_path)\n"
   ]
  },
  {
   "cell_type": "markdown",
   "metadata": {},
   "source": [
    "### Calculate all embeddings:"
   ]
  },
  {
   "cell_type": "code",
   "execution_count": null,
   "metadata": {},
   "outputs": [],
   "source": [
    "# Real Images\n",
    "input_images_path = f\"{DATA_PATH}/Zalando_Germany_Dataset/dresses/images/e4e_images/all/\"\n",
    "save_path = f\"{DATA_PATH}/Models/Assessor/DinoV2/Embeddings/real_images_embedings.pt\"\n",
    "calculate_embeddings(input_images_path, save_path)\n",
    "\n",
    "# e4e 00003\n",
    "input_images_path = f\"{DATA_PATH}/Generated_Images/e4e/00003_snapshot_920/\"\n",
    "save_path = f\"{DATA_PATH}/Models/Assessor/DinoV2/Embeddings/e4e_00003_snapshot_920.pt\"\n",
    "calculate_embeddings(input_images_path, save_path)\n",
    "\n",
    "# e4e 00005\n",
    "input_images_path = f\"{DATA_PATH}/Generated_Images/e4e/00005_snapshot_1200/\"\n",
    "save_path = f\"{DATA_PATH}/Models/Assessor/DinoV2/Embeddings/e4e_00005_snapshot_1200.pt\"\n",
    "calculate_embeddings(input_images_path, save_path)\n",
    "\n",
    "# PTI\n",
    "input_images_path = f\"{DATA_PATH}/Generated_Images/PTI/\"\n",
    "save_path = f\"{DATA_PATH}/Models/Assessor/DinoV2/Embeddings/PTI.pt\"\n",
    "calculate_embeddings(input_images_path, save_path)\n",
    "\n",
    "\n",
    "# Restyle\n",
    "input_images_path = f\"{DATA_PATH}/Generated_Images/restyle/inference_results/4/\"\n",
    "save_path = f\"{DATA_PATH}/Models/Assessor/DinoV2/Embeddings/restyle.pt\"\n",
    "calculate_embeddings(input_images_path, save_path)"
   ]
  }
 ],
 "metadata": {
  "kernelspec": {
   "display_name": "Python 3",
   "language": "python",
   "name": "python3"
  },
  "language_info": {
   "codemirror_mode": {
    "name": "ipython",
    "version": 3
   },
   "file_extension": ".py",
   "mimetype": "text/x-python",
   "name": "python",
   "nbconvert_exporter": "python",
   "pygments_lexer": "ipython3",
   "version": "3.9.18"
  }
 },
 "nbformat": 4,
 "nbformat_minor": 2
}
