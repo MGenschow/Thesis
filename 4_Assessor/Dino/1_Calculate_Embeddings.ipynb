{
 "cells": [
  {
   "cell_type": "code",
   "execution_count": 1,
   "metadata": {},
   "outputs": [],
   "source": [
    "from utils import set_device, dino_processor, setup_dino_model#, calculate_embeddings"
   ]
  },
  {
   "cell_type": "code",
   "execution_count": 32,
   "metadata": {},
   "outputs": [],
   "source": [
    "import pickle\n",
    "import platform\n",
    "import os\n",
    "if platform.system() == 'Darwin':\n",
    "    DATA_PATH = \"/Users/maltegenschow/Documents/Uni/Thesis/Data.nosync\"\n",
    "    ROOT_PATH = \"/Users/maltegenschow/Documents/Uni/Thesis/Thesis\"\n",
    "elif platform.system() == 'Linux':\n",
    "    DATA_PATH = \"/pfs/work7/workspace/scratch/tu_zxmav84-thesis/Data.nosync\"\n",
    "    ROOT_PATH = \"/pfs/work7/workspace/scratch/tu_zxmav84-thesis/Thesis\"\n",
    "\n",
    "current_wd = os.getcwd()"
   ]
  },
  {
   "cell_type": "code",
   "execution_count": 15,
   "metadata": {},
   "outputs": [],
   "source": [
    "import torch\n",
    "import os\n",
    "from glob import glob\n",
    "from tqdm import tqdm\n",
    "import numpy as np"
   ]
  },
  {
   "cell_type": "code",
   "execution_count": 3,
   "metadata": {},
   "outputs": [
    {
     "name": "stdout",
     "output_type": "stream",
     "text": [
      "Using cpu as device\n"
     ]
    }
   ],
   "source": [
    "device = set_device()\n",
    "dino_model = setup_dino_model(device)"
   ]
  },
  {
   "cell_type": "code",
   "execution_count": 33,
   "metadata": {},
   "outputs": [],
   "source": [
    "def setup_generator():\n",
    "    os.chdir(f\"{ROOT_PATH}/stylegan2-ada-pytorch\")\n",
    "    # Load model architecture\n",
    "    experiment_path = f\"{DATA_PATH}/Models/Stylegan2_Ada/Experiments/00005-stylegan2_ada_images-mirror-auto2-kimg5000-resumeffhq512/\"\n",
    "    model_name = \"network-snapshot-001200.pkl\"\n",
    "    model_path = experiment_path + model_name\n",
    "    with open(model_path, 'rb') as f:\n",
    "        architecture = pickle.load(f)\n",
    "        G = architecture['G_ema']\n",
    "        D = architecture['D']\n",
    "    os.chdir(current_wd)\n",
    "    return G\n",
    "\n",
    "G = setup_generator()"
   ]
  },
  {
   "cell_type": "code",
   "execution_count": 29,
   "metadata": {},
   "outputs": [],
   "source": [
    "def get_embedding(input):\n",
    "    # Load Image and preprocess\n",
    "    input = dino_processor(input)\n",
    "    input = input.to(device)\n",
    "    # Perform forward pass\n",
    "    with torch.no_grad():\n",
    "        output = dino_model(input)\n",
    "        embedding = output['pooler_output']\n",
    "    return embedding\n",
    "\n",
    "\n",
    "def calculate_embeddings(source, save_path, generator=None):\n",
    "    if os.path.exists(save_path):\n",
    "        print(f\"Embeddings for {input_images_path} already calculated\")\n",
    "        return\n",
    "    \n",
    "    if isinstance(source, str):\n",
    "        input_images = glob(f\"{source}*.jpg\")\n",
    "        skus = [elem.split('/')[-1].split('.')[0] for elem in input_images]\n",
    "\n",
    "        embeddings = {elem:None for elem in skus}\n",
    "\n",
    "        for image_path in tqdm(input_images):\n",
    "            sku = image_path.split('/')[-1].split('.')[0]\n",
    "            embedding = get_embedding(image_path)\n",
    "            embeddings[sku] = embedding.detach().cpu()\n",
    "\n",
    "    elif isinstance(source, dict):\n",
    "        if generator == None: \n",
    "            raise ValueError(\"Generator must be defined when using latents as source\")\n",
    "        \n",
    "\n",
    "        ## Loop over all dict keys, generate image from latent, normalize and clamp image, calculate embedding, assign to embeddings dict\n",
    "\n",
    "    else:\n",
    "        raise ValueError(f\"Input must be either a path (str) to an image directory or dict with latents\")\n",
    "\n",
    "        \n",
    "    # Save embeddings\n",
    "    torch.save(embeddings, save_path)"
   ]
  },
  {
   "cell_type": "code",
   "execution_count": 22,
   "metadata": {},
   "outputs": [
    {
     "data": {
      "text/plain": [
       "dict"
      ]
     },
     "execution_count": 22,
     "metadata": {},
     "output_type": "execute_result"
    }
   ],
   "source": [
    "latents = torch.load(\"/pfs/work7/workspace/scratch/tu_zxmav84-thesis/Data.nosync/Models/e4e/00005_snapshot_1200/inversions/latents_dict.pt\")\n",
    "type(latents)"
   ]
  },
  {
   "cell_type": "code",
   "execution_count": 34,
   "metadata": {},
   "outputs": [
    {
     "ename": "UnboundLocalError",
     "evalue": "local variable 'embeddings' referenced before assignment",
     "output_type": "error",
     "traceback": [
      "\u001b[0;31m---------------------------------------------------------------------------\u001b[0m",
      "\u001b[0;31mUnboundLocalError\u001b[0m                         Traceback (most recent call last)",
      "\u001b[1;32m/pfs/work7/workspace/scratch/tu_zxmav84-thesis/Thesis/4_Assessor/Dino/1_Calculate_Embeddings.ipynb Cell 8\u001b[0m line \u001b[0;36m1\n\u001b[0;32m----> <a href='vscode-notebook-cell://127.0.0.1:4948/pfs/work7/workspace/scratch/tu_zxmav84-thesis/Thesis/4_Assessor/Dino/1_Calculate_Embeddings.ipynb#X10sdnNjb2RlLXJlbW90ZQ%3D%3D?line=0'>1</a>\u001b[0m calculate_embeddings(latents, \u001b[39m'\u001b[39;49m\u001b[39mt.pkl\u001b[39;49m\u001b[39m'\u001b[39;49m, G)\n",
      "\u001b[1;32m/pfs/work7/workspace/scratch/tu_zxmav84-thesis/Thesis/4_Assessor/Dino/1_Calculate_Embeddings.ipynb Cell 8\u001b[0m line \u001b[0;36m2\n\u001b[1;32m     <a href='vscode-notebook-cell://127.0.0.1:4948/pfs/work7/workspace/scratch/tu_zxmav84-thesis/Thesis/4_Assessor/Dino/1_Calculate_Embeddings.ipynb#X10sdnNjb2RlLXJlbW90ZQ%3D%3D?line=21'>22</a>\u001b[0m     \u001b[39mraise\u001b[39;00m \u001b[39mValueError\u001b[39;00m(\u001b[39mf\u001b[39m\u001b[39m\"\u001b[39m\u001b[39mInput must be either a path (str) to an image directory or dict with latents\u001b[39m\u001b[39m\"\u001b[39m)\n\u001b[1;32m     <a href='vscode-notebook-cell://127.0.0.1:4948/pfs/work7/workspace/scratch/tu_zxmav84-thesis/Thesis/4_Assessor/Dino/1_Calculate_Embeddings.ipynb#X10sdnNjb2RlLXJlbW90ZQ%3D%3D?line=24'>25</a>\u001b[0m \u001b[39m# Save embeddings\u001b[39;00m\n\u001b[0;32m---> <a href='vscode-notebook-cell://127.0.0.1:4948/pfs/work7/workspace/scratch/tu_zxmav84-thesis/Thesis/4_Assessor/Dino/1_Calculate_Embeddings.ipynb#X10sdnNjb2RlLXJlbW90ZQ%3D%3D?line=25'>26</a>\u001b[0m torch\u001b[39m.\u001b[39msave(embeddings, save_path)\n",
      "\u001b[0;31mUnboundLocalError\u001b[0m: local variable 'embeddings' referenced before assignment"
     ]
    }
   ],
   "source": [
    "calculate_embeddings(latents, 't.pkl', G)"
   ]
  },
  {
   "cell_type": "markdown",
   "metadata": {},
   "source": [
    "### Dino Custom Processor and Model"
   ]
  },
  {
   "cell_type": "code",
   "execution_count": 4,
   "metadata": {},
   "outputs": [],
   "source": [
    "dino_model = setup_dino_model(device)"
   ]
  },
  {
   "cell_type": "markdown",
   "metadata": {},
   "source": [
    "### Calculate all embeddings:"
   ]
  },
  {
   "cell_type": "code",
   "execution_count": 5,
   "metadata": {},
   "outputs": [
    {
     "name": "stdout",
     "output_type": "stream",
     "text": [
      "Embeddings for /pfs/work7/workspace/scratch/tu_zxmav84-thesis/Data.nosync/Zalando_Germany_Dataset/dresses/images/e4e_images/all/ already calculated\n",
      "Embeddings for /pfs/work7/workspace/scratch/tu_zxmav84-thesis/Data.nosync/Generated_Images/e4e/00003_snapshot_920/ already calculated\n",
      "Embeddings for /pfs/work7/workspace/scratch/tu_zxmav84-thesis/Data.nosync/Generated_Images/e4e/00005_snapshot_1200/ already calculated\n",
      "Embeddings for /pfs/work7/workspace/scratch/tu_zxmav84-thesis/Data.nosync/Generated_Images/PTI/ already calculated\n",
      "Embeddings for /pfs/work7/workspace/scratch/tu_zxmav84-thesis/Data.nosync/Generated_Images/restyle/inference_results/4/ already calculated\n"
     ]
    }
   ],
   "source": [
    "# Real Images\n",
    "input_images_path = f\"{DATA_PATH}/Zalando_Germany_Dataset/dresses/images/e4e_images/all/\"\n",
    "save_path = f\"{DATA_PATH}/Models/Assessor/DinoV2/Embeddings/real_images_embeddings.pt\"\n",
    "calculate_embeddings(input_images_path, save_path)\n",
    "\n",
    "# e4e 00003\n",
    "input_images_path = f\"{DATA_PATH}/Generated_Images/e4e/00003_snapshot_920/\"\n",
    "save_path = f\"{DATA_PATH}/Models/Assessor/DinoV2/Embeddings/e4e_00003_snapshot_920.pt\"\n",
    "calculate_embeddings(input_images_path, save_path)\n",
    "\n",
    "# e4e 00005\n",
    "input_images_path = f\"{DATA_PATH}/Generated_Images/e4e/00005_snapshot_1200/\"\n",
    "save_path = f\"{DATA_PATH}/Models/Assessor/DinoV2/Embeddings/e4e_00005_snapshot_1200.pt\"\n",
    "calculate_embeddings(input_images_path, save_path)\n",
    "\n",
    "# PTI\n",
    "input_images_path = f\"{DATA_PATH}/Generated_Images/PTI/\"\n",
    "save_path = f\"{DATA_PATH}/Models/Assessor/DinoV2/Embeddings/PTI.pt\"\n",
    "calculate_embeddings(input_images_path, save_path)\n",
    "\n",
    "\n",
    "# Restyle\n",
    "input_images_path = f\"{DATA_PATH}/Generated_Images/restyle/inference_results/4/\"\n",
    "save_path = f\"{DATA_PATH}/Models/Assessor/DinoV2/Embeddings/restyle.pt\"\n",
    "calculate_embeddings(input_images_path, save_path)"
   ]
  }
 ],
 "metadata": {
  "kernelspec": {
   "display_name": "Python 3",
   "language": "python",
   "name": "python3"
  },
  "language_info": {
   "codemirror_mode": {
    "name": "ipython",
    "version": 3
   },
   "file_extension": ".py",
   "mimetype": "text/x-python",
   "name": "python",
   "nbconvert_exporter": "python",
   "pygments_lexer": "ipython3",
   "version": "3.9.18"
  }
 },
 "nbformat": 4,
 "nbformat_minor": 2
}
