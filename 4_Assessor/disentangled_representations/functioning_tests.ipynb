{
 "cells": [
  {
   "cell_type": "code",
   "execution_count": 1,
   "metadata": {},
   "outputs": [],
   "source": [
    "import platform\n",
    "import os\n",
    "if platform.system() == 'Darwin':\n",
    "    DATA_PATH = \"/Users/maltegenschow/Documents/Uni/Thesis/Data.nosync\"\n",
    "    ROOT_PATH = \"/Users/maltegenschow/Documents/Uni/Thesis/Thesis\"\n",
    "elif platform.system() == 'Linux':\n",
    "    DATA_PATH = \"/pfs/work7/workspace/scratch/tu_zxmav84-thesis/Data.nosync\"\n",
    "    ROOT_PATH = \"/pfs/work7/workspace/scratch/tu_zxmav84-thesis/Thesis\"\n",
    "\n",
    "current_wd = os.getcwd()"
   ]
  },
  {
   "cell_type": "code",
   "execution_count": 2,
   "metadata": {},
   "outputs": [],
   "source": [
    "from pipeline import train_and_validate"
   ]
  },
  {
   "cell_type": "code",
   "execution_count": 3,
   "metadata": {},
   "outputs": [
    {
     "name": "stdout",
     "output_type": "stream",
     "text": [
      "\n",
      "LOG: Using cuda device.\n",
      "\n",
      "LOG: Loaded data.\n",
      "\n",
      "Creating new model with ID: 0\n",
      "The TaskBranches model has 680,034 trainable parameters.\n",
      "\n",
      "Model architecture:\n",
      "TaskBranches(\n",
      "  (activation): ReLU()\n",
      "  (common_fc0): Linear(in_features=384, out_features=256, bias=True)\n",
      "  (common_fc1): Linear(in_features=256, out_features=256, bias=True)\n",
      "  (branch_0_fc0): Linear(in_features=256, out_features=128, bias=True)\n",
      "  (branch_0_fc1): Linear(in_features=128, out_features=128, bias=True)\n",
      "  (branch_0_fc2): Linear(in_features=128, out_features=32, bias=True)\n",
      "  (branch_0_task_0_out): Linear(in_features=32, out_features=14, bias=True)\n",
      "  (branch_0_task_1_out): Linear(in_features=32, out_features=18, bias=True)\n",
      "  (branch_0_task_2_out): Linear(in_features=32, out_features=8, bias=True)\n",
      "  (branch_0_task_3_out): Linear(in_features=32, out_features=13, bias=True)\n",
      "  (branch_0_task_4_out): Linear(in_features=32, out_features=16, bias=True)\n",
      "  (branch_0_task_5_out): Linear(in_features=32, out_features=17, bias=True)\n",
      "  (branch_0_task_6_out): Linear(in_features=32, out_features=9, bias=True)\n",
      "  (branch_0_task_7_out): Linear(in_features=32, out_features=7, bias=True)\n",
      "  (branch_0_task_8_out): Linear(in_features=32, out_features=12, bias=True)\n",
      "  (branch_1_fc0): Linear(in_features=256, out_features=128, bias=True)\n",
      "  (branch_1_fc1): Linear(in_features=128, out_features=128, bias=True)\n",
      "  (branch_1_fc2): Linear(in_features=128, out_features=32, bias=True)\n",
      "  (branch_1_task_0_out): Linear(in_features=32, out_features=14, bias=True)\n",
      "  (branch_1_task_1_out): Linear(in_features=32, out_features=18, bias=True)\n",
      "  (branch_1_task_2_out): Linear(in_features=32, out_features=8, bias=True)\n",
      "  (branch_1_task_3_out): Linear(in_features=32, out_features=13, bias=True)\n",
      "  (branch_1_task_4_out): Linear(in_features=32, out_features=16, bias=True)\n",
      "  (branch_1_task_5_out): Linear(in_features=32, out_features=17, bias=True)\n",
      "  (branch_1_task_6_out): Linear(in_features=32, out_features=9, bias=True)\n",
      "  (branch_1_task_7_out): Linear(in_features=32, out_features=7, bias=True)\n",
      "  (branch_1_task_8_out): Linear(in_features=32, out_features=12, bias=True)\n",
      "  (branch_2_fc0): Linear(in_features=256, out_features=128, bias=True)\n",
      "  (branch_2_fc1): Linear(in_features=128, out_features=128, bias=True)\n",
      "  (branch_2_fc2): Linear(in_features=128, out_features=32, bias=True)\n",
      "  (branch_2_task_0_out): Linear(in_features=32, out_features=14, bias=True)\n",
      "  (branch_2_task_1_out): Linear(in_features=32, out_features=18, bias=True)\n",
      "  (branch_2_task_2_out): Linear(in_features=32, out_features=8, bias=True)\n",
      "  (branch_2_task_3_out): Linear(in_features=32, out_features=13, bias=True)\n",
      "  (branch_2_task_4_out): Linear(in_features=32, out_features=16, bias=True)\n",
      "  (branch_2_task_5_out): Linear(in_features=32, out_features=17, bias=True)\n",
      "  (branch_2_task_6_out): Linear(in_features=32, out_features=9, bias=True)\n",
      "  (branch_2_task_7_out): Linear(in_features=32, out_features=7, bias=True)\n",
      "  (branch_2_task_8_out): Linear(in_features=32, out_features=12, bias=True)\n",
      "  (branch_3_fc0): Linear(in_features=256, out_features=128, bias=True)\n",
      "  (branch_3_fc1): Linear(in_features=128, out_features=128, bias=True)\n",
      "  (branch_3_fc2): Linear(in_features=128, out_features=32, bias=True)\n",
      "  (branch_3_task_0_out): Linear(in_features=32, out_features=14, bias=True)\n",
      "  (branch_3_task_1_out): Linear(in_features=32, out_features=18, bias=True)\n",
      "  (branch_3_task_2_out): Linear(in_features=32, out_features=8, bias=True)\n",
      "  (branch_3_task_3_out): Linear(in_features=32, out_features=13, bias=True)\n",
      "  (branch_3_task_4_out): Linear(in_features=32, out_features=16, bias=True)\n",
      "  (branch_3_task_5_out): Linear(in_features=32, out_features=17, bias=True)\n",
      "  (branch_3_task_6_out): Linear(in_features=32, out_features=9, bias=True)\n",
      "  (branch_3_task_7_out): Linear(in_features=32, out_features=7, bias=True)\n",
      "  (branch_3_task_8_out): Linear(in_features=32, out_features=12, bias=True)\n",
      "  (branch_4_fc0): Linear(in_features=256, out_features=128, bias=True)\n",
      "  (branch_4_fc1): Linear(in_features=128, out_features=128, bias=True)\n",
      "  (branch_4_fc2): Linear(in_features=128, out_features=32, bias=True)\n",
      "  (branch_4_task_0_out): Linear(in_features=32, out_features=14, bias=True)\n",
      "  (branch_4_task_1_out): Linear(in_features=32, out_features=18, bias=True)\n",
      "  (branch_4_task_2_out): Linear(in_features=32, out_features=8, bias=True)\n",
      "  (branch_4_task_3_out): Linear(in_features=32, out_features=13, bias=True)\n",
      "  (branch_4_task_4_out): Linear(in_features=32, out_features=16, bias=True)\n",
      "  (branch_4_task_5_out): Linear(in_features=32, out_features=17, bias=True)\n",
      "  (branch_4_task_6_out): Linear(in_features=32, out_features=9, bias=True)\n",
      "  (branch_4_task_7_out): Linear(in_features=32, out_features=7, bias=True)\n",
      "  (branch_4_task_8_out): Linear(in_features=32, out_features=12, bias=True)\n",
      "  (branch_5_fc0): Linear(in_features=256, out_features=128, bias=True)\n",
      "  (branch_5_fc1): Linear(in_features=128, out_features=128, bias=True)\n",
      "  (branch_5_fc2): Linear(in_features=128, out_features=32, bias=True)\n",
      "  (branch_5_task_0_out): Linear(in_features=32, out_features=14, bias=True)\n",
      "  (branch_5_task_1_out): Linear(in_features=32, out_features=18, bias=True)\n",
      "  (branch_5_task_2_out): Linear(in_features=32, out_features=8, bias=True)\n",
      "  (branch_5_task_3_out): Linear(in_features=32, out_features=13, bias=True)\n",
      "  (branch_5_task_4_out): Linear(in_features=32, out_features=16, bias=True)\n",
      "  (branch_5_task_5_out): Linear(in_features=32, out_features=17, bias=True)\n",
      "  (branch_5_task_6_out): Linear(in_features=32, out_features=9, bias=True)\n",
      "  (branch_5_task_7_out): Linear(in_features=32, out_features=7, bias=True)\n",
      "  (branch_5_task_8_out): Linear(in_features=32, out_features=12, bias=True)\n",
      "  (branch_6_fc0): Linear(in_features=256, out_features=128, bias=True)\n",
      "  (branch_6_fc1): Linear(in_features=128, out_features=128, bias=True)\n",
      "  (branch_6_fc2): Linear(in_features=128, out_features=32, bias=True)\n",
      "  (branch_6_task_0_out): Linear(in_features=32, out_features=14, bias=True)\n",
      "  (branch_6_task_1_out): Linear(in_features=32, out_features=18, bias=True)\n",
      "  (branch_6_task_2_out): Linear(in_features=32, out_features=8, bias=True)\n",
      "  (branch_6_task_3_out): Linear(in_features=32, out_features=13, bias=True)\n",
      "  (branch_6_task_4_out): Linear(in_features=32, out_features=16, bias=True)\n",
      "  (branch_6_task_5_out): Linear(in_features=32, out_features=17, bias=True)\n",
      "  (branch_6_task_6_out): Linear(in_features=32, out_features=9, bias=True)\n",
      "  (branch_6_task_7_out): Linear(in_features=32, out_features=7, bias=True)\n",
      "  (branch_6_task_8_out): Linear(in_features=32, out_features=12, bias=True)\n",
      "  (branch_7_fc0): Linear(in_features=256, out_features=128, bias=True)\n",
      "  (branch_7_fc1): Linear(in_features=128, out_features=128, bias=True)\n",
      "  (branch_7_fc2): Linear(in_features=128, out_features=32, bias=True)\n",
      "  (branch_7_task_0_out): Linear(in_features=32, out_features=14, bias=True)\n",
      "  (branch_7_task_1_out): Linear(in_features=32, out_features=18, bias=True)\n",
      "  (branch_7_task_2_out): Linear(in_features=32, out_features=8, bias=True)\n",
      "  (branch_7_task_3_out): Linear(in_features=32, out_features=13, bias=True)\n",
      "  (branch_7_task_4_out): Linear(in_features=32, out_features=16, bias=True)\n",
      "  (branch_7_task_5_out): Linear(in_features=32, out_features=17, bias=True)\n",
      "  (branch_7_task_6_out): Linear(in_features=32, out_features=9, bias=True)\n",
      "  (branch_7_task_7_out): Linear(in_features=32, out_features=7, bias=True)\n",
      "  (branch_7_task_8_out): Linear(in_features=32, out_features=12, bias=True)\n",
      "  (branch_8_fc0): Linear(in_features=256, out_features=128, bias=True)\n",
      "  (branch_8_fc1): Linear(in_features=128, out_features=128, bias=True)\n",
      "  (branch_8_fc2): Linear(in_features=128, out_features=32, bias=True)\n",
      "  (branch_8_task_0_out): Linear(in_features=32, out_features=14, bias=True)\n",
      "  (branch_8_task_1_out): Linear(in_features=32, out_features=18, bias=True)\n",
      "  (branch_8_task_2_out): Linear(in_features=32, out_features=8, bias=True)\n",
      "  (branch_8_task_3_out): Linear(in_features=32, out_features=13, bias=True)\n",
      "  (branch_8_task_4_out): Linear(in_features=32, out_features=16, bias=True)\n",
      "  (branch_8_task_5_out): Linear(in_features=32, out_features=17, bias=True)\n",
      "  (branch_8_task_6_out): Linear(in_features=32, out_features=9, bias=True)\n",
      "  (branch_8_task_7_out): Linear(in_features=32, out_features=7, bias=True)\n",
      "  (branch_8_task_8_out): Linear(in_features=32, out_features=12, bias=True)\n",
      ")\n",
      "\n"
     ]
    },
    {
     "name": "stderr",
     "output_type": "stream",
     "text": [
      "Epochs:  32%|███▏      | 32/100 [02:19<04:57,  4.37s/it]\n"
     ]
    },
    {
     "name": "stdout",
     "output_type": "stream",
     "text": [
      "\n",
      "Stopping after 32 epochs.\n",
      "\n",
      "\n",
      "Best model (by loss on validation set):\n",
      "\tAccuracy=0.5704, Loss=0.8795, after 23 epochs (97.82s)\n",
      "Best model (by accuracy on validation set):\n",
      "\tAccuracy=0.5704, Loss=0.8795, after 23 epochs (97.82s)\n",
      "\n",
      "LOG: Trained model.\n",
      "\n",
      "\n",
      "Validation model using features from task 0 and targets from task 0\n"
     ]
    },
    {
     "name": "stderr",
     "output_type": "stream",
     "text": [
      "                                                          \r"
     ]
    },
    {
     "name": "stdout",
     "output_type": "stream",
     "text": [
      "\n",
      "Stopping after 134 epochs.\n",
      "Best model (by loss on validation set):\n",
      "\tf1=0.4814, Loss=0.0065, after 35 epochs (7.38s)\n",
      "Best model (by f1 on validation set):\n",
      "\tf1=0.4931, Loss=0.0066, after 51 epochs (10.82s)\n",
      "\n",
      "Validation model using features from task 0 and targets from task 1\n"
     ]
    },
    {
     "name": "stderr",
     "output_type": "stream",
     "text": [
      "                                                          \r"
     ]
    },
    {
     "name": "stdout",
     "output_type": "stream",
     "text": [
      "\n",
      "Stopping after 150 epochs.\n",
      "Best model (by loss on validation set):\n",
      "\tf1=0.0684, Loss=0.0106, after 51 epochs (10.61s)\n",
      "Best model (by f1 on validation set):\n",
      "\tf1=0.08, Loss=0.011, after 138 epochs (29.33s)\n",
      "\n",
      "Validation model using features from task 0 and targets from task 2\n"
     ]
    },
    {
     "name": "stderr",
     "output_type": "stream",
     "text": [
      "                                                          \r"
     ]
    },
    {
     "name": "stdout",
     "output_type": "stream",
     "text": [
      "\n",
      "Stopping after 206 epochs.\n",
      "Best model (by loss on validation set):\n",
      "\tf1=0.1532, Loss=0.0053, after 107 epochs (22.99s)\n",
      "Best model (by f1 on validation set):\n",
      "\tf1=0.1611, Loss=0.0061, after 205 epochs (43.47s)\n",
      "\n",
      "Validation model using features from task 0 and targets from task 3\n"
     ]
    },
    {
     "name": "stderr",
     "output_type": "stream",
     "text": [
      "                                                          \r"
     ]
    },
    {
     "name": "stdout",
     "output_type": "stream",
     "text": [
      "\n",
      "Stopping after 186 epochs.\n",
      "Best model (by loss on validation set):\n",
      "\tf1=0.1019, Loss=0.013, after 87 epochs (18.88s)\n",
      "Best model (by f1 on validation set):\n",
      "\tf1=0.1239, Loss=0.0134, after 181 epochs (38.13s)\n",
      "\n",
      "Validation model using features from task 0 and targets from task 4\n"
     ]
    },
    {
     "name": "stderr",
     "output_type": "stream",
     "text": [
      "                                                          \r"
     ]
    },
    {
     "name": "stdout",
     "output_type": "stream",
     "text": [
      "\n",
      "Stopping after 150 epochs.\n",
      "Best model (by loss on validation set):\n",
      "\tf1=0.1131, Loss=0.011, after 51 epochs (10.98s)\n",
      "Best model (by f1 on validation set):\n",
      "\tf1=0.1207, Loss=0.0117, after 134 epochs (28.44s)\n",
      "\n",
      "Validation model using features from task 0 and targets from task 5\n"
     ]
    },
    {
     "name": "stderr",
     "output_type": "stream",
     "text": [
      "                                                          \r"
     ]
    },
    {
     "name": "stdout",
     "output_type": "stream",
     "text": [
      "\n",
      "Stopping after 155 epochs.\n",
      "Best model (by loss on validation set):\n",
      "\tf1=0.0681, Loss=0.0036, after 56 epochs (11.9s)\n",
      "Best model (by f1 on validation set):\n",
      "\tf1=0.0759, Loss=0.0037, after 92 epochs (19.28s)\n",
      "\n",
      "Validation model using features from task 0 and targets from task 6\n"
     ]
    },
    {
     "name": "stderr",
     "output_type": "stream",
     "text": [
      "                                                          \r"
     ]
    },
    {
     "name": "stdout",
     "output_type": "stream",
     "text": [
      "\n",
      "Stopping after 195 epochs.\n",
      "Best model (by loss on validation set):\n",
      "\tf1=0.1698, Loss=0.0074, after 96 epochs (20.14s)\n",
      "Best model (by f1 on validation set):\n",
      "\tf1=0.1792, Loss=0.0076, after 138 epochs (28.29s)\n",
      "\n",
      "Validation model using features from task 0 and targets from task 7\n"
     ]
    },
    {
     "name": "stderr",
     "output_type": "stream",
     "text": [
      "                                                          \r"
     ]
    },
    {
     "name": "stdout",
     "output_type": "stream",
     "text": [
      "\n",
      "Stopping after 214 epochs.\n",
      "Best model (by loss on validation set):\n",
      "\tf1=0.2542, Loss=0.0077, after 115 epochs (22.03s)\n",
      "Best model (by f1 on validation set):\n",
      "\tf1=0.2625, Loss=0.0079, after 148 epochs (28.34s)\n",
      "\n",
      "Validation model using features from task 0 and targets from task 8\n"
     ]
    },
    {
     "name": "stderr",
     "output_type": "stream",
     "text": [
      "                                                          \r"
     ]
    },
    {
     "name": "stdout",
     "output_type": "stream",
     "text": [
      "\n",
      "Stopping after 302 epochs.\n",
      "Best model (by loss on validation set):\n",
      "\tf1=0.2691, Loss=0.0078, after 203 epochs (38.46s)\n",
      "Best model (by f1 on validation set):\n",
      "\tf1=0.2821, Loss=0.0081, after 263 epochs (49.87s)\n",
      "\n",
      "Validation model using features from task 1 and targets from task 0\n"
     ]
    },
    {
     "name": "stderr",
     "output_type": "stream",
     "text": [
      "                                                          \r"
     ]
    },
    {
     "name": "stdout",
     "output_type": "stream",
     "text": [
      "\n",
      "Stopping after 174 epochs.\n",
      "Best model (by loss on validation set):\n",
      "\tf1=0.326, Loss=0.0099, after 75 epochs (14.35s)\n",
      "Best model (by f1 on validation set):\n",
      "\tf1=0.343, Loss=0.0102, after 147 epochs (27.88s)\n",
      "\n",
      "Validation model using features from task 1 and targets from task 1\n"
     ]
    },
    {
     "name": "stderr",
     "output_type": "stream",
     "text": [
      "                                                          \r"
     ]
    },
    {
     "name": "stdout",
     "output_type": "stream",
     "text": [
      "\n",
      "Stopping after 135 epochs.\n",
      "Best model (by loss on validation set):\n",
      "\tf1=0.1115, Loss=0.0094, after 36 epochs (6.83s)\n",
      "Best model (by f1 on validation set):\n",
      "\tf1=0.1182, Loss=0.0103, after 111 epochs (21.04s)\n",
      "\n",
      "Validation model using features from task 1 and targets from task 2\n"
     ]
    },
    {
     "name": "stderr",
     "output_type": "stream",
     "text": [
      "                                                          \r"
     ]
    },
    {
     "name": "stdout",
     "output_type": "stream",
     "text": [
      "\n",
      "Stopping after 140 epochs.\n",
      "Best model (by loss on validation set):\n",
      "\tf1=0.1807, Loss=0.0049, after 41 epochs (7.75s)\n",
      "Best model (by f1 on validation set):\n",
      "\tf1=0.1862, Loss=0.005, after 36 epochs (6.82s)\n",
      "\n",
      "Validation model using features from task 1 and targets from task 3\n"
     ]
    },
    {
     "name": "stderr",
     "output_type": "stream",
     "text": [
      "                                                          \r"
     ]
    },
    {
     "name": "stdout",
     "output_type": "stream",
     "text": [
      "\n",
      "Stopping after 166 epochs.\n",
      "Best model (by loss on validation set):\n",
      "\tf1=0.1437, Loss=0.0116, after 67 epochs (12.6s)\n",
      "Best model (by f1 on validation set):\n",
      "\tf1=0.1625, Loss=0.0125, after 149 epochs (28.01s)\n",
      "\n",
      "Validation model using features from task 1 and targets from task 4\n"
     ]
    },
    {
     "name": "stderr",
     "output_type": "stream",
     "text": [
      "Epochs:   8%|▊         | 76/1000 [00:14<02:54,  5.29it/s]"
     ]
    }
   ],
   "source": [
    "train_and_validate(\n",
    "    dataset_name = 'zalando_germany'\n",
    ")"
   ]
  }
 ],
 "metadata": {
  "kernelspec": {
   "display_name": "Python 3",
   "language": "python",
   "name": "python3"
  },
  "language_info": {
   "codemirror_mode": {
    "name": "ipython",
    "version": 3
   },
   "file_extension": ".py",
   "mimetype": "text/x-python",
   "name": "python",
   "nbconvert_exporter": "python",
   "pygments_lexer": "ipython3",
   "version": "3.9.18"
  }
 },
 "nbformat": 4,
 "nbformat_minor": 2
}
