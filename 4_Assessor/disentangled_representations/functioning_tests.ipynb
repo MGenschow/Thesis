{
 "cells": [
  {
   "cell_type": "code",
   "execution_count": null,
   "metadata": {},
   "outputs": [],
   "source": [
    "import platform\n",
    "import os\n",
    "if platform.system() == 'Darwin':\n",
    "    DATA_PATH = \"/Users/maltegenschow/Documents/Uni/Thesis/Data.nosync\"\n",
    "    ROOT_PATH = \"/Users/maltegenschow/Documents/Uni/Thesis/Thesis\"\n",
    "elif platform.system() == 'Linux':\n",
    "    DATA_PATH = \"/pfs/work7/workspace/scratch/tu_zxmav84-thesis/Data.nosync\"\n",
    "    ROOT_PATH = \"/pfs/work7/workspace/scratch/tu_zxmav84-thesis/Thesis\"\n",
    "\n",
    "current_wd = os.getcwd()"
   ]
  },
  {
   "cell_type": "markdown",
   "metadata": {},
   "source": [
    "## 1. Prepare Base DinoV2 Embeddings"
   ]
  },
  {
   "cell_type": "code",
   "execution_count": null,
   "metadata": {},
   "outputs": [],
   "source": [
    "from get_image_embeddings import compute_embeddings\n",
    "\n",
    "models = ['vits14', 'vitb14']\n",
    "samples = ['train', 'val']\n",
    "\n",
    "for model in models:\n",
    "    for sample in samples:\n",
    "        compute_embeddings(\n",
    "            dataset_name='zalando_germany',\n",
    "            model_name=model,\n",
    "            sample=sample)    \n"
   ]
  },
  {
   "cell_type": "markdown",
   "metadata": {},
   "source": [
    "## 2. Train Models without dCor and with Best dCor Parameters \n",
    "\n",
    "- Parameters found in [this file](https://github.com/aseembehl/disentangling-aesthetic/blob/dev_attribute_driven_rep/figures/figures.ipynb) in the original repo"
   ]
  },
  {
   "cell_type": "code",
   "execution_count": null,
   "metadata": {},
   "outputs": [],
   "source": [
    "from pipeline import train_and_validate\n",
    "# train_and_validate(\n",
    "#     dataset_name = 'zalando_germany',\n",
    "#     batch_size= 256,\n",
    "#     dcor_loss_factor=0,\n",
    "#     embeddings_name='vits14',\n",
    "#     grl_weight=None,\n",
    "#     hidden_dims_branches=[128, 128, 32],\n",
    "#     hidden_dims_common=[256, 256],\n",
    "#     lr=0.001,\n",
    "#     max_epochs=100,\n",
    "#     prediction_loss_factor=1,\n",
    "#     seed=4243\n",
    "# )"
   ]
  },
  {
   "cell_type": "code",
   "execution_count": null,
   "metadata": {},
   "outputs": [],
   "source": [
    "train_and_validate(\n",
    "    dataset_name = 'zalando_germany',\n",
    "    batch_size= 256,\n",
    "    dcor_loss_factor=9.670528789445637,\n",
    "    embeddings_name='vitb14',\n",
    "    grl_weight=None,\n",
    "    hidden_dims_branches=[256, 256, 256],\n",
    "    hidden_dims_common=[256, 256],\n",
    "    lr=0.001,\n",
    "    max_epochs=100,\n",
    "    prediction_loss_factor=1,\n",
    "    seed=33\n",
    ")"
   ]
  },
  {
   "cell_type": "markdown",
   "metadata": {},
   "source": [
    "## 3. Infer Disentangled Representations for all e4e Reconstructions"
   ]
  },
  {
   "cell_type": "code",
   "execution_count": null,
   "metadata": {},
   "outputs": [],
   "source": [
    "from infer import infer\n",
    "\n",
    "model_id = 0\n",
    "infer(\n",
    "        checkpoint=f'{DATA_PATH}/Models/disentangled_representations/models/{model_id}-model-best_valid_loss.pt',\n",
    "        img_dir=f'{DATA_PATH}/Zalando_Germany_Dataset/dresses/images/square_images/',\n",
    "        save_dir=f'{DATA_PATH}/Models/disentangled_representations/inference/{model_id}',\n",
    "        batch_size=64,\n",
    "        verbose=True,\n",
    "        N=None\n",
    "    )"
   ]
  }
 ],
 "metadata": {
  "kernelspec": {
   "display_name": "Python 3",
   "language": "python",
   "name": "python3"
  },
  "language_info": {
   "codemirror_mode": {
    "name": "ipython",
    "version": 3
   },
   "file_extension": ".py",
   "mimetype": "text/x-python",
   "name": "python",
   "nbconvert_exporter": "python",
   "pygments_lexer": "ipython3",
   "version": "3.9.18"
  }
 },
 "nbformat": 4,
 "nbformat_minor": 2
}
