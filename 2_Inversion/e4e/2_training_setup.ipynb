{
 "cells": [
  {
   "cell_type": "markdown",
   "metadata": {},
   "source": [
    "### Configurations: \n",
    "\n",
    "To run a successfull training one needs to prepare multiple things:\n",
    "\n",
    "1. Create a custom training and test set using `e4e_dataset_preparation.ipynb`\n",
    "2. Convert the trained StyleGAN2-Ada weight from the official NVIDIA implementation to StyleGAN2 weights compatible with rosinality's implementations\n",
    "3. Load all the necessary auxiliary models into the `Models/e4e/pretrained/` directory in the Data folder\n",
    "4. Adapt all the paths in `configs/paths_config.py` and `configs/data_configs.py` to the custom training data and the model paths"
   ]
  },
  {
   "cell_type": "code",
   "execution_count": null,
   "metadata": {},
   "outputs": [],
   "source": [
    "import os\n",
    "import pickle"
   ]
  },
  {
   "cell_type": "code",
   "execution_count": null,
   "metadata": {},
   "outputs": [],
   "source": [
    "os.chdir(\"../../encoder4editing/\")"
   ]
  },
  {
   "cell_type": "code",
   "execution_count": null,
   "metadata": {},
   "outputs": [],
   "source": [
    "import numpy as np\n",
    "\n",
    "model_path = \"/pfs/work7/workspace/scratch/tu_zxmav84-thesis/Data.nosync/Models/e4e/pretrained/00005-stylegan2_ada_images-mirror-auto2-kimg5000-resumeffhq512_network-snapshot-001200.pt\"\n",
    "CMD =f\"\"\"\n",
    "    python scripts/train.py \\\n",
    "    --exp_dir=/pfs/work7/workspace/scratch/tu_zxmav84-thesis/Data.nosync/Models/e4e/resume/ \\\n",
    "    --sub_exp_dir=resume \\\n",
    "    --dataset_type zalando_germany_encode \\\n",
    "    --workers 8 \\\n",
    "    --batch_size 8 \\\n",
    "    --test_batch_size 4 \\\n",
    "    --test_workers 4 \\\n",
    "    --stylegan_weights {model_path} \\\n",
    "    --stylegan_size 512 \\\n",
    "    --learning_rate=0.001 \\\n",
    "    --start_from_latent_avg \\\n",
    "    --use_w_pool \\\n",
    "    --w_discriminator_lambda 0.1 \\\n",
    "    --progressive_start 20000 \\\n",
    "    --id_lambda 0.5 \\\n",
    "    --max_steps 200000 \\\n",
    "    --save_interval 2000 \\\n",
    "    --val_interval 2000 \\\n",
    "    --image_interval 500 \\\n",
    "    --save_training_data \\\n",
    "    --resume_training_from_ckpt=/pfs/work7/workspace/scratch/tu_zxmav84-thesis/Data.nosync/Models/e4e/00005_snapshot_1200/checkpoints/iteration_54000.pt\n",
    "\"\"\"\n",
    "!{CMD}"
   ]
  },
  {
   "cell_type": "code",
   "execution_count": null,
   "metadata": {},
   "outputs": [],
   "source": []
  }
 ],
 "metadata": {
  "kernelspec": {
   "display_name": "Python 3",
   "language": "python",
   "name": "python3"
  },
  "language_info": {
   "codemirror_mode": {
    "name": "ipython",
    "version": 3
   },
   "file_extension": ".py",
   "mimetype": "text/x-python",
   "name": "python",
   "nbconvert_exporter": "python",
   "pygments_lexer": "ipython3",
   "version": "3.7.12"
  }
 },
 "nbformat": 4,
 "nbformat_minor": 2
}
