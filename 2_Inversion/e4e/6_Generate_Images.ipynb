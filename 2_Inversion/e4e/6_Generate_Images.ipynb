{
 "cells": [
  {
   "cell_type": "code",
   "execution_count": 1,
   "metadata": {},
   "outputs": [],
   "source": [
    "import pickle\n",
    "import torch\n",
    "import numpy as np\n",
    "import pandas as pd\n",
    "import os \n",
    "import matplotlib.pyplot as plt\n",
    "from ipywidgets import interact, IntSlider\n",
    "from PIL import Image\n",
    "import json\n",
    "from tqdm import tqdm\n",
    "\n",
    "DATA_PATH = \"../../../Data.nosync/\"\n",
    "save_path = f\"{DATA_PATH}/Models/e4e/experiments_default_lr/inversions/\" "
   ]
  },
  {
   "cell_type": "markdown",
   "metadata": {},
   "source": [
    "## Setup"
   ]
  },
  {
   "cell_type": "code",
   "execution_count": 2,
   "metadata": {},
   "outputs": [],
   "source": [
    "# Load in metadata\n",
    "metadata = json.load(open(f\"{DATA_PATH}Zalando_Germany_Dataset/dresses/metadata/dresses_metadata.json\", 'r'))\n",
    "metadata_df = pd.read_json(f\"{DATA_PATH}Zalando_Germany_Dataset/dresses/metadata/dresses_metadata.json\").T.reset_index().rename(columns={'index':'id'})"
   ]
  },
  {
   "cell_type": "code",
   "execution_count": 3,
   "metadata": {},
   "outputs": [],
   "source": [
    "# Load in latents and file paths \n",
    "latents = torch.load(f\"{save_path}latents.pt\")\n",
    "with open(f\"{save_path}file_paths.pkl\", 'rb') as f:\n",
    "    file_paths = pickle.load(f)\n",
    "\n",
    "latents_dict = {}\n",
    "for i, file in enumerate(file_paths):\n",
    "    sku = file.split('/')[-1].split('_')[-1].split('.')[0]\n",
    "    latents_dict[sku] = latents[i]"
   ]
  },
  {
   "cell_type": "code",
   "execution_count": 4,
   "metadata": {},
   "outputs": [
    {
     "name": "stdout",
     "output_type": "stream",
     "text": [
      "Device: mps\n"
     ]
    }
   ],
   "source": [
    "# Initalize original custom SG2-Ada generator\n",
    "os.chdir(\"../../stylegan2-ada-pytorch/\")\n",
    "\n",
    "if torch.cuda.is_available():\n",
    "    device = 'cuda'\n",
    "elif torch.backends.mps.is_available():\n",
    "    device = 'mps'\n",
    "else:\n",
    "    device = 'cpu'\n",
    "print(f\"Device: {device}\")\n",
    "model_path = f\"../../Data.nosync/Models/Stylegan2_Ada/Experiments/00003-stylegan2_ada_images-mirror-auto2-kimg1000-resumeffhq512/network-snapshot-000920.pkl\"\n",
    "with open(model_path, 'rb') as f:\n",
    "    architecture = pickle.load(f)\n",
    "    G = architecture['G_ema'].to(device)  # torch.nn.Module \n",
    "    D = architecture['D'].to(device)\n",
    "\n",
    "os.chdir('../2_Inversion/e4e/')"
   ]
  },
  {
   "cell_type": "code",
   "execution_count": 5,
   "metadata": {},
   "outputs": [],
   "source": [
    "def generate_from_sku(sku):\n",
    "    latent = latents_dict[sku][0].unsqueeze(0).to(device)\n",
    "    img = G.synthesis(latent)\n",
    "    img = (img.permute(0, 2, 3, 1) * 127.5 + 128).clamp(0, 255).to(torch.uint8)\n",
    "    img = Image.fromarray(img[0].cpu().numpy(), 'RGB')\n",
    "    return img\n",
    "\n",
    "def generate_from_latent(latent):\n",
    "    img = G.synthesis(latent)\n",
    "    img = (img.permute(0, 2, 3, 1) * 127.5 + 128).clamp(0, 255).to(torch.uint8)\n",
    "    img = Image.fromarray(img[0].cpu().numpy(), 'RGB')\n",
    "    return img"
   ]
  },
  {
   "cell_type": "markdown",
   "metadata": {},
   "source": [
    "### Generate all Images and save as generated images"
   ]
  },
  {
   "cell_type": "code",
   "execution_count": 6,
   "metadata": {},
   "outputs": [
    {
     "name": "stderr",
     "output_type": "stream",
     "text": [
      "  4%|▍         | 609/14060 [01:30<33:25,  6.71it/s]\n"
     ]
    },
    {
     "ename": "KeyboardInterrupt",
     "evalue": "",
     "output_type": "error",
     "traceback": [
      "\u001b[0;31m---------------------------------------------------------------------------\u001b[0m",
      "\u001b[0;31mKeyboardInterrupt\u001b[0m                         Traceback (most recent call last)",
      "Cell \u001b[0;32mIn[6], line 4\u001b[0m\n\u001b[1;32m      1\u001b[0m save_dir \u001b[38;5;241m=\u001b[39m \u001b[38;5;124mf\u001b[39m\u001b[38;5;124m\"\u001b[39m\u001b[38;5;132;01m{\u001b[39;00mDATA_PATH\u001b[38;5;132;01m}\u001b[39;00m\u001b[38;5;124m/Generated_Images/Zalando_Germany_Reconstructions/\u001b[39m\u001b[38;5;124m\"\u001b[39m\n\u001b[1;32m      3\u001b[0m \u001b[38;5;28;01mfor\u001b[39;00m sku \u001b[38;5;129;01min\u001b[39;00m tqdm(latents_dict\u001b[38;5;241m.\u001b[39mkeys()):\n\u001b[0;32m----> 4\u001b[0m     img \u001b[38;5;241m=\u001b[39m \u001b[43mgenerate_from_sku\u001b[49m\u001b[43m(\u001b[49m\u001b[43msku\u001b[49m\u001b[43m)\u001b[49m\n\u001b[1;32m      5\u001b[0m     img\u001b[38;5;241m.\u001b[39msave(\u001b[38;5;124mf\u001b[39m\u001b[38;5;124m\"\u001b[39m\u001b[38;5;132;01m{\u001b[39;00msave_dir\u001b[38;5;132;01m}\u001b[39;00m\u001b[38;5;132;01m{\u001b[39;00msku\u001b[38;5;132;01m}\u001b[39;00m\u001b[38;5;124m.jpg\u001b[39m\u001b[38;5;124m\"\u001b[39m)\n",
      "Cell \u001b[0;32mIn[5], line 5\u001b[0m, in \u001b[0;36mgenerate_from_sku\u001b[0;34m(sku)\u001b[0m\n\u001b[1;32m      3\u001b[0m img \u001b[38;5;241m=\u001b[39m G\u001b[38;5;241m.\u001b[39msynthesis(latent)\n\u001b[1;32m      4\u001b[0m img \u001b[38;5;241m=\u001b[39m (img\u001b[38;5;241m.\u001b[39mpermute(\u001b[38;5;241m0\u001b[39m, \u001b[38;5;241m2\u001b[39m, \u001b[38;5;241m3\u001b[39m, \u001b[38;5;241m1\u001b[39m) \u001b[38;5;241m*\u001b[39m \u001b[38;5;241m127.5\u001b[39m \u001b[38;5;241m+\u001b[39m \u001b[38;5;241m128\u001b[39m)\u001b[38;5;241m.\u001b[39mclamp(\u001b[38;5;241m0\u001b[39m, \u001b[38;5;241m255\u001b[39m)\u001b[38;5;241m.\u001b[39mto(torch\u001b[38;5;241m.\u001b[39muint8)\n\u001b[0;32m----> 5\u001b[0m img \u001b[38;5;241m=\u001b[39m Image\u001b[38;5;241m.\u001b[39mfromarray(\u001b[43mimg\u001b[49m\u001b[43m[\u001b[49m\u001b[38;5;241;43m0\u001b[39;49m\u001b[43m]\u001b[49m\u001b[38;5;241;43m.\u001b[39;49m\u001b[43mcpu\u001b[49m\u001b[43m(\u001b[49m\u001b[43m)\u001b[49m\u001b[38;5;241m.\u001b[39mnumpy(), \u001b[38;5;124m'\u001b[39m\u001b[38;5;124mRGB\u001b[39m\u001b[38;5;124m'\u001b[39m)\n\u001b[1;32m      6\u001b[0m \u001b[38;5;28;01mreturn\u001b[39;00m img\n",
      "\u001b[0;31mKeyboardInterrupt\u001b[0m: "
     ]
    }
   ],
   "source": [
    "save_dir = f\"{DATA_PATH}/Generated_Images/Zalando_Germany_Reconstructions/\"\n",
    "\n",
    "for sku in tqdm(latents_dict.keys()):\n",
    "    img = generate_from_sku(sku)\n",
    "    img.save(f\"{save_dir}{sku}.jpg\")"
   ]
  },
  {
   "cell_type": "code",
   "execution_count": null,
   "metadata": {},
   "outputs": [],
   "source": []
  },
  {
   "cell_type": "code",
   "execution_count": null,
   "metadata": {},
   "outputs": [],
   "source": []
  }
 ],
 "metadata": {
  "kernelspec": {
   "display_name": "master_thesis",
   "language": "python",
   "name": "python3"
  },
  "language_info": {
   "codemirror_mode": {
    "name": "ipython",
    "version": 3
   },
   "file_extension": ".py",
   "mimetype": "text/x-python",
   "name": "python",
   "nbconvert_exporter": "python",
   "pygments_lexer": "ipython3",
   "version": "3.10.1"
  }
 },
 "nbformat": 4,
 "nbformat_minor": 2
}
