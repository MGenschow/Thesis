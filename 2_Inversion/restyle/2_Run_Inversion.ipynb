{
 "cells": [
  {
   "cell_type": "code",
   "execution_count": 4,
   "metadata": {},
   "outputs": [],
   "source": [
    "# %%\n",
    "import os\n",
    "import platform\n",
    "if platform.system() == 'Darwin':\n",
    "    DATA_PATH = \"/Users/maltegenschow/Documents/Uni/Thesis/Data.nosync\"\n",
    "    ROOT_PATH = \"/Users/maltegenschow/Documents/Uni/Thesis/Thesis\"\n",
    "elif platform.system() == 'Linux':\n",
    "    DATA_PATH = \"/pfs/work7/workspace/scratch/tu_zxmav84-thesis/Data.nosync\"\n",
    "    ROOT_PATH = \"/pfs/work7/workspace/scratch/tu_zxmav84-thesis/Thesis\"\n",
    "\n",
    "current_wd = os.getcwd()"
   ]
  },
  {
   "cell_type": "code",
   "execution_count": 5,
   "metadata": {},
   "outputs": [],
   "source": [
    "os.chdir(f\"{ROOT_PATH}/restyle-encoder\")"
   ]
  },
  {
   "cell_type": "code",
   "execution_count": 6,
   "metadata": {},
   "outputs": [
    {
     "name": "stdout",
     "output_type": "stream",
     "text": [
      "Loading ReStyle e4e from checkpoint: /pfs/work7/workspace/scratch/tu_zxmav84-thesis/Data.nosync/Models/restyle/00005_snapshot_1200/checkpoints/best_model.pt\n",
      "Loading dataset for zalando_germany_encode\n",
      "100%|███████████████████████████████████████| 3515/3515 [52:32<00:00,  1.11it/s]\n",
      "Runtime 0.5312+-0.0209\n"
     ]
    }
   ],
   "source": [
    "CMD = f\"\"\"python scripts/inference_iterative.py \\\n",
    "--exp_dir={DATA_PATH}/Generated_Images/restyle/ \\\n",
    "--checkpoint_path={DATA_PATH}/Models/restyle/00005_snapshot_1200/checkpoints/best_model.pt \\\n",
    "--data_path={DATA_PATH}/Zalando_Germany_Dataset/dresses/images/e4e_images/all/ \\\n",
    "--test_batch_size=4 \\\n",
    "--test_workers=4 \\\n",
    "--n_iters_per_batch=5\n",
    "\"\"\"\n",
    "!{CMD}"
   ]
  }
 ],
 "metadata": {
  "kernelspec": {
   "display_name": "Python 3",
   "language": "python",
   "name": "python3"
  },
  "language_info": {
   "codemirror_mode": {
    "name": "ipython",
    "version": 3
   },
   "file_extension": ".py",
   "mimetype": "text/x-python",
   "name": "python",
   "nbconvert_exporter": "python",
   "pygments_lexer": "ipython3",
   "version": "3.7.12"
  }
 },
 "nbformat": 4,
 "nbformat_minor": 2
}
