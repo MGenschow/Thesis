{
 "cells": [
  {
   "cell_type": "code",
   "execution_count": null,
   "metadata": {},
   "outputs": [],
   "source": [
    "import pandas as pd\n",
    "import matplotlib.pyplot as plt\n",
    "import ast\n",
    "from glob import glob\n",
    "import numpy as np\n",
    "from PIL import Image"
   ]
  },
  {
   "cell_type": "markdown",
   "metadata": {},
   "source": [
    "## 1. Quantitative Evaluation"
   ]
  },
  {
   "cell_type": "code",
   "execution_count": null,
   "metadata": {},
   "outputs": [],
   "source": [
    "import os\n",
    "import platform\n",
    "if platform.system() == 'Darwin':\n",
    "    DATA_PATH = \"/Users/maltegenschow/Documents/Uni/Thesis/Data.nosync\"\n",
    "    ROOT_PATH = \"/Users/maltegenschow/Documents/Uni/Thesis/Thesis\"\n",
    "elif platform.system() == 'Linux':\n",
    "    DATA_PATH = \"/pfs/work7/workspace/scratch/tu_zxmav84-thesis/Data.nosync\"\n",
    "    ROOT_PATH = \"/pfs/work7/workspace/scratch/tu_zxmav84-thesis/Thesis\"\n",
    "\n",
    "current_wd = os.getcwd()"
   ]
  },
  {
   "cell_type": "code",
   "execution_count": null,
   "metadata": {},
   "outputs": [],
   "source": [
    "def read_timestamp_file(path):\n",
    "    with open(path, 'rb') as f:\n",
    "        lines = f.readlines()\n",
    "    data = []\n",
    "    for i in range(0, len(lines), 2):\n",
    "        if b'**Best**' in lines[i]:\n",
    "            continue\n",
    "        step_number = int(lines[i].decode().split('-')[1].strip().strip(','))\n",
    "        values = ast.literal_eval(lines[i+1].decode().strip())\n",
    "        values['Step'] = step_number\n",
    "        data.append(values)\n",
    "\n",
    "    df = pd.DataFrame(data)\n",
    "    df.set_index('Step', inplace=True)\n",
    "    return df"
   ]
  },
  {
   "cell_type": "code",
   "execution_count": null,
   "metadata": {},
   "outputs": [],
   "source": [
    "model_out_dir = f\"{DATA_PATH}/Models/restyle/00005_snapshot_1200\"\n",
    "log_path = f\"{model_out_dir}/checkpoints/timestamp.txt\"\n",
    "log = read_timestamp_file(log_path)\n",
    "min_loss = log.iloc[log.loss.argmin()]\n",
    "print(f\"Minimum Loss: {min_loss.loss} at step {min_loss.name}\")"
   ]
  },
  {
   "cell_type": "code",
   "execution_count": null,
   "metadata": {},
   "outputs": [],
   "source": [
    "fig, ax = plt.subplots(figsize = (15,5))\n",
    "plt.xticks(log.index)\n",
    "ax.set_xticklabels(log.index, rotation=90)\n",
    "plt.yscale('log')\n",
    "plt.plot(log.loss)\n",
    "fig.suptitle('Loss')\n",
    "plt.show()"
   ]
  },
  {
   "cell_type": "code",
   "execution_count": null,
   "metadata": {},
   "outputs": [],
   "source": [
    "fig, ax = plt.subplots(1,3, figsize = (20,5))\n",
    "ax[0].plot(log.loss_lpips)\n",
    "ax[0].set_title('LPIPS Loss')\n",
    "ax[0].set_xticks(log.index)\n",
    "ax[0].set_xticklabels(log.index, rotation=90)\n",
    "\n",
    "ax[1].plot(log.loss_moco)\n",
    "ax[1].set_title('Loss MOCO')\n",
    "ax[1].set_xticks(log.index)\n",
    "ax[1].set_xticklabels(log.index, rotation=90)\n",
    "\n",
    "ax[2].plot(log.loss_l2)\n",
    "ax[2].set_title('Loss L2')\n",
    "ax[2].set_xticks(log.index)\n",
    "ax[2].set_xticklabels(log.index, rotation=90)\n",
    "plt.show()"
   ]
  },
  {
   "cell_type": "markdown",
   "metadata": {},
   "source": [
    "### Qualitative Evaluation"
   ]
  },
  {
   "cell_type": "code",
   "execution_count": null,
   "metadata": {},
   "outputs": [],
   "source": [
    "real_images = glob(f\"{DATA_PATH}/Zalando_Germany_Dataset/dresses/images/e4e_images/all/*.jpg\")\n",
    "reconstructions_base_path = f\"{DATA_PATH}/Generated_Images/restyle/inference_results/\"\n",
    "\n",
    "\n",
    "# For now: Filter to exising images\n",
    "recons = glob(f\"{reconstructions_base_path}0/*.jpg\")\n",
    "recons = [elem.split('/')[-1].split('.')[0] for elem in recons]\n",
    "recons\n",
    "\n",
    "real_images = [elem for elem in real_images if elem.split('/')[-1].split('.')[0] in recons]\n",
    "len(real_images)"
   ]
  },
  {
   "cell_type": "code",
   "execution_count": null,
   "metadata": {},
   "outputs": [],
   "source": [
    "real_images = glob(f\"{DATA_PATH}/Zalando_Germany_Dataset/dresses/images/e4e_images/all/*.jpg\")\n",
    "reconstructions_base_path = f\"{DATA_PATH}/Generated_Images/restyle/inference_results/\"\n",
    "\n",
    "\n",
    "# For now: Filter to exising images\n",
    "recons = glob(f\"{reconstructions_base_path}4/*.jpg\")\n",
    "recons = [elem.split('/')[-1].split('.')[0] for elem in recons]\n",
    "real_images = [elem for elem in real_images if elem.split('/')[-1].split('.')[0] in recons]\n",
    "\n",
    "samples = list(np.random.choice(real_images, 10))\n",
    "#\n",
    "fig, ax = plt.subplots(len(samples), 6, figsize = (20, len(samples)*5))\n",
    "for i, sample in enumerate(samples):\n",
    "    for j in range(5):\n",
    "        ax[i, j].imshow(Image.open(f\"{reconstructions_base_path}{j}/{sample.split('/')[-1].split('.')[0]}.jpg\"))\n",
    "        ax[i, j].set_title(f'Restyle Step {j}')\n",
    "\n",
    "    ax[i, 5].imshow(Image.open(sample))\n",
    "    ax[i, 5].set_title('Original')\n",
    "\n",
    "for axs in ax.flatten():\n",
    "    axs.axis('off') \n",
    "\n",
    "plt.show()"
   ]
  },
  {
   "cell_type": "code",
   "execution_count": null,
   "metadata": {},
   "outputs": [],
   "source": []
  }
 ],
 "metadata": {
  "kernelspec": {
   "display_name": "Python 3",
   "language": "python",
   "name": "python3"
  },
  "language_info": {
   "codemirror_mode": {
    "name": "ipython",
    "version": 3
   },
   "file_extension": ".py",
   "mimetype": "text/x-python",
   "name": "python",
   "nbconvert_exporter": "python",
   "pygments_lexer": "ipython3",
   "version": "3.7.12"
  }
 },
 "nbformat": 4,
 "nbformat_minor": 2
}
