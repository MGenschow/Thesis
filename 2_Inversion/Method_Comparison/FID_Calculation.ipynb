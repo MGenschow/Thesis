{
 "cells": [
  {
   "cell_type": "markdown",
   "metadata": {},
   "source": [
    "### Setup Paths"
   ]
  },
  {
   "cell_type": "code",
   "execution_count": null,
   "metadata": {},
   "outputs": [],
   "source": [
    "import pickle\n",
    "import platform\n",
    "import os\n",
    "if platform.system() == 'Darwin':\n",
    "    DATA_PATH = \"/Users/maltegenschow/Documents/Uni/Thesis/Data.nosync\"\n",
    "    ROOT_PATH = \"/Users/maltegenschow/Documents/Uni/Thesis/Thesis\"\n",
    "elif platform.system() == 'Linux':\n",
    "    DATA_PATH = \"/pfs/work7/workspace/scratch/tu_zxmav84-thesis/Data.nosync\"\n",
    "    ROOT_PATH = \"/pfs/work7/workspace/scratch/tu_zxmav84-thesis/Thesis\"\n",
    "\n",
    "current_wd = os.getcwd()"
   ]
  },
  {
   "cell_type": "code",
   "execution_count": null,
   "metadata": {},
   "outputs": [],
   "source": [
    "# Real Data\n",
    "real_data_input = f\"{DATA_PATH}/Zalando_Germany_Dataset/dresses/images/e4e_images/all/\"\n",
    "real_data_features = f\"{DATA_PATH}/Metrics/FID/features_real_dataset.npz\"\n",
    "\n",
    "# SG2Ada 00003 Snapshot 920\n",
    "sg2_00003_input = f\"{DATA_PATH}/Generated_Images/SG2Ada/00003_snapshot_920/\"\n",
    "sg2_00003_features = f\"{DATA_PATH}/Metrics/FID/features_generated_00003.npz\"\n",
    "\n",
    "# SG2Ada 00005 Snapshot 1200\n",
    "sg2_00005_input = f\"{DATA_PATH}/Generated_Images/SG2Ada/00003_snapshot_1200/\"\n",
    "sg2_00005_features = f\"{DATA_PATH}/Metrics/FID/features_generated_00005.npz\"\n",
    "\n",
    "# e4e from 00003_snapshot_920\n",
    "e4e_00003_input = f\"{DATA_PATH}/Generated_Images/e4e/00003_snapshot_920/\"\n",
    "e4e_00003_features = f\"{DATA_PATH}/Metrics/FID/features_e4e_00003_snapshot_920.npz\"\n",
    "\n",
    "# e4e from 00005_snapshot_1200\n",
    "e4e_00005_input = f\"{DATA_PATH}/Generated_Images/e4e/00005_snapshot_1200/\"\n",
    "e4e_00005_features = f\"{DATA_PATH}/Metrics/FID/features_e4e_00005_snapshot_1200.npz\"\n",
    "\n",
    "# PTI\n",
    "pti_input =  f\"{DATA_PATH}/Generated_Images/PTI/\"\n",
    "pti_features = f\"{DATA_PATH}/Metrics/FID/features_pti.npz\"\n",
    "\n",
    "# Restyle\n",
    "restyle_input = f\"{DATA_PATH}/Generated_Images/restyle/inference_results/4/\"\n",
    "restyle_feautures = f\"{DATA_PATH}/Metrics/FID/features_restyle.npz\""
   ]
  },
  {
   "cell_type": "markdown",
   "metadata": {},
   "source": [
    "### Define FID Functions"
   ]
  },
  {
   "cell_type": "code",
   "execution_count": null,
   "metadata": {},
   "outputs": [],
   "source": [
    "def calculate_fid_features(input_path, output_path):\n",
    "    if not os.path.exists(output_path):\n",
    "        print(f\"Calculating Features for Images in folder {input_path}\")\n",
    "        CMD = f\"python -m pytorch_fid --save-stats {input_path} {output_path} --device cuda:0\"\n",
    "        !{CMD}\n",
    "    else:\n",
    "        print(\"Features already calculated and ready to use.\")"
   ]
  },
  {
   "cell_type": "code",
   "execution_count": null,
   "metadata": {},
   "outputs": [],
   "source": [
    "import subprocess\n",
    "def calculate_fid(dataset1, dataset2):\n",
    "    CMD = [\"python\", \"-m\", \"pytorch_fid\", dataset1, dataset2]\n",
    "    result = subprocess.run(CMD, stdout=subprocess.PIPE, text=True)\n",
    "    return float(result.stdout.split()[1])"
   ]
  },
  {
   "cell_type": "markdown",
   "metadata": {},
   "source": [
    "### Calculate all Feature Maps for FID Calculation"
   ]
  },
  {
   "cell_type": "code",
   "execution_count": null,
   "metadata": {},
   "outputs": [],
   "source": [
    "# Real Data\n",
    "calculate_fid_features(real_data_input, real_data_features)\n",
    "# SG2Ada 00003\n",
    "calculate_fid_features(sg2_00003_input ,sg2_00003_features)\n",
    "# SG2Ada 00005\n",
    "calculate_fid_features(sg2_00005_input ,sg2_00005_features)\n",
    "# e4e 00003\n",
    "calculate_fid_features(e4e_00003_input, e4e_00003_features)\n",
    "# e4e 00005\n",
    "calculate_fid_features(e4e_00005_input, e4e_00005_features)\n",
    "# PTI\n",
    "calculate_fid_features(pti_input, pti_features)\n",
    "# Restyle\n",
    "calculate_fid_features(restyle_input, restyle_feautures)"
   ]
  },
  {
   "cell_type": "markdown",
   "metadata": {},
   "source": [
    "### Calculate FIDs"
   ]
  },
  {
   "cell_type": "code",
   "execution_count": null,
   "metadata": {},
   "outputs": [],
   "source": [
    "fid_results = {}\n",
    "fid_results['SG2ADA_00003_snapshot_920'] = calculate_fid(real_data_features, sg2_00003_features)\n",
    "fid_results['SG2ADA_00005_snapshot_1200'] = calculate_fid(real_data_features, sg2_00005_features)\n",
    "fid_results['e4e_00003'] = calculate_fid(real_data_features, e4e_00003_features)\n",
    "fid_results['e4e_00005'] = calculate_fid(real_data_features, e4e_00005_features)\n",
    "fid_results['PTI'] = calculate_fid(real_data_features, pti_features)\n",
    "fid_results['Restyle'] = calculate_fid_features(real_data_features, restyle_feautures)\n",
    "fid_results"
   ]
  },
  {
   "cell_type": "code",
   "execution_count": null,
   "metadata": {},
   "outputs": [],
   "source": [
    "with open(f\"{DATA_PATH}/Metrics/FID/FID_Results.pkl\", 'wb') as f:\n",
    "    pickle.dump(fid_results, f, protocol=pickle.HIGHEST_PROTOCOL)"
   ]
  }
 ],
 "metadata": {
  "kernelspec": {
   "display_name": "Python 3",
   "language": "python",
   "name": "python3"
  },
  "language_info": {
   "codemirror_mode": {
    "name": "ipython",
    "version": 3
   },
   "file_extension": ".py",
   "mimetype": "text/x-python",
   "name": "python",
   "nbconvert_exporter": "python",
   "pygments_lexer": "ipython3",
   "version": "3.7.12"
  }
 },
 "nbformat": 4,
 "nbformat_minor": 2
}
