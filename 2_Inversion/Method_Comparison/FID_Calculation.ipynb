{
 "cells": [
  {
   "cell_type": "markdown",
   "metadata": {},
   "source": [
    "### Setup Paths"
   ]
  },
  {
   "cell_type": "code",
   "execution_count": 2,
   "metadata": {},
   "outputs": [],
   "source": [
    "import platform\n",
    "import os\n",
    "if platform.system() == 'Darwin':\n",
    "    DATA_PATH = \"/Users/maltegenschow/Documents/Uni/Thesis/Data.nosync\"\n",
    "    ROOT_PATH = \"/Users/maltegenschow/Documents/Uni/Thesis/Thesis\"\n",
    "elif platform.system() == 'Linux':\n",
    "    DATA_PATH = \"/pfs/work7/workspace/scratch/tu_zxmav84-thesis/Data.nosync\"\n",
    "    ROOT_PATH = \"/pfs/work7/workspace/scratch/tu_zxmav84-thesis/Thesis\"\n",
    "\n",
    "current_wd = os.getcwd()"
   ]
  },
  {
   "cell_type": "code",
   "execution_count": 3,
   "metadata": {},
   "outputs": [],
   "source": [
    "features_real_dataset_path = f\"{DATA_PATH}/Metrics/FID/features_real_dataset.npz\""
   ]
  },
  {
   "cell_type": "code",
   "execution_count": 4,
   "metadata": {},
   "outputs": [],
   "source": [
    "import subprocess\n",
    "def calculate_fid(dataset1, dataset2):\n",
    "    CMD = [\"python\", \"-m\", \"pytorch_fid\", dataset1, dataset2]\n",
    "    result = subprocess.run(CMD, stdout=subprocess.PIPE, text=True)\n",
    "    return float(result.stdout.split()[1])"
   ]
  },
  {
   "cell_type": "markdown",
   "metadata": {},
   "source": [
    "### FID for e4e from checkpoint 00003_snapshot_920"
   ]
  },
  {
   "cell_type": "code",
   "execution_count": 5,
   "metadata": {},
   "outputs": [
    {
     "name": "stdout",
     "output_type": "stream",
     "text": [
      "Features already calculated and ready to use.\n"
     ]
    }
   ],
   "source": [
    "e4e_00003_snapthos_920_fakes_path = f\"{DATA_PATH}/Generated_Images/e4e/00003_snapshot_920/\"\n",
    "features_e4e_00003_snaphot_920_path = f\"{DATA_PATH}/Metrics/FID/features_e4e_00003_snapshot_920.npz\"\n",
    "\n",
    "if not os.path.exists(features_e4e_00003_snaphot_920_path):\n",
    "    CMD = f\"python -m pytorch_fid --save-stats {e4e_00003_snapthos_920_fakes_path} {features_e4e_00003_snaphot_920_path}\"\n",
    "    !{CMD}\n",
    "else:\n",
    "    print(\"Features already calculated and ready to use.\")"
   ]
  },
  {
   "cell_type": "code",
   "execution_count": 8,
   "metadata": {},
   "outputs": [
    {
     "name": "stderr",
     "output_type": "stream",
     "text": [
      "/pfs/work7/workspace/scratch/tu_zxmav84-thesis/miniconda3/envs/thesis/lib/python3.7/site-packages/torch/cuda/__init__.py:52: UserWarning: CUDA initialization: Found no NVIDIA driver on your system. Please check that you have an NVIDIA GPU and installed a driver from http://www.nvidia.com/Download/index.aspx (Triggered internally at  /pytorch/c10/cuda/CUDAFunctions.cpp:100.)\n",
      "  return torch._C._cuda_getDeviceCount() > 0\n",
      "/pfs/work7/workspace/scratch/tu_zxmav84-thesis/miniconda3/envs/thesis/lib/python3.7/site-packages/torch/cuda/__init__.py:52: UserWarning: CUDA initialization: Found no NVIDIA driver on your system. Please check that you have an NVIDIA GPU and installed a driver from http://www.nvidia.com/Download/index.aspx (Triggered internally at  /pytorch/c10/cuda/CUDAFunctions.cpp:100.)\n",
      "  return torch._C._cuda_getDeviceCount() > 0\n"
     ]
    },
    {
     "name": "stdout",
     "output_type": "stream",
     "text": [
      "FID for e4e reconstructions using checkpoint 00003_snapshot_920: \n",
      "\t13.697600105815809\n",
      "FID for SG2Ada model from checkpoint 00003_snapshot_920 \n",
      "\t10.333990323969601\n",
      "Note: Reconstruction FID is calculated on 14k images while baseline FID is calculated on 50k images.\n"
     ]
    }
   ],
   "source": [
    "# Calculate FID:\n",
    "fid_e4e_00003 = calculate_fid(features_real_dataset_path, features_e4e_00003_snaphot_920_path)\n",
    "fid_00003 = calculate_fid(features_real_dataset_path, f\"{DATA_PATH}/Metrics/FID/features_generated_00003.npz\")\n",
    "print(f\"FID for e4e reconstructions using checkpoint 00003_snapshot_920: \\n\\t{fid_e4e_00003}\")\n",
    "print(f\"FID for SG2Ada model from checkpoint 00003_snapshot_920 \\n\\t{fid_00003}\")\n",
    "print(\"Note: Reconstruction FID is calculated on 14k images while baseline FID is calculated on 50k images.\")"
   ]
  },
  {
   "cell_type": "code",
   "execution_count": null,
   "metadata": {},
   "outputs": [],
   "source": []
  },
  {
   "cell_type": "code",
   "execution_count": null,
   "metadata": {},
   "outputs": [],
   "source": []
  }
 ],
 "metadata": {
  "kernelspec": {
   "display_name": "Python 3",
   "language": "python",
   "name": "python3"
  },
  "language_info": {
   "codemirror_mode": {
    "name": "ipython",
    "version": 3
   },
   "file_extension": ".py",
   "mimetype": "text/x-python",
   "name": "python",
   "nbconvert_exporter": "python",
   "pygments_lexer": "ipython3",
   "version": "3.7.12"
  }
 },
 "nbformat": 4,
 "nbformat_minor": 2
}
