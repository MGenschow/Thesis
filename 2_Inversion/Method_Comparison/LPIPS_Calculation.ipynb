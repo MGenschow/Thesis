{
 "cells": [
  {
   "cell_type": "code",
   "execution_count": 1,
   "metadata": {},
   "outputs": [],
   "source": [
    "from glob import glob\n",
    "from tqdm import tqdm\n",
    "import pickle\n",
    "import numpy as np"
   ]
  },
  {
   "cell_type": "markdown",
   "metadata": {},
   "source": [
    "### Define paths"
   ]
  },
  {
   "cell_type": "code",
   "execution_count": 2,
   "metadata": {},
   "outputs": [],
   "source": [
    "import platform\n",
    "import os\n",
    "\n",
    "if platform.system() == 'Darwin':\n",
    "    DATA_PATH = \"/Users/maltegenschow/Documents/Uni/Thesis/Data.nosync\"\n",
    "    ROOT_PATH = \"/Users/maltegenschow/Documents/Uni/Thesis/Thesis\"\n",
    "elif platform.system() == 'Linux':\n",
    "    DATA_PATH = \"/pfs/work7/workspace/scratch/tu_zxmav84-thesis/Data.nosync\"\n",
    "    ROOT_PATH = \"/pfs/work7/workspace/scratch/tu_zxmav84-thesis/Thesis\"\n",
    "\n",
    "current_wd = os.getcwd()"
   ]
  },
  {
   "cell_type": "code",
   "execution_count": 3,
   "metadata": {},
   "outputs": [],
   "source": [
    "real_path = f\"{DATA_PATH}/Zalando_Germany_Dataset/dresses/images/e4e_images/all/\"\n",
    "generated_path_00003 = f\"{DATA_PATH}/Generated_Images/e4e/00003_snapshot_920/\"\n",
    "generated_path_00005 = f\"{DATA_PATH}/Generated_Images/e4e/00005_snapshot_1200/\"\n",
    "generated_path_pti = f\"{DATA_PATH}/Generated_Images/PTI/\"\n",
    "generated_path_restyle = f\"{DATA_PATH}/Generated_Images/restyle/inference_results/4/\"\n",
    "\n",
    "scores_save_path_00003 = f\"{DATA_PATH}/Metrics/LPIPS/00003_snapshot_920/lpips_scores_00003_snapshot_920.pkl\"\n",
    "scores_save_path_00005 = f\"{DATA_PATH}/Metrics/LPIPS/00005_snapshot_1200/lpips_scores_00005_snapshot_1200.pkl\"\n",
    "scores_save_path_pti = f\"{DATA_PATH}/Metrics/LPIPS/PTI/lpips_scores_pti.pkl\"\n",
    "scores_save_path_restyle = f\"{DATA_PATH}/Metrics/LPIPS/Restyle/lpips_restyle_scores.pkl\""
   ]
  },
  {
   "cell_type": "markdown",
   "metadata": {},
   "source": [
    "### Setup LPIPS"
   ]
  },
  {
   "cell_type": "code",
   "execution_count": 4,
   "metadata": {},
   "outputs": [
    {
     "name": "stdout",
     "output_type": "stream",
     "text": [
      "Setting up [LPIPS] perceptual loss: trunk [alex], v[0.1], spatial [off]\n",
      "Loading model from: /pfs/work7/workspace/scratch/tu_zxmav84-thesis/miniconda3/envs/thesis/lib/python3.7/site-packages/lpips/weights/v0.1/alex.pth\n"
     ]
    }
   ],
   "source": [
    "import lpips\n",
    "import matplotlib.pyplot as plt\n",
    "loss_fn_alex = lpips.LPIPS(net='alex') # best forward scores\n",
    "loss_fn_alex = loss_fn_alex.to('cuda')"
   ]
  },
  {
   "cell_type": "code",
   "execution_count": 5,
   "metadata": {},
   "outputs": [],
   "source": [
    "def get_lpips(sku, generated_path, real_path):\n",
    "    real = lpips.im2tensor(lpips.load_image(f\"{real_path}{sku}\"))\n",
    "    fake = lpips.im2tensor(lpips.load_image(f\"{generated_path}{sku}\"))\n",
    "    fake = fake.cuda()\n",
    "    real = real.cuda()\n",
    "    score = loss_fn_alex.forward(real, fake)\n",
    "    return score.item()"
   ]
  },
  {
   "cell_type": "code",
   "execution_count": 6,
   "metadata": {},
   "outputs": [],
   "source": [
    "skus = glob(f\"{real_path}*.jpg\")\n",
    "skus = [elem.split('/')[-1] for elem in skus]"
   ]
  },
  {
   "cell_type": "markdown",
   "metadata": {},
   "source": [
    "### Calculate LPIPS Scores for e4e from 00003_snapshot_920"
   ]
  },
  {
   "cell_type": "code",
   "execution_count": 7,
   "metadata": {},
   "outputs": [],
   "source": [
    "if not os.path.exists(scores_save_path_00003):\n",
    "    lpips_scores_00003 = {sku: None for sku in skus}\n",
    "    for sku in tqdm(skus):\n",
    "        score = get_lpips(sku, generated_path_00003, real_path)\n",
    "        lpips_scores_00003[sku] = score\n",
    "\n",
    "    with open(scores_save_path_00003, 'wb') as handle:\n",
    "        pickle.dump(lpips_scores_00003, handle, protocol=pickle.HIGHEST_PROTOCOL)\n",
    "else: \n",
    "    with open(scores_save_path_00003, 'rb') as f:\n",
    "        lpips_scores_00003 = pickle.load(f)"
   ]
  },
  {
   "cell_type": "markdown",
   "metadata": {},
   "source": [
    "### Calculate LPIPS Scores for e4e from 00005_snapshot_1200"
   ]
  },
  {
   "cell_type": "code",
   "execution_count": 8,
   "metadata": {},
   "outputs": [],
   "source": [
    "if not os.path.exists(scores_save_path_00005):\n",
    "    lpips_scores_00005 = {sku: None for sku in skus}\n",
    "    for sku in tqdm(skus):\n",
    "        score = get_lpips(sku, generated_path_00005, real_path)\n",
    "        lpips_scores_00005[sku] = score\n",
    "\n",
    "    with open(scores_save_path_00005, 'wb') as handle:\n",
    "        pickle.dump(lpips_scores_00005, handle, protocol=pickle.HIGHEST_PROTOCOL)\n",
    "else: \n",
    "    with open(scores_save_path_00005, 'rb') as f:\n",
    "        lpips_scores_00005 = pickle.load(f)"
   ]
  },
  {
   "cell_type": "markdown",
   "metadata": {},
   "source": [
    "### Calculate LPIPS Scores for Restyle\n"
   ]
  },
  {
   "cell_type": "code",
   "execution_count": 9,
   "metadata": {},
   "outputs": [],
   "source": [
    "if not os.path.exists(scores_save_path_restyle):\n",
    "    lpips_scores_restyle = {sku: None for sku in skus}\n",
    "    for sku in tqdm(skus):\n",
    "        score = get_lpips(sku, generated_path_restyle, real_path)\n",
    "        lpips_scores_restyle[sku] = score\n",
    "\n",
    "    with open(scores_save_path_restyle, 'wb') as handle:\n",
    "        pickle.dump(lpips_scores_restyle, handle, protocol=pickle.HIGHEST_PROTOCOL)\n",
    "else: \n",
    "    with open(scores_save_path_restyle, 'rb') as f:\n",
    "        lpips_scores_restyle = pickle.load(f)"
   ]
  },
  {
   "cell_type": "markdown",
   "metadata": {},
   "source": [
    "### Calculate LPIPS Scores for PTI"
   ]
  },
  {
   "cell_type": "code",
   "execution_count": 10,
   "metadata": {},
   "outputs": [
    {
     "data": {
      "text/plain": [
       "500"
      ]
     },
     "execution_count": 10,
     "metadata": {},
     "output_type": "execute_result"
    }
   ],
   "source": [
    "skus = glob(f\"{generated_path_pti}*.jpg\")\n",
    "skus = [elem.split('/')[-1] for elem in skus]\n",
    "len(skus)"
   ]
  },
  {
   "cell_type": "code",
   "execution_count": 11,
   "metadata": {},
   "outputs": [],
   "source": [
    "if not os.path.exists(scores_save_path_pti):\n",
    "    lpips_scores_pti = {sku: None for sku in skus}\n",
    "    for sku in tqdm(skus):\n",
    "        score = get_lpips(sku, generated_path_pti, real_path)\n",
    "        lpips_scores_pti[sku] = score\n",
    "\n",
    "    with open(scores_save_path_pti, 'wb') as handle:\n",
    "        pickle.dump(lpips_scores_pti, handle, protocol=pickle.HIGHEST_PROTOCOL)\n",
    "else: \n",
    "    with open(scores_save_path_pti, 'rb') as f:\n",
    "        lpips_scores_pti = pickle.load(f)"
   ]
  },
  {
   "cell_type": "markdown",
   "metadata": {},
   "source": [
    "### Calculate Total LPIPS Scores"
   ]
  },
  {
   "cell_type": "code",
   "execution_count": 12,
   "metadata": {},
   "outputs": [
    {
     "data": {
      "text/plain": [
       "{'e4e_00003': 0.14481622185478593,\n",
       " 'e4e_00005': 0.11404780544934114,\n",
       " 'PTI': 0.050234128189273176,\n",
       " 'Restyle': 0.1137585677018397}"
      ]
     },
     "execution_count": 12,
     "metadata": {},
     "output_type": "execute_result"
    }
   ],
   "source": [
    "lpips_results = {}\n",
    "lpips_results['e4e_00003'] = np.mean(list(lpips_scores_00003.values()))\n",
    "lpips_results['e4e_00005'] = np.mean(list(lpips_scores_00005.values()))\n",
    "lpips_results['PTI'] = np.mean(list(lpips_scores_pti.values()))\n",
    "lpips_results['Restyle'] = np.mean(list(lpips_scores_restyle.values()))\n",
    "lpips_results"
   ]
  },
  {
   "cell_type": "code",
   "execution_count": 13,
   "metadata": {},
   "outputs": [],
   "source": [
    "with open(f\"{DATA_PATH}/Metrics/LPIPS/LPIPS_Results.pkl\", 'wb') as f:\n",
    "    pickle.dump(lpips_results, f, protocol=pickle.HIGHEST_PROTOCOL)"
   ]
  }
 ],
 "metadata": {
  "kernelspec": {
   "display_name": "Python 3",
   "language": "python",
   "name": "python3"
  },
  "language_info": {
   "codemirror_mode": {
    "name": "ipython",
    "version": 3
   },
   "file_extension": ".py",
   "mimetype": "text/x-python",
   "name": "python",
   "nbconvert_exporter": "python",
   "pygments_lexer": "ipython3",
   "version": "3.7.12"
  }
 },
 "nbformat": 4,
 "nbformat_minor": 2
}
