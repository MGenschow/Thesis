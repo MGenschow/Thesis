{
 "cells": [
  {
   "cell_type": "code",
   "execution_count": 2,
   "metadata": {},
   "outputs": [],
   "source": [
    "from glob import glob\n",
    "from tqdm import tqdm\n",
    "import pickle\n",
    "import numpy as np"
   ]
  },
  {
   "cell_type": "markdown",
   "metadata": {},
   "source": [
    "### Define paths"
   ]
  },
  {
   "cell_type": "code",
   "execution_count": 3,
   "metadata": {},
   "outputs": [],
   "source": [
    "import platform\n",
    "import os\n",
    "\n",
    "if platform.system() == 'Darwin':\n",
    "    DATA_PATH = \"/Users/maltegenschow/Documents/Uni/Thesis/Data.nosync\"\n",
    "    ROOT_PATH = \"/Users/maltegenschow/Documents/Uni/Thesis/Thesis\"\n",
    "elif platform.system() == 'Linux':\n",
    "    DATA_PATH = \"/pfs/work7/workspace/scratch/tu_zxmav84-thesis/Data.nosync\"\n",
    "    ROOT_PATH = \"/pfs/work7/workspace/scratch/tu_zxmav84-thesis/Thesis\"\n",
    "\n",
    "current_wd = os.getcwd()"
   ]
  },
  {
   "cell_type": "code",
   "execution_count": 4,
   "metadata": {},
   "outputs": [],
   "source": [
    "real_path = f\"{DATA_PATH}/Zalando_Germany_Dataset/dresses/images/e4e_images/all/\"\n",
    "generated_path_00003 = f\"{DATA_PATH}/Generated_Images/e4e/00003_snapshot_920/\"\n",
    "generate_path_00005 = f\"{DATA_PATH}/Generated_Images/e4e/00005_snapshot_1200/\"\n",
    "\n",
    "scores_save_path_00003 = f\"{DATA_PATH}/Metrics/LPIPS/00003_snapshot_920/lpips_scores_00003_snapshot_920\"\n",
    "scores_save_path_00005 = f\"{DATA_PATH}/Metrics/LPIPS/00005_snapshot_1200/lpips_scores_00005_snapshot_1200\""
   ]
  },
  {
   "cell_type": "markdown",
   "metadata": {},
   "source": [
    "### Setup LPIPS"
   ]
  },
  {
   "cell_type": "code",
   "execution_count": 5,
   "metadata": {},
   "outputs": [
    {
     "name": "stdout",
     "output_type": "stream",
     "text": [
      "Setting up [LPIPS] perceptual loss: trunk [alex], v[0.1], spatial [off]\n",
      "Loading model from: /pfs/work7/workspace/scratch/tu_zxmav84-thesis/miniconda3/envs/thesis/lib/python3.7/site-packages/lpips/weights/v0.1/alex.pth\n"
     ]
    }
   ],
   "source": [
    "import lpips\n",
    "import matplotlib.pyplot as plt\n",
    "loss_fn_alex = lpips.LPIPS(net='alex') # best forward scores\n",
    "loss_fn_alex = loss_fn_alex.to('cuda')"
   ]
  },
  {
   "cell_type": "code",
   "execution_count": 6,
   "metadata": {},
   "outputs": [],
   "source": [
    "def get_lpips(sku, generated_path, real_path):\n",
    "    real = lpips.im2tensor(lpips.load_image(f\"{real_path}{sku}\"))\n",
    "    fake = lpips.im2tensor(lpips.load_image(f\"{generated_path}{sku}\"))\n",
    "    fake = fake.cuda()\n",
    "    real = real.cuda()\n",
    "    score = loss_fn_alex.forward(real, fake)\n",
    "    return score.item()"
   ]
  },
  {
   "cell_type": "code",
   "execution_count": 7,
   "metadata": {},
   "outputs": [],
   "source": [
    "skus = glob(f\"{real_path}*.jpg\")\n",
    "skus = [elem.split('/')[-1] for elem in skus]"
   ]
  },
  {
   "cell_type": "markdown",
   "metadata": {},
   "source": [
    "### Calculate LPIPS Scores for e4e from 00003_snapshot_920"
   ]
  },
  {
   "cell_type": "code",
   "execution_count": 8,
   "metadata": {},
   "outputs": [],
   "source": [
    "if not os.path.exists(scores_save_path_00003):\n",
    "    lpips_scores_00003 = {sku: None for sku in skus}\n",
    "    for sku in tqdm(skus):\n",
    "        score = get_lpips(sku, generated_path_00003, real_path)\n",
    "        lpips_scores_00003[sku] = score\n",
    "\n",
    "    with open(scores_save_path_00003, 'wb') as handle:\n",
    "        pickle.dump(lpips_scores_00003, handle, protocol=pickle.HIGHEST_PROTOCOL)\n",
    "else: \n",
    "    with open(scores_save_path_00003, 'rb') as f:\n",
    "        lpips_scores_00003 = pickle.load(f)"
   ]
  },
  {
   "cell_type": "code",
   "execution_count": 9,
   "metadata": {},
   "outputs": [
    {
     "name": "stdout",
     "output_type": "stream",
     "text": [
      "Mean LPIPS scores: 0.14481622185478593\n"
     ]
    }
   ],
   "source": [
    "print(f\"Mean LPIPS scores: {np.mean(list(lpips_scores_00003.values()))}\")"
   ]
  },
  {
   "cell_type": "code",
   "execution_count": 26,
   "metadata": {},
   "outputs": [
    {
     "name": "stdout",
     "output_type": "stream",
     "text": [
      "Training Set:\n"
     ]
    },
    {
     "data": {
      "text/plain": [
       "0.14491837734383903"
      ]
     },
     "metadata": {},
     "output_type": "display_data"
    },
    {
     "name": "stdout",
     "output_type": "stream",
     "text": [
      "Test Set:\n"
     ]
    },
    {
     "data": {
      "text/plain": [
       "0.14389682245330823"
      ]
     },
     "metadata": {},
     "output_type": "display_data"
    }
   ],
   "source": [
    "# Differentiate in Training and Test set\n",
    "train_skus = glob(f\"{DATA_PATH}/Zalando_Germany_Dataset/dresses/images/e4e_images/train/*.jpg\")\n",
    "train_skus = [elem.split('/')[-1] for elem in train_skus]\n",
    "test_skus = glob(f\"{DATA_PATH}/Zalando_Germany_Dataset/dresses/images/e4e_images/test/*.jpg\")\n",
    "test_skus = [elem.split('/')[-1] for elem in test_skus]\n",
    "print(\"Training Set:\")\n",
    "display(np.mean(list({k:v for k,v in lpips_scores_00003.items() if k in train_skus}.values())))\n",
    "print(\"Test Set:\")\n",
    "display(np.mean(list({k:v for k,v in lpips_scores_00003.items() if k in test_skus}.values())))"
   ]
  },
  {
   "cell_type": "markdown",
   "metadata": {},
   "source": [
    "### Calculate LPIPS Scores for e4e from 00005_snapshot_1200"
   ]
  },
  {
   "cell_type": "code",
   "execution_count": null,
   "metadata": {},
   "outputs": [],
   "source": [
    "lpips_scores_00005 = {}\n",
    "for sku in tqdm(skus):\n",
    "    score = get_lpips(sku, generated_path_00005, real_path)\n",
    "    lpips_scores_00005[sku] = score\n",
    "\n",
    "with open(scores_save_path_00005, 'wb') as handle:\n",
    "    pickle.dump(lpips_scores_00005, handle, protocol=pickle.HIGHEST_PROTOCOL)\n",
    "\n",
    "print(f\"Mean LPIPS scores: {np.mean(list(lpips_scores_00005.values()))}\")"
   ]
  }
 ],
 "metadata": {
  "kernelspec": {
   "display_name": "Python 3",
   "language": "python",
   "name": "python3"
  },
  "language_info": {
   "codemirror_mode": {
    "name": "ipython",
    "version": 3
   },
   "file_extension": ".py",
   "mimetype": "text/x-python",
   "name": "python",
   "nbconvert_exporter": "python",
   "pygments_lexer": "ipython3",
   "version": "3.7.12"
  }
 },
 "nbformat": 4,
 "nbformat_minor": 2
}
